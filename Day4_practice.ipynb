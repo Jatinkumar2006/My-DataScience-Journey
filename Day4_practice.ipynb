{
  "cells": [
    {
      "cell_type": "markdown",
      "metadata": {
        "id": "view-in-github",
        "colab_type": "text"
      },
      "source": [
        "<a href=\"https://colab.research.google.com/github/Jatinkumar2006/My-DataScience-Journey/blob/main/Day4_practice.ipynb\" target=\"_parent\"><img src=\"https://colab.research.google.com/assets/colab-badge.svg\" alt=\"Open In Colab\"/></a>"
      ]
    },
    {
      "cell_type": "markdown",
      "metadata": {
        "id": "w6RlOAXV2PWh"
      },
      "source": [
        "### `Problem 1`: Write a program that will give you in hand monthly salary after deduction on CTC - HRA(10%), DA(5%), PF(3%) and taxes deduction as below:\n",
        "\n",
        "> Salary(Lakhs) : Tax(%)\n",
        "\n",
        "*   Below 5 : 0%\n",
        "*   5-10 : 10%\n",
        "*   10-20 : 20%\n",
        "*   aboove 20 : 30%"
      ]
    },
    {
      "cell_type": "code",
      "execution_count": null,
      "metadata": {
        "id": "7tMHvKYO2etI",
        "outputId": "8420d10e-7616-42ac-819f-9beda2b0783d"
      },
      "outputs": [
        {
          "name": "stdout",
          "output_type": "stream",
          "text": [
            "Monthly in-hand salary: ₹ 62000.0\n"
          ]
        }
      ],
      "source": [
        "c = float(input(\"Enter CTC in lakhs: \"))\n",
        "ctc = c * 100000  # Convert lakhs to rupees\n",
        "\n",
        "# Deduct HRA (10%), DA (5%), PF (3%)\n",
        "## m=ctc*(1-0.1-0.05-0.03)=ctc*0.82\n",
        "m = 0.82 * ctc\n",
        "\n",
        "# Apply tax on full CTC (not on m)\n",
        "if c < 5:\n",
        "    tax = 0\n",
        "elif c <= 10:\n",
        "    tax = 0.10 * ctc\n",
        "elif c <= 20:\n",
        "    tax = 0.20 * ctc\n",
        "else:\n",
        "    tax = 0.30 * ctc\n",
        "\n",
        "# Final in-hand salary after tax\n",
        "final = m - tax\n",
        "\n",
        "# Monthly in-hand\n",
        "print(\"Monthly in-hand salary: ₹\", round(final / 12, 2))\n"
      ]
    },
    {
      "cell_type": "markdown",
      "metadata": {
        "id": "tYzCGqwl2hfN"
      },
      "source": [
        "### `Problem 2`: Write a program that take a user input of three angles and will find out whether it can form a triangle or not."
      ]
    },
    {
      "cell_type": "code",
      "execution_count": null,
      "metadata": {
        "id": "FYEqln-I2kxV",
        "outputId": "9a11231c-2bd4-41e4-f5c1-9e43a1cff027"
      },
      "outputs": [
        {
          "name": "stdout",
          "output_type": "stream",
          "text": [
            "it is a triangle\n"
          ]
        }
      ],
      "source": [
        "a=float(input(\"enter angle:\"));\n",
        "b=float(input(\"enter angle:\"));\n",
        "c=float(input(\"enter angle:\"));\n",
        "if abs(a+b+c-180)<0.0001:\n",
        "    print(\"it is a triangle\");\n",
        "else :\n",
        "    print(\"not a triangle.\")"
      ]
    },
    {
      "cell_type": "markdown",
      "metadata": {
        "id": "5vEpPh8C2pE4"
      },
      "source": [
        "### `Problem 3`: Write a program that will take user input of cost price and selling price and determines whether its a loss or a profit."
      ]
    },
    {
      "cell_type": "code",
      "execution_count": null,
      "metadata": {
        "id": "jDwBXlkO2sfl",
        "outputId": "1c55c36b-ea7d-4094-d8e6-9129f03f5db7"
      },
      "outputs": [
        {
          "name": "stdout",
          "output_type": "stream",
          "text": [
            "profit\n"
          ]
        }
      ],
      "source": [
        "cp=float(input(\"enter cost price:\"));\n",
        "sp=float(input(\"enter selling price:\"));\n",
        "if(sp-cp>0):\n",
        "    print(\"profit\");\n",
        "else:\n",
        "    print(\"loss\")\n",
        "\n"
      ]
    },
    {
      "cell_type": "markdown",
      "metadata": {
        "id": "J_FG_cJW2ugT"
      },
      "source": [
        "### `Problem 4`: Write a menu-driven program -\n",
        "1. cm to ft\n",
        "2. km to miles\n",
        "3. USD to INR\n",
        "4. exit"
      ]
    },
    {
      "cell_type": "code",
      "execution_count": null,
      "metadata": {
        "id": "yBHhaCGQ2zpD",
        "outputId": "8ad49304-82b4-4a21-9b53-1561699ff9b5"
      },
      "outputs": [
        {
          "name": "stdout",
          "output_type": "stream",
          "text": [
            "feet value: 0.16404199475065617\n"
          ]
        }
      ],
      "source": [
        "o_n=int(input(\"Enter no. which conversion you want:\\n1. cm to ft\\n2. km to miles\\n3. USD to INR\\n4. exit\"));\n",
        "match(o_n):\n",
        "    case 1:\n",
        "        cm=float(input(\" cm value:\"))\n",
        "        feet=cm/30.48;\n",
        "        print(\"feet value:\",feet);\n",
        "    case 2:\n",
        "        km=float(input(\" km value:\"))\n",
        "        mile=km*0.621371;\n",
        "        print(\"mile value:\",mile);\n",
        "    case 3:\n",
        "        USD=float(input(\" USD:\"))\n",
        "        INR=USD*83.33;\n",
        "        print(\"INR value:\",INR);\n",
        "    case 4:\n",
        "        exit()"
      ]
    },
    {
      "cell_type": "markdown",
      "metadata": {
        "id": "LJJ30_Yw27ZU"
      },
      "source": [
        "### `Problem 5` - Exercise 12: Display Fibonacci series up to 10 terms.\n",
        "\n",
        "*Note: The Fibonacci Sequence is a series of numbers. The next number is found by adding up the two numbers before it. The first two numbers are 0 and 1. For example, 0, 1, 1, 2, 3, 5, 8, 13, 21. The next number in this series above is 13+21 = 34*"
      ]
    },
    {
      "cell_type": "code",
      "execution_count": null,
      "metadata": {
        "id": "ae_1rpe52-5R",
        "outputId": "e74b198b-317f-49ca-af56-812a809c94e6"
      },
      "outputs": [
        {
          "name": "stdout",
          "output_type": "stream",
          "text": [
            "0\n",
            "1\n",
            "1\n",
            "2\n",
            "3\n",
            "5\n"
          ]
        }
      ],
      "source": [
        "n=int(input(\"n:\"))\n",
        "a=0\n",
        "b=1\n",
        "i=0\n",
        "sum=0\n",
        "while i<n+1:\n",
        "    print(a)\n",
        "    sum=sum+a'\n",
        "    c=a+b\n",
        "    a=b\n",
        "    b=c\n",
        "    i+=1\n",
        "print(sum)"
      ]
    },
    {
      "cell_type": "markdown",
      "metadata": {
        "id": "pk_I_S4m3PT5"
      },
      "source": [
        "### `Problem 6` - Find the factorial of a given number.\n",
        "\n",
        "Write a program to use the loop to find the factorial of a given number.\n",
        "\n",
        "The factorial (symbol: `!`) means to multiply all whole numbers from the chosen number down to 1.\n",
        "\n",
        "For example: calculate the factorial of 5\n",
        "\n",
        "```bash\n",
        "5! = 5 × 4 × 3 × 2 × 1 = 120\n",
        "```\n",
        "\n",
        "Output:\n",
        "\n",
        "```bash\n",
        "120\n",
        "```"
      ]
    },
    {
      "cell_type": "code",
      "execution_count": null,
      "metadata": {
        "id": "lzXxHegx3Rkc",
        "outputId": "83cb4230-db2e-4991-b020-d14be3571be9"
      },
      "outputs": [
        {
          "name": "stdout",
          "output_type": "stream",
          "text": [
            "120\n"
          ]
        }
      ],
      "source": [
        "n=int(input())\n",
        "f=1\n",
        "for i in range(1,n+1):\n",
        "    f*=i\n",
        "print(f)\n",
        ""
      ]
    },
    {
      "cell_type": "markdown",
      "metadata": {
        "id": "-17IOi-g3UpU"
      },
      "source": [
        "### `Problem 7` - Reverse a given integer number.\n",
        "\n",
        "Example:\n",
        "\n",
        "`Input:`\n",
        "\n",
        "```bash\n",
        "76542\n",
        "```\n",
        "\n",
        "`Output:`\n",
        "\n",
        "```bash\n",
        "24567\n",
        "```"
      ]
    },
    {
      "cell_type": "code",
      "execution_count": null,
      "metadata": {
        "id": "wJwLpKCr3aVA",
        "outputId": "237ed5ce-b663-4b8f-edf4-2eeb384d905f"
      },
      "outputs": [
        {
          "name": "stdout",
          "output_type": "stream",
          "text": [
            "54321\n"
          ]
        }
      ],
      "source": [
        "\"\"\"n=input(\"enter  number:\");\n",
        "print(n[::-1])\"\"\"\n",
        "n = int(input(\"Enter a number: \"))\n",
        "rev = 0\n",
        "\n",
        "while n > 0:\n",
        "    digit = n % 10       # Get last digit\n",
        "    rev = rev * 10 + digit  # Add it to reverse\n",
        "    n = n // 10           # Remove last digit from n\n",
        "\n",
        "print(\"Reversed number:\", rev)\n",
        "\n",
        "\n"
      ]
    },
    {
      "cell_type": "markdown",
      "metadata": {
        "id": "-t8PJQaY3sHf"
      },
      "source": [
        "### `Problem 8`: Take a user input as integer N. Find out the sum from 1 to N. If any number if divisible by 5, then skip that number. And if the sum is greater than 300, don't need to calculate the sum further more. Print the final result. And don't use for loop to solve this problem.\n",
        "\n",
        "**Example 1:**\n",
        "\n",
        "`Input:`\n",
        "\n",
        "```bash\n",
        "30\n",
        "```\n",
        "\n",
        "`Output:`\n",
        "\n",
        "```bash\n",
        "276\n",
        "```"
      ]
    },
    {
      "cell_type": "code",
      "execution_count": null,
      "metadata": {
        "id": "GZB6mGMP3ujT",
        "outputId": "47d7f02a-f55d-4f34-de4b-0b6c9f8ec9f0"
      },
      "outputs": [
        {
          "name": "stdout",
          "output_type": "stream",
          "text": [
            "360\n"
          ]
        }
      ],
      "source": [
        "n = int(input(\"Enter n: \"))\n",
        "sum = 0\n",
        "i = 1\n",
        "\n",
        "while i <= n:\n",
        "    if i % 5 == 0:\n",
        "        i += 1\n",
        "        continue\n",
        "    sum += i\n",
        "    if sum > 300:\n",
        "        break\n",
        "    i += 1\n",
        "\n",
        "print(\"Final sum is:\", sum)\n"
      ]
    },
    {
      "cell_type": "markdown",
      "metadata": {
        "id": "Q7ggImeA3xm4"
      },
      "source": [
        "### `Problem 9`: Write a program that keeps on accepting a number from the user until the user enters Zero. Display the sum and average of all the numbers."
      ]
    },
    {
      "cell_type": "code",
      "execution_count": null,
      "metadata": {
        "id": "t_YDSZDe4Kdo",
        "outputId": "6fd48ca5-d4e9-4cfa-bd02-4d901965779c"
      },
      "outputs": [
        {
          "name": "stdout",
          "output_type": "stream",
          "text": [
            "sum: 14\n"
          ]
        }
      ],
      "source": [
        "sum=0\n",
        "i=0\n",
        "while True:\n",
        "    n=int(input())\n",
        "    if(n==0):\n",
        "        break\n",
        "    else:\n",
        "        sum+=n\n",
        "    i+=1\n",
        "print(\"sum:\",sum)\n",
        "print(\"avg\",sum/i)"
      ]
    },
    {
      "cell_type": "markdown",
      "metadata": {
        "id": "6EhvEMvm4R7s"
      },
      "source": [
        "###`Problem 9`: Write a program which will find all such numbers which are divisible by 7 but are not a multiple of 5, between 2000 and 3200 (both included). The numbers obtained should be printed in a comma-separated sequence on a single line."
      ]
    },
    {
      "cell_type": "code",
      "execution_count": null,
      "metadata": {
        "id": "d6RgP1B34T6c",
        "outputId": "c5807a08-d255-4124-e0da-1c84c3681a5c"
      },
      "outputs": [
        {
          "name": "stdout",
          "output_type": "stream",
          "text": [
            "2002,2009,2016,2023,2037,2044,2051,2058,2072,2079,2086,2093,2107,2114,2121,2128,2142,2149,2156,2163,2177,2184,2191,2198,2212,2219,2226,2233,2247,2254,2261,2268,2282,2289,2296,2303,2317,2324,2331,2338,2352,2359,2366,2373,2387,2394,2401,2408,2422,2429,2436,2443,2457,2464,2471,2478,2492,2499,2506,2513,2527,2534,2541,2548,2562,2569,2576,2583,2597,2604,2611,2618,2632,2639,2646,2653,2667,2674,2681,2688,2702,2709,2716,2723,2737,2744,2751,2758,2772,2779,2786,2793,2807,2814,2821,2828,2842,2849,2856,2863,2877,2884,2891,2898,2912,2919,2926,2933,2947,2954,2961,2968,2982,2989,2996,3003,3017,3024,3031,3038,3052,3059,3066,3073,3087,3094,3101,3108,3122,3129,3136,3143,3157,3164,3171,3178,3192,3199,"
          ]
        }
      ],
      "source": [
        "for i in range(2000,3200+1):\n",
        "    if(i%7==0 and i%5!=0):\n",
        "        print(i,end=\",\")  #here is isssue that , is laso added to the last number also so we can you below code also\n",
        "\"\"\"result = []\n",
        "\n",
        "for i in range(2000, 3201):\n",
        "    if i % 7 == 0 and i % 5 != 0:\n",
        "        result.append(str(i))\n",
        "\n",
        "print(\",\".join(result))\n",
        "\"\"\""
      ]
    },
    {
      "cell_type": "markdown",
      "metadata": {
        "id": "tYvmRR-G4Vp4"
      },
      "source": [
        "###`Problem 10`: Write a program, which will find all such numbers between 1000 and 3000 (both included) such that each digit of the number is an even number. The numbers obtained should be printed in a space-separated sequence on a single line.\n",
        "\n"
      ]
    },
    {
      "cell_type": "code",
      "execution_count": null,
      "metadata": {
        "id": "k6Gs1kIf4k19"
      },
      "outputs": [],
      "source": [
        "result = []\n",
        "\n",
        "for num in range(1000, 3001):\n",
        "    num_str = str(num)\n",
        "    if all(int(digit) % 2 == 0 for digit in num_str):\n",
        "        result.append(num_str)\n",
        "\n",
        "print(\" \".join(result))\n"
      ]
    },
    {
      "cell_type": "markdown",
      "metadata": {
        "id": "GV18IINT4mf5"
      },
      "source": [
        "###`Problem 11`: A robot moves in a plane starting from the original point (0,0). The robot can move toward UP, DOWN, LEFT and RIGHT with a given steps.\n",
        "The trace of robot movement is shown as the following:\n",
        "```\n",
        "UP 5\n",
        "DOWN 3\n",
        "LEFT 3\n",
        "RIGHT 2\n",
        "!\n",
        "```\n",
        "> The numbers after the direction are steps.\n",
        "\n",
        "> `!` means robot stop there.\n",
        "\n",
        "**Please write a program to compute the distance from current position after a sequence of movement and original point.**\n",
        "\n",
        "*If the distance is a float, then just print the nearest integer.*\n",
        "\n",
        "Example:\n",
        "\n",
        "`Input`:\n",
        "```\n",
        "UP 5\n",
        "DOWN 3\n",
        "LEFT 3\n",
        "RIGHT 2\n",
        "!\n",
        "```\n",
        "`Output`:\n",
        "```\n",
        "2\n",
        "```"
      ]
    },
    {
      "cell_type": "code",
      "execution_count": null,
      "metadata": {
        "id": "6UNMC2aR4w5x",
        "outputId": "75cf5d56-9dcf-4c16-8c4e-fd63d2ad41f7"
      },
      "outputs": [
        {
          "name": "stdout",
          "output_type": "stream",
          "text": [
            "17\n"
          ]
        }
      ],
      "source": [
        "import math  # Required to calculate square root for distance\n",
        "\n",
        "x = 0\n",
        "y = 0\n",
        "\n",
        "while True:\n",
        "    move = input().strip()  # Take input and remove extra spaces\n",
        "\n",
        "    if move == '!':  # Stop condition\n",
        "        break\n",
        "\n",
        "    direction, steps = move.split()  # Split into direction and step  #packing unpacking concept [\"up\",5]  direction alg step alg\n",
        "    steps = int(steps)  # Convert steps to integer\n",
        "\n",
        "    # Movement logic based on direction\n",
        "    if direction.upper() == \"UP\":\n",
        "        y += steps\n",
        "    elif direction.upper() == \"DOWN\":\n",
        "        y -= steps\n",
        "    elif direction.upper() == \"LEFT\":\n",
        "        x -= steps\n",
        "    elif direction.upper() == \"RIGHT\":\n",
        "        x += steps\n",
        "distance = math.sqrt(x**2 + y**2)  # Pythagoras theorem\n",
        "print(round(distance))  # Round to nearest integer\n"
      ]
    },
    {
      "cell_type": "markdown",
      "metadata": {
        "id": "3fsAIAhK5GYY"
      },
      "source": [
        "###`Problem 12`:Write a program to print whether a given number is a prime number or not"
      ]
    },
    {
      "cell_type": "code",
      "execution_count": null,
      "metadata": {
        "id": "j6y91lxy5LZs",
        "outputId": "9f960e12-02ef-4f8a-e2d8-be7599ca4bc4"
      },
      "outputs": [
        {
          "name": "stdout",
          "output_type": "stream",
          "text": [
            "Not a prime number\n"
          ]
        }
      ],
      "source": [
        "num = int(input(\"Enter a number: \"))\n",
        "\n",
        "if num <= 1:\n",
        "    print(\"Not a prime number\")\n",
        "else:\n",
        "    for i in range(2, num):\n",
        "        if num % i == 0:\n",
        "            print(\"Not a prime number\")\n",
        "            break\n",
        "    else:\n",
        "        print(\"It is a prime number\")\n"
      ]
    },
    {
      "cell_type": "markdown",
      "metadata": {
        "id": "asAbmbK-5NHv"
      },
      "source": [
        "###`Problem 13`:Print all the Armstrong numbers in a given range.\n",
        "Range will be provided by the user<br>\n",
        "Armstrong number is a number that is equal to the sum of cubes of its digits. For example 0, 1, 153, 370, 371 and 407 are the Armstrong numbers."
      ]
    },
    {
      "cell_type": "code",
      "execution_count": null,
      "metadata": {
        "id": "PZuI67pm5jCT",
        "outputId": "46a4fb1b-2fdd-49b3-c429-c3b8c83e3495"
      },
      "outputs": [
        {
          "name": "stdout",
          "output_type": "stream",
          "text": [
            "Armstrong numbers are:\n",
            "153 370 371 407 "
          ]
        }
      ],
      "source": [
        "start = int(input(\"Enter start: \"))\n",
        "end = int(input(\"Enter end: \"))\n",
        "\n",
        "print(\"Armstrong numbers are:\")\n",
        "\n",
        "for num in range(start, end + 1):\n",
        "    sum = 0\n",
        "    temp = num\n",
        "    while temp > 0:\n",
        "        digit = temp % 10\n",
        "        sum += digit ** 3  # Only works correctly for 3-digit numbers\n",
        "        temp //= 10\n",
        "    if sum == num:\n",
        "        print(num, end=\" \")\n"
      ]
    },
    {
      "cell_type": "markdown",
      "metadata": {
        "id": "ClCQZMqT7gK0"
      },
      "source": [
        "###`Problem 14`:Calculate the angle between the hour hand and minute hand.\n",
        "\n",
        "Note: There can be two angles between hands; we need to print a minimum of two. Also, we need to print the floor of the final result angle. For example, if the final angle is 10.61, we need to print 10.\n",
        "\n",
        "Input:<br>\n",
        "H = 9 , M = 0<br>\n",
        "Output:<br>\n",
        "90<br>\n",
        "Explanation:<br>\n",
        "The minimum angle between hour and minute\n",
        "hand when the time is 9 is 90 degress."
      ]
    },
    {
      "cell_type": "code",
      "execution_count": null,
      "metadata": {
        "id": "tNBTCZML7jy_",
        "outputId": "3efbe0df-3e2a-4f24-de90-9595a1b6fceb"
      },
      "outputs": [
        {
          "name": "stdout",
          "output_type": "stream",
          "text": [
            "Minimum angle between hands (in degrees): 111\n"
          ]
        }
      ],
      "source": [
        "import math\n",
        "\n",
        "H = int(input(\"Enter hour (0-12): \"))\n",
        "M = int(input(\"Enter minutes (0-59): \"))\n",
        "\n",
        "#  Concept:\n",
        "# At any given time:\n",
        "#    Hour hand moves 0.5° per minute\n",
        "#       Because: 30° per hour = 30 / 60 = 0.5\n",
        "#    Minute hand moves 6° per minute\n",
        "#        Because: 360° full circle / 60 minutes = 6\n",
        "\n",
        "# Formula to calculate angle between both hands:\n",
        "# Angle = |(30 × H + 0.5 × M) - (6 × M)|\n",
        "# Then take:\n",
        "# Minimum angle = min(Angle, 360 - Angle)\n",
        "\n",
        "#  angle moved by hour hand\n",
        "hour_angle = 30 * H + 0.5 * M\n",
        "\n",
        "#  angle moved by minute hand\n",
        "minute_angle = 6 * M\n",
        "\n",
        "# absolute difference between both\n",
        "angle = abs(hour_angle - minute_angle)\n",
        "\n",
        "# smaller of the two possible angles\n",
        "final_angle = min(angle, 360 - angle)\n",
        "\n",
        "print(\"Minimum angle between hands (in degrees):\", math.floor(final_angle))\n"
      ]
    },
    {
      "cell_type": "markdown",
      "metadata": {
        "id": "GwacF9Co72Qc"
      },
      "source": [
        "###`Problem 15`:Given two rectangles, find if the given two rectangles overlap or not. A rectangle is denoted by providing the x and y coordinates of two points: the left top corner and the right bottom corner of the rectangle. Two rectangles sharing a side are considered overlapping. (L1 and R1 are the extreme points of the first rectangle and L2 and R2 are the extreme points of the second rectangle).\n",
        "\n",
        "Note: It may be assumed that the rectangles are parallel to the coordinate axis.\n",
        "\n",
        "<img src='https://www.geeksforgeeks.org/wp-content/uploads/rectanglesOverlap.png' width='300' height='200'>"
      ]
    },
    {
      "cell_type": "code",
      "execution_count": null,
      "metadata": {
        "id": "6rrw_lpH78Rs",
        "outputId": "f606cd9b-a09b-45e4-8bec-7be165f976b0"
      },
      "outputs": [
        {
          "name": "stdout",
          "output_type": "stream",
          "text": [
            "Rectangles do NOT overlap \n"
          ]
        }
      ],
      "source": [
        "# Rectangle 1\n",
        "x1 = int(input(\"Enter L1.x (top-left x of Rect1): \"))\n",
        "y1 = int(input(\"Enter L1.y (top-left y of Rect1): \"))\n",
        "x2 = int(input(\"Enter R1.x (bottom-right x of Rect1): \"))\n",
        "y2 = int(input(\"Enter R1.y (bottom-right y of Rect1): \"))\n",
        "\n",
        "# Rectangle 2\n",
        "x3 = int(input(\"Enter L2.x (top-left x of Rect2): \"))\n",
        "y3 = int(input(\"Enter L2.y (top-left y of Rect2): \"))\n",
        "x4 = int(input(\"Enter R2.x (bottom-right x of Rect2): \"))\n",
        "y4 = int(input(\"Enter R2.y (bottom-right y of Rect2): \"))\n",
        "\n",
        "# Check for non-overlap\n",
        "if x2 < x3 or x4 < x1 or y2 > y3 or y4 > y1:\n",
        "    print(\"Rectangles do NOT overlap \")\n",
        "else:\n",
        "    print(\"Rectangles OVERLAP \")\n"
      ]
    }
  ],
  "metadata": {
    "colab": {
      "provenance": [],
      "include_colab_link": true
    },
    "kernelspec": {
      "display_name": "Python 3",
      "name": "python3"
    },
    "language_info": {
      "codemirror_mode": {
        "name": "ipython",
        "version": 3
      },
      "file_extension": ".py",
      "mimetype": "text/x-python",
      "name": "python",
      "nbconvert_exporter": "python",
      "pygments_lexer": "ipython3",
      "version": "3.12.10"
    }
  },
  "nbformat": 4,
  "nbformat_minor": 0
}