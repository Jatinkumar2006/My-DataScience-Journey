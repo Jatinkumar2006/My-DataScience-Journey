{
  "nbformat": 4,
  "nbformat_minor": 0,
  "metadata": {
    "colab": {
      "provenance": [],
      "authorship_tag": "ABX9TyN2bneJIcuThFtlzv2nR8V8",
      "include_colab_link": true
    },
    "kernelspec": {
      "name": "python3",
      "display_name": "Python 3"
    },
    "language_info": {
      "name": "python"
    }
  },
  "cells": [
    {
      "cell_type": "markdown",
      "metadata": {
        "id": "view-in-github",
        "colab_type": "text"
      },
      "source": [
        "<a href=\"https://colab.research.google.com/github/Jatinkumar2006/My-DataScience-Journey/blob/main/Day2_Pythonbasics.ipynb\" target=\"_parent\"><img src=\"https://colab.research.google.com/assets/colab-badge.svg\" alt=\"Open In Colab\"/></a>"
      ]
    },
    {
      "cell_type": "markdown",
      "source": [
        "Various iterables in python\n",
        "\n",
        "\n",
        "*   range\n",
        "*   list\n",
        "*   tuple\n",
        "*   str\n",
        "*   set\n",
        "*   dict\n",
        "\n",
        "\n",
        "\n",
        "\n",
        "\n"
      ],
      "metadata": {
        "id": "2hRDabeSZWDc"
      }
    },
    {
      "cell_type": "markdown",
      "source": [
        "\n",
        "\n",
        "---\n",
        "\n"
      ],
      "metadata": {
        "id": "VL0VwppUam0t"
      }
    },
    {
      "cell_type": "markdown",
      "source": [
        "range\n",
        "\n",
        "\n",
        "*   range is a class and immutable sequence.\n",
        "*   it can contain only int type values , elements are indexed and 0 based counting index.\n",
        "*   supports negative indexing also.\n",
        "\n",
        "\n",
        "\n",
        "\n"
      ],
      "metadata": {
        "id": "XdgckuL0ZwUw"
      }
    },
    {
      "cell_type": "code",
      "execution_count": null,
      "metadata": {
        "colab": {
          "base_uri": "https://localhost:8080/"
        },
        "id": "iA6EC609Wq_X",
        "outputId": "91c85e00-77a4-49d9-9406-f0fc99d4b92c"
      },
      "outputs": [
        {
          "output_type": "stream",
          "name": "stdout",
          "text": [
            "range(1, 10, 2)\n",
            "[1, 3, 5, 7, 9]\n",
            "(1, 3, 5, 7, 9)\n",
            "{1, 3, 5, 7, 9}\n",
            "[10, 8, 6, 4, 2]\n",
            "1\n",
            "9\n",
            "2 4 6 8 "
          ]
        }
      ],
      "source": [
        "# range(beg,end,step)-------------[beg,end)    beg--included      end---excluded\n",
        "#range(x)    here beg=0 by default end=x   step=1 by default\n",
        "print(range(1,10,2))\n",
        "print(list(range(1,10,2)))\n",
        "print(tuple(range(1,10,2)))\n",
        "print(set(range(1,10,2)))\n",
        "print(list(range(10,1,-2)))\n",
        "r=range(1,10,2)\n",
        "print(r[0])\n",
        "print(r[-1])\n",
        "\n",
        "for i in range(2, 10, 2):\n",
        "    print(i, end=\" \")"
      ]
    },
    {
      "cell_type": "markdown",
      "source": [
        "list\n",
        "\n",
        "*   list is a class and a iterable sequence also it is mutable and growable.\n",
        "*   list can store hetrogenous.\n",
        "*   list elements are indexed and supports negative indexing."
      ],
      "metadata": {
        "id": "vJzbMO-Cgs01"
      }
    },
    {
      "cell_type": "code",
      "source": [
        "#accessing list elements\n",
        "l1=[50,20,80,5+6j,True,\"abc\"]\n",
        "print(l1)\n",
        "print(l1[0])\n",
        "print(l1[1],l1[-1])\n",
        "\n",
        "#access using loop\n",
        "for i in l1:\n",
        "  print(i)\n",
        "\n",
        "l2=[] #empty list\n",
        "print(l2)"
      ],
      "metadata": {
        "colab": {
          "base_uri": "https://localhost:8080/"
        },
        "id": "bx8iZlajhPYo",
        "outputId": "06b909f9-9536-4ba7-ccc6-f016655576de"
      },
      "execution_count": null,
      "outputs": [
        {
          "output_type": "stream",
          "name": "stdout",
          "text": [
            "[50, 20, 80, (5+6j), True, 'abc']\n",
            "50\n",
            "20 abc\n",
            "50\n",
            "20\n",
            "80\n",
            "(5+6j)\n",
            "True\n",
            "abc\n",
            "[]\n"
          ]
        }
      ]
    },
    {
      "cell_type": "markdown",
      "source": [
        "# operations on list\n"
      ],
      "metadata": {
        "id": "iXBwYsF7Dz-V"
      }
    },
    {
      "cell_type": "code",
      "source": [
        "l3=[50,20,30,80,10,60,40]\n",
        "print(l3)\n",
        "\n",
        "#deleting and element\n",
        "del(l3[4])\n",
        "print(l3)\n",
        "\n",
        "\n",
        "#edit an element\n",
        "l3[0]=100\n",
        "print(l3)"
      ],
      "metadata": {
        "colab": {
          "base_uri": "https://localhost:8080/"
        },
        "id": "odHp_kUZipKp",
        "outputId": "6483f270-9c83-4b3a-a7ec-9baa70bb753e"
      },
      "execution_count": null,
      "outputs": [
        {
          "output_type": "stream",
          "name": "stdout",
          "text": [
            "[50, 20, 30, 80, 10, 60, 40]\n",
            "[50, 20, 30, 80, 60, 40]\n",
            "[100, 20, 30, 80, 60, 40]\n"
          ]
        }
      ]
    },
    {
      "cell_type": "code",
      "source": [
        "#add new element in list\n",
        "#list.append(value) -- is used to add an element in the last of the list\n",
        "l=[10,20,30,40,50]\n",
        "print(l)\n",
        "l.append(60)\n",
        "print(l)\n",
        "l.append(250)\n",
        "print(l)\n",
        "\n",
        "\n",
        "#list.insert(index,value)  -- is used to add element at a specific index in the list and the reamining elements are shift forward.\n",
        "age=[12,23,43,17,29,10]\n",
        "print(age)\n",
        "age.insert(2,59);\n",
        "print(age)"
      ],
      "metadata": {
        "colab": {
          "base_uri": "https://localhost:8080/"
        },
        "id": "3_t2lWk5D199",
        "outputId": "d07a0618-ab7c-4e16-cec0-3b81c3208a92"
      },
      "execution_count": 3,
      "outputs": [
        {
          "output_type": "stream",
          "name": "stdout",
          "text": [
            "[10, 20, 30, 40, 50]\n",
            "[10, 20, 30, 40, 50, 60]\n",
            "[10, 20, 30, 40, 50, 60, 250]\n",
            "[12, 23, 43, 17, 29, 10]\n",
            "[12, 23, 59, 43, 17, 29, 10]\n"
          ]
        }
      ]
    },
    {
      "cell_type": "markdown",
      "source": [
        "#Some built in methods  for list"
      ],
      "metadata": {
        "id": "LhTMm8GAJFpW"
      }
    },
    {
      "cell_type": "code",
      "source": [
        "age=[12,23,43,17,29,10]\n",
        "print(age)\n",
        "\n",
        "#length of list\n",
        "print(len(age))\n",
        "\n",
        "#minimum value in list\n",
        "print(min(age))\n",
        "\n",
        "#maximum value in list\n",
        "print(max(age))\n",
        "\n",
        "#sum of all elements in list\n",
        "print(sum(age))\n",
        "\n",
        "#sort -- don't change the list itself instead make a copy of it.\n",
        "print(sorted(age))\n",
        "print(age)\n",
        "\n",
        "#reverse -- don't change the list itself instead make a copy of it.\n",
        "print(list(reversed(age)))\n",
        "\n",
        "age.reverse( )  # it reversed the list permenantly\n",
        "print(age)\n",
        "\n"
      ],
      "metadata": {
        "colab": {
          "base_uri": "https://localhost:8080/"
        },
        "id": "AEm4yyL2JML5",
        "outputId": "f385c4f1-ff38-4f5c-a8d5-76b75e0649af"
      },
      "execution_count": 10,
      "outputs": [
        {
          "output_type": "stream",
          "name": "stdout",
          "text": [
            "[12, 23, 43, 17, 29, 10]\n",
            "6\n",
            "10\n",
            "43\n",
            "134\n",
            "[10, 12, 17, 23, 29, 43]\n",
            "[12, 23, 43, 17, 29, 10]\n",
            "[10, 29, 17, 43, 23, 12]\n",
            "[10, 29, 17, 43, 23, 12]\n"
          ]
        }
      ]
    },
    {
      "cell_type": "markdown",
      "source": [
        "#slicing operator"
      ],
      "metadata": {
        "id": "t12tITWxL2-6"
      }
    },
    {
      "cell_type": "code",
      "source": [
        "#list[beg:end:step]\n",
        "l1=[20,40,10,30,60,50]\n",
        "#by default step=1\n",
        "print(l1[2:6:2]);\n",
        "print(l1[4:0:-1]);\n",
        "\n",
        "#reverse list\n",
        "print(l1[::-1])"
      ],
      "metadata": {
        "colab": {
          "base_uri": "https://localhost:8080/"
        },
        "id": "xBI6IXs4L-_S",
        "outputId": "c251b843-4758-4a90-868f-a51d33e50400"
      },
      "execution_count": 15,
      "outputs": [
        {
          "output_type": "stream",
          "name": "stdout",
          "text": [
            "[10, 60]\n",
            "[60, 30, 10, 40]\n",
            "[50, 60, 30, 10, 40, 20]\n"
          ]
        }
      ]
    },
    {
      "cell_type": "markdown",
      "source": [
        "#list of list\n"
      ],
      "metadata": {
        "id": "hQ6o-qOfYo_r"
      }
    },
    {
      "cell_type": "code",
      "source": [
        "l1=[[1,2,3],[4,5,6],[7,8,9]]\n",
        "print(l1[0])\n",
        "print(l1[0][1])"
      ],
      "metadata": {
        "colab": {
          "base_uri": "https://localhost:8080/"
        },
        "id": "Bn1M8lvMYrvs",
        "outputId": "399ac5d1-78d6-4162-bd99-7be8e84bb901"
      },
      "execution_count": 17,
      "outputs": [
        {
          "output_type": "stream",
          "name": "stdout",
          "text": [
            "[1, 2, 3]\n",
            "2\n"
          ]
        }
      ]
    },
    {
      "cell_type": "code",
      "source": [
        "#remove an element from list\n",
        "l1=[20,40,10,30,20,60,40,50]\n",
        "print(l1)\n",
        "l1.remove(40)  #remove only first accurence of an element\n",
        "print(l1)\n",
        "\n",
        "l1.pop()       # it remove last element from list\n",
        "print(l1)\n",
        "\n",
        "l1.pop(2)     # it remove element at index 2\n",
        "print(l1)\n",
        "\n",
        "l1.clear()    #remove all element\n",
        "print(l1)\n",
        "\n"
      ],
      "metadata": {
        "colab": {
          "base_uri": "https://localhost:8080/"
        },
        "id": "w36W9trLY_Rw",
        "outputId": "ba952a51-3f51-4f58-d1cf-d21d97e76e5f"
      },
      "execution_count": 24,
      "outputs": [
        {
          "output_type": "stream",
          "name": "stdout",
          "text": [
            "[20, 40, 10, 30, 20, 60, 40, 50]\n",
            "[20, 10, 30, 20, 60, 40, 50]\n",
            "[20, 10, 30, 20, 60, 40]\n",
            "[20, 10, 20, 60, 40]\n",
            "[]\n"
          ]
        }
      ]
    },
    {
      "cell_type": "code",
      "source": [
        "l1=[20,40,10,30,20,60,40,50]\n",
        "#index of an element\n",
        "print(l1.index(40))     #return the first accurance index of the elemnt in list\n",
        "\n",
        "#count element\n",
        "print(l1.count(40))"
      ],
      "metadata": {
        "colab": {
          "base_uri": "https://localhost:8080/"
        },
        "id": "bqwB86snaOZz",
        "outputId": "6a70c835-e73c-40a1-e6bc-3c378e504434"
      },
      "execution_count": 26,
      "outputs": [
        {
          "output_type": "stream",
          "name": "stdout",
          "text": [
            "1\n",
            "2\n"
          ]
        }
      ]
    },
    {
      "cell_type": "markdown",
      "source": [
        "Create list using user input"
      ],
      "metadata": {
        "id": "uJqS9rB-atKb"
      }
    },
    {
      "cell_type": "code",
      "source": [
        "n=int(input(\"how many elements you want to enter:\"))\n",
        "L=[]\n",
        "i=0\n",
        "while i<n:\n",
        "  L.append(int(input(\"enter element:\")))\n",
        "  i+=1\n",
        "print(L)"
      ],
      "metadata": {
        "colab": {
          "base_uri": "https://localhost:8080/"
        },
        "id": "_H8izfE1amfA",
        "outputId": "8fcda83e-ceee-4b83-e55b-3f794b9af879"
      },
      "execution_count": 29,
      "outputs": [
        {
          "output_type": "stream",
          "name": "stdout",
          "text": [
            "how many elements you want to enter:5\n",
            "enter element:33\n",
            "enter element:2\n",
            "enter element:3\n",
            "enter element:4\n",
            "enter element:5\n",
            "[33, 2, 3, 4, 5]\n"
          ]
        }
      ]
    },
    {
      "cell_type": "markdown",
      "source": [
        "#list comprehension\n",
        "#[expression for variable in iterable]"
      ],
      "metadata": {
        "id": "lJI4sjYzbrTW"
      }
    },
    {
      "cell_type": "code",
      "source": [
        "print([(2*x) for x in range(1,6)])"
      ],
      "metadata": {
        "colab": {
          "base_uri": "https://localhost:8080/"
        },
        "id": "nBXp-DK_bfFn",
        "outputId": "f38ce772-58d6-468f-e0c8-720425f3a362"
      },
      "execution_count": 30,
      "outputs": [
        {
          "output_type": "stream",
          "name": "stdout",
          "text": [
            "[2, 4, 6, 8, 10]\n"
          ]
        }
      ]
    }
  ]
}