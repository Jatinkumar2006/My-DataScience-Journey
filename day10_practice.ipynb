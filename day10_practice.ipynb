{
  "cells": [
    {
      "cell_type": "markdown",
      "metadata": {
        "id": "view-in-github",
        "colab_type": "text"
      },
      "source": [
        "<a href=\"https://colab.research.google.com/github/Jatinkumar2006/My-DataScience-Journey/blob/main/day10_practice.ipynb\" target=\"_parent\"><img src=\"https://colab.research.google.com/assets/colab-badge.svg\" alt=\"Open In Colab\"/></a>"
      ]
    },
    {
      "cell_type": "markdown",
      "metadata": {
        "id": "kLZ_vCeE0lsM"
      },
      "source": [
        "###`Problem 1:` Combine two lists index-wise(columns wise)\n",
        "\n",
        "Write a program to add two lists index-wise. Create a new list that contains the 0th index item from both the list, then the 1st index item, and so on till the last element. any leftover items will get added at the end of the new list.\n",
        "\n",
        "`Given List:`\n",
        "```\n",
        "list1 = [\"M\", \"na\", \"i\", \"Kh\"]\n",
        "list2 = [\"y\", \"me\", \"s\", \"an\"]\n",
        "```\n",
        "\n",
        "`Output:`\n",
        "```\n",
        "[['M','y'], ['na', me'], ['i', 's'], ['Kh', 'an']]\n",
        "```"
      ]
    },
    {
      "cell_type": "code",
      "execution_count": null,
      "metadata": {
        "id": "cDO3Yv6p0nnG",
        "outputId": "f02a4b15-3a66-4b4f-d11b-b3b9e0f7924d"
      },
      "outputs": [
        {
          "name": "stdout",
          "output_type": "stream",
          "text": [
            "[['M', 'y'], ['na', 'me'], ['i', 's'], ['Kh', 'an']]\n"
          ]
        }
      ],
      "source": [
        "list1 = [\"M\", \"na\", \"i\", \"Kh\"]\n",
        "list2 = [\"y\", \"me\", \"s\", \"an\"]\n",
        "result = [[i ,j] for i, j in zip(list1, list2)]\n",
        "print(result)\n"
      ]
    },
    {
      "cell_type": "markdown",
      "metadata": {
        "id": "bnRwRgf_0qLu"
      },
      "source": [
        "### `Problem 2:` Add new item to list after a specified item\n",
        "Write a program to add item 7000 after 6000 in the following Python List\n",
        "```\n",
        "list1 = [10, 20, [300, 400, [5000, 6000], 500], 30, 40]\n",
        "```\n",
        "`Output:`\n",
        "```\n",
        "[10, 20, [300, 400, [5000, 6000, 7000], 500], 30, 40]\n",
        "```"
      ]
    },
    {
      "cell_type": "code",
      "execution_count": null,
      "metadata": {
        "id": "yW5lLPns00q9",
        "outputId": "7dbfd79a-974c-4abf-fe95-48977c2b13dd"
      },
      "outputs": [
        {
          "name": "stdout",
          "output_type": "stream",
          "text": [
            "[10, 20, [300, 400, [5000, 6000, 7000], 500], 30, 40]\n"
          ]
        }
      ],
      "source": [
        "list1 = [10, 20, [300, 400, [5000, 6000], 500], 30, 40]\n",
        "\n",
        "inner_list = list1[2][2]\n",
        "\n",
        "#  index of 6000\n",
        "index_6000 = inner_list.index(6000)\n",
        "\n",
        "# Insert 7000 after 6000\n",
        "inner_list.insert(index_6000 + 1, 7000)\n",
        "\n",
        "print(list1)\n"
      ]
    },
    {
      "cell_type": "markdown",
      "metadata": {
        "id": "w7fC8oHk02fH"
      },
      "source": [
        "###`Problem 3:` Update no of items available\n",
        "\n",
        "Suppose you are given a list of candy and another list of same size representing no of items of respective candy.\n",
        "\n",
        "i.e -  \n",
        "```\n",
        "candy_list = ['Jelly Belly','Kit Kat','Double Bubble','Milky Way','Three Musketeers']\n",
        "no_of_items = [10,20,34,74,32]\n",
        "```\n",
        "\n",
        "Write a program to show no. of items of each candy type.\n",
        "\n",
        "`Output:`\n",
        "\n",
        "```\n",
        "Jelly Belly-10\n",
        "Kit Kat-20\n",
        "Double Bubble-34\n",
        "Milky Way-74\n",
        "Three Musketeers-32\n",
        "\n",
        "```"
      ]
    },
    {
      "cell_type": "code",
      "execution_count": null,
      "metadata": {
        "id": "gg5JEX1a09q8",
        "outputId": "e089ac9d-eaa6-4054-a9e4-82073cd040ab"
      },
      "outputs": [
        {
          "name": "stdout",
          "output_type": "stream",
          "text": [
            "Jelly Belly-10\n",
            "Kit Kat-20\n",
            "Double Bubble-34\n",
            "Milky Way-74\n",
            "Three Musketeers-32\n"
          ]
        }
      ],
      "source": [
        "candy_list = ['Jelly Belly', 'Kit Kat', 'Double Bubble', 'Milky Way', 'Three Musketeers']\n",
        "no_of_items = [10, 20, 34, 74, 32]\n",
        "\n",
        "for candy, count in zip(candy_list, no_of_items):\n",
        "    print(f\"{candy}-{count}\")\n"
      ]
    },
    {
      "cell_type": "markdown",
      "metadata": {
        "id": "mFGZAvnB1D3N"
      },
      "source": [
        "###`Problem 4:` Running Sum on list\n",
        "Write a program to print a list after performing running sum on it.\n",
        "\n",
        "i.e:\n",
        "\n",
        "`Input:`\n",
        "```\n",
        "list1 = [1,2,3,4,5,6]\n",
        "```\n",
        "`Output:`\n",
        "```\n",
        "[1,3,6,10,15,21]\n",
        "```"
      ]
    },
    {
      "cell_type": "code",
      "execution_count": null,
      "metadata": {
        "id": "8LPS6DaD1FTs",
        "outputId": "f839c491-0c97-4de1-82f4-9ce38337ef54"
      },
      "outputs": [
        {
          "name": "stdout",
          "output_type": "stream",
          "text": [
            "[1, 3, 6, 10, 15, 21]\n"
          ]
        }
      ],
      "source": [
        "list1 = [1, 2, 3, 4, 5, 6]\n",
        "running_sum = []\n",
        "\n",
        "total = 0\n",
        "for num in list1:\n",
        "    total += num\n",
        "    running_sum.append(total)\n",
        "\n",
        "print(running_sum)\n"
      ]
    },
    {
      "cell_type": "markdown",
      "metadata": {
        "id": "2ztcZ-EW1HEU"
      },
      "source": [
        "###`Problem 5:` You are given a list of integers. You are asked to make a list by running through elements of the list by adding all elements greater and itself.\n",
        "\n",
        "i.e. Say given list is `[2,4,6,10,1]`\n",
        "resultant list will be `[22,20,10,23]`.\n",
        "\n",
        "For 1st element `2` ->> these are greater `(4+6+10)` values and `2` itself so on adding becomes `22`.\n",
        "\n",
        "For 2nd element `4` ->> greater elements are `(6, 10)` and `4` itself, so on adding `20`\n",
        "\n",
        "like wise for all other elememts.\n",
        "\n",
        "`[2,4,6,10,1]`-->`[22,20,16,10,23]`\n",
        "\n",
        "\n"
      ]
    },
    {
      "cell_type": "code",
      "execution_count": null,
      "metadata": {
        "id": "UJuWqzj31UD2",
        "outputId": "6f70f4ec-1a92-429c-e8dd-dcb879fcd7a2"
      },
      "outputs": [
        {
          "name": "stdout",
          "output_type": "stream",
          "text": [
            "[22, 20, 16, 10, 23]\n"
          ]
        }
      ],
      "source": [
        "list1 = [2, 4, 6, 10, 1]\n",
        "result = []\n",
        "\n",
        "for i in list1:\n",
        "    total = sum(j for j in list1 if j >= i)\n",
        "    result.append(total)\n",
        "\n",
        "print(result)\n"
      ]
    },
    {
      "cell_type": "markdown",
      "metadata": {
        "id": "c9H6tYTx1ZYo"
      },
      "source": [
        "###`Problem 6:` Find list of common unique items from two list. and show in increasing order\n",
        "\n",
        "`Input`\n",
        "\n",
        "```\n",
        "num1 = [23,45,67,78,89,34]\n",
        "num2 = [34,89,55,56,39,67]\n",
        "```\n",
        "\n",
        "`Output:`\n",
        "```\n",
        "[34, 67, 89]\n",
        "```\n"
      ]
    },
    {
      "cell_type": "code",
      "execution_count": null,
      "metadata": {
        "id": "dDxdi7eE1e1W",
        "outputId": "d6f568f1-b925-4df6-e798-86c8cec189f3"
      },
      "outputs": [
        {
          "name": "stdout",
          "output_type": "stream",
          "text": [
            "[34, 67, 89]\n"
          ]
        }
      ],
      "source": [
        "num1 = [23, 45, 67, 78, 89, 34]\n",
        "num2 = [34, 89, 55, 56, 39, 67]\n",
        "\n",
        "common = sorted(set(num1) & set(num2))\n",
        "\n",
        "print(common)\n"
      ]
    },
    {
      "cell_type": "markdown",
      "metadata": {
        "id": "i3Izok2i1gRD"
      },
      "source": [
        "###`Problem 7:` Sort a list of alphanumeric strings based on product value of numeric character in it. If in any string there is no numeric character take it's product value as 1.\n",
        "\n",
        "`Input:`\n",
        "```\n",
        "['1ac21', '23fg', '456', '098d','1','kls']\n",
        "```\n",
        "\n",
        "`Output:`\n",
        "```\n",
        "['456', '23fg', '1ac21', '1', 'kls', '098d']\n",
        "\n",
        "```"
      ]
    },
    {
      "cell_type": "code",
      "execution_count": null,
      "metadata": {
        "id": "eiXSanG11oq6",
        "outputId": "6ab4b5f7-78f7-4073-8580-c5779e982ead"
      },
      "outputs": [
        {
          "name": "stdout",
          "output_type": "stream",
          "text": [
            "['098d', '1', 'kls', '1ac21', '23fg', '456']\n"
          ]
        }
      ],
      "source": [
        "from functools import reduce\n",
        "\n",
        "def product_of_digits(s):\n",
        "    digits = [int(ch) for ch in s if ch.isdigit()]\n",
        "    if digits:\n",
        "        return reduce(lambda x, y: x * y, digits)\n",
        "    else:\n",
        "        return 1\n",
        "\n",
        "lst = ['1ac21', '23fg', '456', '098d', '1', 'kls']\n",
        "\n",
        "sorted_list = sorted(lst, key=product_of_digits)\n",
        "print(sorted_list)\n"
      ]
    },
    {
      "cell_type": "markdown",
      "metadata": {
        "id": "McMaNSpB1zJB"
      },
      "source": [
        "`Problem 8:` Split String of list on K character.\n",
        "\n",
        "**Example :**\n",
        "\n",
        "Input:\n",
        "```bash\n",
        "['CampusX is a channel', 'for data-science', 'aspirants.']\n",
        "```\n",
        "\n",
        "Output:\n",
        "```bash\n",
        "['CampusX', 'is', 'a', 'channel', 'for', 'data-science', 'aspirants.']\n",
        "```"
      ]
    },
    {
      "cell_type": "code",
      "execution_count": null,
      "metadata": {
        "id": "rLg6AUhf14wI",
        "outputId": "935bfd44-6f0f-45da-e026-5b6563863fbc"
      },
      "outputs": [
        {
          "name": "stdout",
          "output_type": "stream",
          "text": [
            "['CampusX', 'is', 'a', 'channel', 'for', 'data-science', 'aspirants.']\n"
          ]
        }
      ],
      "source": [
        "text_list = ['CampusX is a channel', 'for data-science', 'aspirants.']\n",
        "\n",
        "result = [word for line in text_list for word in line.split()]\n",
        "\n",
        "print(result)\n"
      ]
    },
    {
      "cell_type": "markdown",
      "metadata": {
        "id": "ebqIC0Xa16dG"
      },
      "source": [
        "### `Problem 9:` Convert Character Matrix to single String using string comprehension.\n",
        "\n",
        "**Example 1:**\n",
        "\n",
        "Input:\n",
        "```bash\n",
        "[['c', 'a', 'm', 'p', 'u', 'x'], ['i', 's'], ['b', 'e', 's', 't'], ['c', 'h', 'a', 'n', 'n', 'e', 'l']]\n",
        "```\n",
        "\n",
        "Output:\n",
        "```bash\n",
        "campux is best channel\n",
        "```"
      ]
    },
    {
      "cell_type": "code",
      "execution_count": null,
      "metadata": {
        "id": "KLKxzyZf2BLr",
        "outputId": "8b2f2ec2-0088-45ee-8efa-277d3e2b436f"
      },
      "outputs": [
        {
          "name": "stdout",
          "output_type": "stream",
          "text": [
            "campux is best channel\n"
          ]
        }
      ],
      "source": [
        "char_matrix = [['c', 'a', 'm', 'p', 'u', 'x'], ['i', 's'], ['b', 'e', 's', 't'], ['c', 'h', 'a', 'n', 'n', 'e', 'l']]\n",
        "\n",
        "result = ' '.join([''.join(word) for word in char_matrix])\n",
        "print(result)\n"
      ]
    },
    {
      "cell_type": "markdown",
      "metadata": {
        "id": "0v1Z3Snp2DAm"
      },
      "source": [
        "### `Problem 10:` Add Space between Potential Words.\n",
        "\n",
        "**Example:**\n",
        "\n",
        "Input:\n",
        "\n",
        "```bash\n",
        "['campusxIs', 'bestFor', 'dataScientist']\n",
        "```\n",
        "\n",
        "Output:\n",
        "```bash\n",
        "['campusx Is', 'best For', 'data Scientist']\n",
        "```"
      ]
    },
    {
      "cell_type": "code",
      "execution_count": null,
      "metadata": {
        "id": "pltvqSXa2IxP",
        "outputId": "5f3f047c-93bc-4894-c957-47e6792fe12b"
      },
      "outputs": [
        {
          "name": "stdout",
          "output_type": "stream",
          "text": [
            "['campusx Is', 'best For', 'data Scientist']\n"
          ]
        }
      ],
      "source": [
        "input_list = ['campusxIs', 'bestFor', 'dataScientist']\n",
        "\n",
        "result = [''.join([' ' + ch if ch.isupper() else ch for ch in word]) for word in input_list]\n",
        "\n",
        "print(result)\n"
      ]
    },
    {
      "cell_type": "markdown",
      "metadata": {
        "id": "tnmBk1M52KXW"
      },
      "source": [
        "### `Problem 11:` Write a program that can perform union operation on 2 lists\n",
        "\n",
        "**Example:**\n",
        "\n",
        "Input:\n",
        "\n",
        "```bash\n",
        "[1,2,3,4,5,1]\n",
        "[2,3,5,7,8]\n",
        "```\n",
        "\n",
        "Output:\n",
        "```bash\n",
        "[1,2,3,4,5,7,8]\n",
        "```"
      ]
    },
    {
      "cell_type": "code",
      "execution_count": null,
      "metadata": {
        "id": "u0AgIToU2-Ht",
        "outputId": "0289f9af-1eab-46a2-fc08-04970ac7cea3"
      },
      "outputs": [
        {
          "name": "stdout",
          "output_type": "stream",
          "text": [
            "[1, 2, 3, 4, 5, 7, 8]\n"
          ]
        }
      ],
      "source": [
        "list1 = [1, 2, 3, 4, 5, 1]\n",
        "list2 = [2, 3, 5, 7, 8]\n",
        "\n",
        "result = list(set(list1) | set(list2))\n",
        "print(result)\n"
      ]
    },
    {
      "cell_type": "markdown",
      "metadata": {
        "id": "Yt8x67Ch3Ow1"
      },
      "source": [
        "### `Problem 12:` Write a program that can find the max number of each row of a matrix\n",
        "\n",
        "**Example:**\n",
        "\n",
        "Input:\n",
        "\n",
        "```bash\n",
        "[[1,2,3],[4,5,6],[7,8,9]]\n",
        "```\n",
        "\n",
        "Output:\n",
        "```bash\n",
        "[3,6,9]\n",
        "```"
      ]
    },
    {
      "cell_type": "code",
      "execution_count": null,
      "metadata": {
        "id": "7QopAaAI3noh",
        "outputId": "372b9d3f-9dad-4d36-ae1b-1e902388871a"
      },
      "outputs": [
        {
          "name": "stdout",
          "output_type": "stream",
          "text": [
            "[3, 6, 9]\n"
          ]
        }
      ],
      "source": [
        "matrix = [[1, 2, 3], [4, 5, 6], [7, 8, 9]]\n",
        "\n",
        "result = [max(row) for row in matrix]\n",
        "print(result)\n"
      ]
    },
    {
      "cell_type": "markdown",
      "metadata": {
        "id": "DBZlUmnt3pGT"
      },
      "source": [
        "### `Problem 13:` Write a list comprehension to print the following matrix\n",
        "\n",
        "[[0, 1, 2], [3, 4, 5], [6, 7, 8]]"
      ]
    },
    {
      "cell_type": "code",
      "execution_count": null,
      "metadata": {
        "id": "Ip4e8M-S356h",
        "outputId": "33852afb-5819-4c34-b798-98cf4e3994e4"
      },
      "outputs": [
        {
          "name": "stdout",
          "output_type": "stream",
          "text": [
            "[[0, 1, 2], [3, 4, 5], [6, 7, 8]]\n"
          ]
        }
      ],
      "source": [
        "matrix = [[i * 3 + j for j in range(3)] for i in range(3)]\n",
        "print(matrix)\n"
      ]
    },
    {
      "cell_type": "markdown",
      "metadata": {
        "id": "j3vTuFC737kG"
      },
      "source": [
        "### `Problem 14:` Write a list comprehension that can transpose a given matrix\n",
        "\n",
        "matrix = [<br>\n",
        "  [1,2,3],<br>\n",
        "          [4,5,6],<br>\n",
        "          [7,8,9]<br>]<br>\n",
        "\n",
        "[1, 4, 7]<br>\n",
        "[2, 5, 8]<br>\n",
        "[3, 6, 9]<br>"
      ]
    },
    {
      "cell_type": "code",
      "execution_count": null,
      "metadata": {
        "id": "CcBNu0gk4XsR",
        "outputId": "a9268c06-4e4a-4f56-c53b-e664249879f8"
      },
      "outputs": [
        {
          "name": "stdout",
          "output_type": "stream",
          "text": [
            "[[0, 3, 6], [1, 4, 7], [2, 5, 8]]\n"
          ]
        }
      ],
      "source": [
        "transpose = [[row[i] for row in matrix] for i in range(len(matrix[0]))]\n",
        "print(transpose)\n"
      ]
    },
    {
      "cell_type": "markdown",
      "metadata": {
        "id": "wRkSWFb74eOt"
      },
      "source": [
        "### `Problem 15:` Write a list comprehension that can flatten a nested list\n",
        "\n",
        "Input<br>\n",
        "matrix = [<br>\n",
        "  [1,2,3],<br>\n",
        "          [4,5,6],<br>\n",
        "          [7,8,9]<br>]<br>\n",
        "\n",
        "Output:<br>\n",
        "[1, 2, 3, 4, 5, 6, 7, 8, 9]"
      ]
    },
    {
      "cell_type": "code",
      "execution_count": null,
      "metadata": {
        "id": "jZGQ5el25HFr",
        "outputId": "5ce6219f-3e4a-4b75-b9e7-6fd45e159535"
      },
      "outputs": [
        {
          "name": "stdout",
          "output_type": "stream",
          "text": [
            "[0, 1, 2, 3, 4, 5, 6, 7, 8]\n"
          ]
        }
      ],
      "source": [
        "flat_list = [num for row in matrix for num in row]\n",
        "print(flat_list)\n"
      ]
    }
  ],
  "metadata": {
    "colab": {
      "provenance": [],
      "include_colab_link": true
    },
    "kernelspec": {
      "display_name": "Python 3",
      "name": "python3"
    },
    "language_info": {
      "codemirror_mode": {
        "name": "ipython",
        "version": 3
      },
      "file_extension": ".py",
      "mimetype": "text/x-python",
      "name": "python",
      "nbconvert_exporter": "python",
      "pygments_lexer": "ipython3",
      "version": "3.12.10"
    }
  },
  "nbformat": 4,
  "nbformat_minor": 0
}