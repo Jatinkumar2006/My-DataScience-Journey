{
  "nbformat": 4,
  "nbformat_minor": 0,
  "metadata": {
    "colab": {
      "provenance": [],
      "authorship_tag": "ABX9TyPgoOd32SinuRSsZQvlpAkM",
      "include_colab_link": true
    },
    "kernelspec": {
      "name": "python3",
      "display_name": "Python 3"
    },
    "language_info": {
      "name": "python"
    }
  },
  "cells": [
    {
      "cell_type": "markdown",
      "metadata": {
        "id": "view-in-github",
        "colab_type": "text"
      },
      "source": [
        "<a href=\"https://colab.research.google.com/github/Jatinkumar2006/My-DataScience-Journey/blob/main/Day3_pythonbasics.ipynb\" target=\"_parent\"><img src=\"https://colab.research.google.com/assets/colab-badge.svg\" alt=\"Open In Colab\"/></a>"
      ]
    },
    {
      "cell_type": "markdown",
      "source": [
        "continue to iterables...."
      ],
      "metadata": {
        "id": "sBzeHuZS9C4X"
      }
    },
    {
      "cell_type": "markdown",
      "source": [
        "str-\n",
        "\n",
        "str is a class,mutable,iterable,hashableand a sequence."
      ],
      "metadata": {
        "id": "f3bebd5K9NX_"
      }
    },
    {
      "cell_type": "code",
      "execution_count": null,
      "metadata": {
        "colab": {
          "base_uri": "https://localhost:8080/"
        },
        "id": "dWzChN9R8y0y",
        "outputId": "8c60d43e-975b-4b93-bf81-1da619354cfb"
      },
      "outputs": [
        {
          "output_type": "stream",
          "name": "stdout",
          "text": [
            "Jatin Jatin Jatin Jatin  521\n"
          ]
        }
      ],
      "source": [
        "s1=\"Jatin\";\n",
        "s2='Jatin';\n",
        "s3=\"\"\"Jatin\"\"\";\n",
        "s4='''Jatin''';\n",
        "s5=str();   #empty string\n",
        "s6=str(521);   #'521'  int--->str change\n",
        "print(s1,s2,s3,s4,s5,s6);"
      ]
    },
    {
      "cell_type": "code",
      "source": [
        "#accessing elements using index\n",
        "s1=\"Jatin\";\n",
        "print(s1[0]);\n",
        "print(s1[-1]);\n",
        "print( );\n",
        "\n",
        "##accessing elements using loop\n",
        "for i in s1:\n",
        "    print(i);\n",
        "\n"
      ],
      "metadata": {
        "colab": {
          "base_uri": "https://localhost:8080/"
        },
        "id": "6ohCiKfu-lyi",
        "outputId": "69126871-b0b6-4299-9be7-d7970e8aa7c6"
      },
      "execution_count": null,
      "outputs": [
        {
          "output_type": "stream",
          "name": "stdout",
          "text": [
            "J\n",
            "n\n",
            "\n",
            "J\n",
            "a\n",
            "t\n",
            "i\n",
            "n\n"
          ]
        }
      ]
    },
    {
      "cell_type": "code",
      "source": [
        "#comparison\n",
        "s1=\"abc\";\n",
        "s2=\"ABC\";\n",
        "print(s1>s2);    #compare based on unicode value\n",
        "print(s1<s2);\n",
        "print(s1==s2);\n",
        "print(s1!=s2);\n",
        "\n"
      ],
      "metadata": {
        "colab": {
          "base_uri": "https://localhost:8080/"
        },
        "id": "DeynCfvwAB0N",
        "outputId": "0e55b853-4b8d-435b-e16e-a951b2f2f90b"
      },
      "execution_count": null,
      "outputs": [
        {
          "output_type": "stream",
          "name": "stdout",
          "text": [
            "False\n",
            "True\n",
            "False\n",
            "True\n"
          ]
        }
      ]
    },
    {
      "cell_type": "code",
      "source": [
        "#str object methods\n",
        "s1=\"Jatin Kumar\";\n",
        "print(s1.index(\"n\"));   #it returns the first element index\n",
        "print(s1.count(\"a\"));\n",
        "print(s1.startswith(\"Ja\"));\n",
        "print(s1.endswith(\"r\"));\n",
        "print(s1.upper());\n",
        "print(s1.replace(\"K\",\"k\"));"
      ],
      "metadata": {
        "colab": {
          "base_uri": "https://localhost:8080/"
        },
        "id": "JU1HzuXbBWn-",
        "outputId": "55c306e4-29a0-49b6-c61e-30200e924bbc"
      },
      "execution_count": null,
      "outputs": [
        {
          "output_type": "stream",
          "name": "stdout",
          "text": [
            "4\n",
            "2\n",
            "True\n",
            "True\n",
            "JATIN KUMAR\n",
            "Jatin kumar\n"
          ]
        }
      ]
    },
    {
      "cell_type": "markdown",
      "source": [
        "str format\n",
        "\n",
        "string.format(var1,var2....);"
      ],
      "metadata": {
        "id": "fL1POURSCbVC"
      }
    },
    {
      "cell_type": "code",
      "source": [
        "s1=\"Jatin\";\n",
        "print(\"{},how are you?\".format(s1));     #don't give space btw {}\n",
        "print(\"I am fine,{}\".format(\"Nikita\"));\n",
        "print(\"Nikita what's your age {} or {}?\".format(18,19));\n",
        "print(\"{1},{0},{2} Guess how old I looks like\".format(18,17,19));     #we can change the order of filling the blocks by putting value on them like 0,1,2 like index value"
      ],
      "metadata": {
        "colab": {
          "base_uri": "https://localhost:8080/"
        },
        "id": "O3k3a1jJBtQF",
        "outputId": "beb24875-82a1-4d3f-f204-245075ecef26"
      },
      "execution_count": null,
      "outputs": [
        {
          "output_type": "stream",
          "name": "stdout",
          "text": [
            "Jatin,how are you?\n",
            "I am fine,Nikita\n",
            "Nikita what's your age 18 or 19?\n",
            "17,18,19 Guess how old I looks like\n"
          ]
        }
      ]
    },
    {
      "cell_type": "markdown",
      "source": [
        "Split( ) and join( );"
      ],
      "metadata": {
        "id": "03oGDHHgFB2G"
      }
    },
    {
      "cell_type": "code",
      "source": [
        "#split()             str--->list\n",
        "s1=\"jodhpur the sun city\"\n",
        "l1=s1.split(' ');  #seperate on the basis of space\n",
        "print(l1);\n",
        "\n",
        "s2=\"Hum tum dono double \";\n",
        "l2=s2.split('o')   #seperate on the basis of 'o'\n",
        "print(l2)\n",
        "\n",
        "#join           list---->str\n",
        "l3=[\"25\",\"12\",\"2001\"];\n",
        "s3=\"-\".join(l3);     #join with '-'\n",
        "print(s3);\n",
        "print(str(s3));"
      ],
      "metadata": {
        "colab": {
          "base_uri": "https://localhost:8080/"
        },
        "id": "4xe9iPzaFMmU",
        "outputId": "137d2862-3d0d-48d6-8540-e49f4425485c"
      },
      "execution_count": 24,
      "outputs": [
        {
          "output_type": "stream",
          "name": "stdout",
          "text": [
            "['jodhpur', 'the', 'sun', 'city']\n",
            "['Hum tum d', 'n', ' d', 'uble ']\n",
            "25-12-2001\n",
            "25-12-2001\n"
          ]
        }
      ]
    }
  ]
}