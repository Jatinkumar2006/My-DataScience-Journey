{
  "cells": [
    {
      "cell_type": "markdown",
      "metadata": {
        "id": "view-in-github",
        "colab_type": "text"
      },
      "source": [
        "<a href=\"https://colab.research.google.com/github/Jatinkumar2006/My-DataScience-Journey/blob/main/Day6_functions.ipynb\" target=\"_parent\"><img src=\"https://colab.research.google.com/assets/colab-badge.svg\" alt=\"Open In Colab\"/></a>"
      ]
    },
    {
      "cell_type": "markdown",
      "metadata": {
        "id": "o5waCVTx-wGt"
      },
      "source": [
        "### Let's create a function(with docstring)"
      ]
    },
    {
      "cell_type": "code",
      "execution_count": null,
      "metadata": {
        "id": "QaM36i9Q-yR9"
      },
      "outputs": [],
      "source": [
        "def is_even(num):\n",
        "  \"\"\"\n",
        "  This function returns if a given number is odd or even\n",
        "  input - any valid integer\n",
        "  output - odd/even\n",
        "  created on - 16th Nov 2022\n",
        "  \"\"\"\n",
        "  if type(num) == int:\n",
        "    if num % 2 == 0:\n",
        "      return 'even'\n",
        "    else:\n",
        "      return 'odd'\n",
        "  else:\n",
        "    return 'pagal hai kya?'"
      ]
    },
    {
      "cell_type": "code",
      "execution_count": null,
      "metadata": {
        "colab": {
          "base_uri": "https://localhost:8080/"
        },
        "id": "Qn3xFuzq5Yp-",
        "outputId": "a20b7637-a322-447e-a212-4c3c1a4f05ad"
      },
      "outputs": [
        {
          "name": "stdout",
          "output_type": "stream",
          "text": [
            "odd\n",
            "even\n",
            "odd\n",
            "even\n",
            "odd\n",
            "even\n",
            "odd\n",
            "even\n",
            "odd\n",
            "even\n"
          ]
        }
      ],
      "source": [
        "# function\n",
        "# function_name(input)\n",
        "for i in range(1,11):\n",
        "  x = is_even(i)\n",
        "  print(x)"
      ]
    },
    {
      "cell_type": "code",
      "execution_count": null,
      "metadata": {
        "colab": {
          "base_uri": "https://localhost:8080/"
        },
        "id": "Arh0ADgy_lNe",
        "outputId": "b24f5ed1-88ab-4895-a275-75ec03c33caf"
      },
      "outputs": [
        {
          "name": "stdout",
          "output_type": "stream",
          "text": [
            "type(object_or_name, bases, dict)\n",
            "type(object) -> the object's type\n",
            "type(name, bases, dict) -> a new type\n"
          ]
        }
      ],
      "source": [
        "print(type.__doc__)"
      ]
    },
    {
      "cell_type": "markdown",
      "metadata": {
        "id": "W7o_w1q7-1Xl"
      },
      "source": [
        "### 2 Point of views"
      ]
    },
    {
      "cell_type": "code",
      "execution_count": null,
      "metadata": {
        "colab": {
          "base_uri": "https://localhost:8080/",
          "height": 36
        },
        "id": "wAHFlOaZ-3EV",
        "outputId": "2a51d862-e7eb-41c1-e458-d776f16af42d"
      },
      "outputs": [
        {
          "data": {
            "application/vnd.google.colaboratory.intrinsic+json": {
              "type": "string"
            },
            "text/plain": [
              "'pagal hai kya?'"
            ]
          },
          "execution_count": 49,
          "metadata": {},
          "output_type": "execute_result"
        }
      ],
      "source": [
        "is_even('hello')"
      ]
    },
    {
      "cell_type": "markdown",
      "metadata": {
        "id": "f3cIuikR-52f"
      },
      "source": [
        "### Parameters Vs Arguments"
      ]
    },
    {
      "cell_type": "markdown",
      "metadata": {
        "id": "6hOt68rR-84k"
      },
      "source": [
        "### Types of Arguments\n",
        "\n",
        "- Default Argument\n",
        "- Positional Argument\n",
        "- Keyword Argument"
      ]
    },
    {
      "cell_type": "code",
      "execution_count": null,
      "metadata": {
        "id": "9hmqV3-e-8HU"
      },
      "outputs": [],
      "source": [
        "def power(a=1,b=1):\n",
        "  return a**b"
      ]
    },
    {
      "cell_type": "code",
      "execution_count": null,
      "metadata": {
        "colab": {
          "base_uri": "https://localhost:8080/"
        },
        "id": "S68PRXil_LjW",
        "outputId": "4d65b08b-29be-4c5d-98d4-2a344be436d0"
      },
      "outputs": [
        {
          "data": {
            "text/plain": [
              "1"
            ]
          },
          "execution_count": 56,
          "metadata": {},
          "output_type": "execute_result"
        }
      ],
      "source": [
        "power()"
      ]
    },
    {
      "cell_type": "code",
      "execution_count": null,
      "metadata": {
        "colab": {
          "base_uri": "https://localhost:8080/"
        },
        "id": "pgPxz-57_Ltw",
        "outputId": "3ef71cc6-f00b-45d5-adbe-03bc86e633ff"
      },
      "outputs": [
        {
          "data": {
            "text/plain": [
              "8"
            ]
          },
          "execution_count": 57,
          "metadata": {},
          "output_type": "execute_result"
        }
      ],
      "source": [
        "# positional argument\n",
        "power(2,3)"
      ]
    },
    {
      "cell_type": "code",
      "execution_count": null,
      "metadata": {
        "colab": {
          "base_uri": "https://localhost:8080/"
        },
        "id": "lGdofKL981pz",
        "outputId": "250f82fa-abe4-4052-df33-d484ed853a77"
      },
      "outputs": [
        {
          "data": {
            "text/plain": [
              "8"
            ]
          },
          "execution_count": 58,
          "metadata": {},
          "output_type": "execute_result"
        }
      ],
      "source": [
        "# keyword argument\n",
        "power(b=3,a=2)"
      ]
    },
    {
      "cell_type": "markdown",
      "metadata": {
        "id": "ynO59kYKLhGZ"
      },
      "source": [
        "### `*args and **kwargs`\n",
        "`*args and **kwargs` are special Python keywords that are used to pass the variable length of arguments to a function"
      ]
    },
    {
      "cell_type": "code",
      "execution_count": null,
      "metadata": {
        "id": "3dcjff8W_L3d"
      },
      "outputs": [],
      "source": [
        "# *args\n",
        "# allows us to pass a variable number of non-keyword arguments to a function.\n",
        "\n",
        "def multiply(*args):\n",
        "  product = 1\n",
        "\n",
        "  for i in args:\n",
        "    product = product * i\n",
        "\n",
        "  print(args)\n",
        "  return product"
      ]
    },
    {
      "cell_type": "code",
      "execution_count": null,
      "metadata": {
        "colab": {
          "base_uri": "https://localhost:8080/"
        },
        "id": "8kuaaP0Xk4Oo",
        "outputId": "37a4a065-64c5-447d-a9a1-5e27ac99eabe"
      },
      "outputs": [
        {
          "name": "stdout",
          "output_type": "stream",
          "text": [
            "(1, 2, 3, 4, 5, 6, 7, 8, 9, 10, 12)\n"
          ]
        },
        {
          "data": {
            "text/plain": [
              "43545600"
            ]
          },
          "execution_count": 71,
          "metadata": {},
          "output_type": "execute_result"
        }
      ],
      "source": [
        "multiply(1,2,3,4,5,6,7,8,9,10,12)"
      ]
    },
    {
      "cell_type": "code",
      "execution_count": null,
      "metadata": {
        "id": "mZuZrciV-I8D"
      },
      "outputs": [],
      "source": [
        "# **kwargs\n",
        "# **kwargs allows us to pass any number of keyword arguments.\n",
        "# Keyword arguments mean that they contain a key-value pair, like a Python dictionary.\n",
        "\n",
        "def display(**salman):\n",
        "\n",
        "  for (key,value) in salman.items():\n",
        "    print(key,'->',value)\n"
      ]
    },
    {
      "cell_type": "code",
      "execution_count": null,
      "metadata": {
        "colab": {
          "base_uri": "https://localhost:8080/"
        },
        "id": "5uhoZ9jVAbJs",
        "outputId": "7f6b0659-3c34-462a-f5ba-3fa20279fcd2"
      },
      "outputs": [
        {
          "name": "stdout",
          "output_type": "stream",
          "text": [
            "india -> delhi\n",
            "srilanka -> colombo\n",
            "nepal -> kathmandu\n",
            "pakistan -> islamabad\n"
          ]
        }
      ],
      "source": [
        "display(india='delhi',srilanka='colombo',nepal='kathmandu',pakistan='islamabad')"
      ]
    },
    {
      "cell_type": "markdown",
      "metadata": {
        "id": "zHVEKbPzlJCE"
      },
      "source": [
        "##### Points to remember while using `*args and **kwargs`\n",
        "\n",
        "- order of the arguments matter(normal -> `*args` -> `**kwargs`)\n",
        "- The words “args” and “kwargs” are only a convention, you can use any name of your choice\n"
      ]
    },
    {
      "cell_type": "code",
      "execution_count": null,
      "metadata": {
        "id": "g3HKjKtIAaKs"
      },
      "outputs": [],
      "source": []
    },
    {
      "cell_type": "markdown",
      "metadata": {
        "id": "u4ZLj7D1_R59"
      },
      "source": [
        "### How Functions are executed in memory?"
      ]
    },
    {
      "cell_type": "code",
      "execution_count": null,
      "metadata": {
        "id": "PMt-cW9I_Uy7"
      },
      "outputs": [],
      "source": []
    },
    {
      "cell_type": "markdown",
      "metadata": {
        "id": "PO5paJw0_VfL"
      },
      "source": [
        "### Without return statement"
      ]
    },
    {
      "cell_type": "code",
      "execution_count": null,
      "metadata": {
        "colab": {
          "base_uri": "https://localhost:8080/"
        },
        "id": "-7AgrqdT_ZEg",
        "outputId": "2e93be20-5bd3-4271-929b-193342ba4e7c"
      },
      "outputs": [
        {
          "name": "stdout",
          "output_type": "stream",
          "text": [
            "None\n",
            "[1, 2, 3, 4]\n"
          ]
        }
      ],
      "source": [
        "L = [1,2,3]\n",
        "print(L.append(4))\n",
        "print(L)"
      ]
    },
    {
      "cell_type": "markdown",
      "metadata": {
        "id": "OyixpfDX_ZnV"
      },
      "source": [
        "### Variable Scope"
      ]
    },
    {
      "cell_type": "code",
      "execution_count": null,
      "metadata": {
        "id": "tbe8Wu1u_eyk"
      },
      "outputs": [],
      "source": [
        "def g(y):\n",
        "    print(x)\n",
        "    print(x+1)\n",
        "x = 5\n",
        "g(x)\n",
        "print(x)"
      ]
    },
    {
      "cell_type": "code",
      "execution_count": null,
      "metadata": {
        "id": "anIqcG4cBQ7u"
      },
      "outputs": [],
      "source": [
        "def f(y):\n",
        "    x = 1\n",
        "    x += 1\n",
        "    print(x)\n",
        "x = 5\n",
        "f(x)\n",
        "print(x)"
      ]
    },
    {
      "cell_type": "code",
      "execution_count": null,
      "metadata": {
        "id": "WrqITYnyBXYT"
      },
      "outputs": [],
      "source": [
        "def h(y):\n",
        "    x += 1\n",
        "x = 5\n",
        "h(x)\n",
        "print(x)"
      ]
    },
    {
      "cell_type": "code",
      "execution_count": null,
      "metadata": {
        "id": "dJo6r53CBoqX"
      },
      "outputs": [],
      "source": [
        "def f(x):\n",
        "   x = x + 1\n",
        "   print('in f(x): x =', x)\n",
        "   return x\n",
        "\n",
        "x = 3\n",
        "z = f(x)\n",
        "print('in main program scope: z =', z)\n",
        "print('in main program scope: x =', x)"
      ]
    },
    {
      "cell_type": "markdown",
      "metadata": {
        "id": "0fs1VLkM_hi7"
      },
      "source": [
        "### Nested Functions"
      ]
    },
    {
      "cell_type": "code",
      "execution_count": null,
      "metadata": {
        "id": "dn7ysudV_jb4"
      },
      "outputs": [],
      "source": [
        "def f():\n",
        "  def g():\n",
        "    print('inside function g')\n",
        "    f()\n",
        "  g()\n",
        "  print('inside function f')"
      ]
    },
    {
      "cell_type": "code",
      "execution_count": null,
      "metadata": {
        "colab": {
          "base_uri": "https://localhost:8080/",
          "height": 1000
        },
        "id": "WyY5JYwVCufe",
        "outputId": "cf82fd67-b36f-4a11-9ab3-426c74905aef"
      },
      "outputs": [
        {
          "name": "stdout",
          "output_type": "stream",
          "text": [
            "inside function g\n",
            "inside function g\n",
            "inside function g\n",
            "inside function g\n",
            "inside function g\n",
            "inside function g\n",
            "inside function g\n",
            "inside function g\n",
            "inside function g\n",
            "inside function g\n",
            "inside function g\n",
            "inside function g\n",
            "inside function g\n",
            "inside function g\n",
            "inside function g\n",
            "inside function g\n",
            "inside function g\n",
            "inside function g\n",
            "inside function g\n",
            "inside function g\n",
            "inside function g\n",
            "inside function g\n",
            "inside function g\n",
            "inside function g\n",
            "inside function g\n",
            "inside function g\n",
            "inside function g\n",
            "inside function g\n",
            "inside function g\n",
            "inside function g\n",
            "inside function g\n",
            "inside function g\n",
            "inside function g\n",
            "inside function g\n",
            "inside function g\n",
            "inside function g\n",
            "inside function g\n",
            "inside function g\n",
            "inside function g\n",
            "inside function g\n",
            "inside function g\n",
            "inside function g\n",
            "inside function g\n",
            "inside function g\n",
            "inside function g\n",
            "inside function g\n",
            "inside function g\n",
            "inside function g\n",
            "inside function g\n",
            "inside function g\n",
            "inside function g\n",
            "inside function g\n",
            "inside function g\n",
            "inside function g\n",
            "inside function g\n",
            "inside function g\n",
            "inside function g\n",
            "inside function g\n",
            "inside function g\n",
            "inside function g\n",
            "inside function g\n",
            "inside function g\n",
            "inside function g\n",
            "inside function g\n",
            "inside function g\n",
            "inside function g\n",
            "inside function g\n",
            "inside function g\n",
            "inside function g\n",
            "inside function g\n",
            "inside function g\n",
            "inside function g\n",
            "inside function g\n",
            "inside function g\n",
            "inside function g\n",
            "inside function g\n",
            "inside function g\n",
            "inside function g\n",
            "inside function g\n",
            "inside function g\n",
            "inside function g\n",
            "inside function g\n",
            "inside function g\n",
            "inside function g\n",
            "inside function g\n",
            "inside function g\n",
            "inside function g\n",
            "inside function g\n",
            "inside function g\n",
            "inside function g\n",
            "inside function g\n",
            "inside function g\n",
            "inside function g\n",
            "inside function g\n",
            "inside function g\n",
            "inside function g\n",
            "inside function g\n",
            "inside function g\n",
            "inside function g\n",
            "inside function g\n",
            "inside function g\n",
            "inside function g\n",
            "inside function g\n",
            "inside function g\n",
            "inside function g\n",
            "inside function g\n",
            "inside function g\n",
            "inside function g\n",
            "inside function g\n",
            "inside function g\n",
            "inside function g\n",
            "inside function g\n",
            "inside function g\n",
            "inside function g\n",
            "inside function g\n",
            "inside function g\n",
            "inside function g\n",
            "inside function g\n",
            "inside function g\n",
            "inside function g\n",
            "inside function g\n",
            "inside function g\n",
            "inside function g\n",
            "inside function g\n",
            "inside function g\n",
            "inside function g\n",
            "inside function g\n",
            "inside function g\n",
            "inside function g\n",
            "inside function g\n",
            "inside function g\n",
            "inside function g\n",
            "inside function g\n",
            "inside function g\n",
            "inside function g\n",
            "inside function g\n",
            "inside function g\n",
            "inside function g\n",
            "inside function g\n",
            "inside function g\n",
            "inside function g\n",
            "inside function g\n",
            "inside function g\n",
            "inside function g\n",
            "inside function g\n",
            "inside function g\n",
            "inside function g\n",
            "inside function g\n",
            "inside function g\n",
            "inside function g\n",
            "inside function g\n",
            "inside function g\n",
            "inside function g\n",
            "inside function g\n",
            "inside function g\n",
            "inside function g\n",
            "inside function g\n",
            "inside function g\n",
            "inside function g\n",
            "inside function g\n",
            "inside function g\n",
            "inside function g\n",
            "inside function g\n",
            "inside function g\n",
            "inside function g\n",
            "inside function g\n",
            "inside function g\n",
            "inside function g\n",
            "inside function g\n",
            "inside function g\n",
            "inside function g\n",
            "inside function g\n",
            "inside function g\n",
            "inside function g\n",
            "inside function g\n",
            "inside function g\n",
            "inside function g\n",
            "inside function g\n",
            "inside function g\n",
            "inside function g\n",
            "inside function g\n",
            "inside function g\n",
            "inside function g\n",
            "inside function g\n",
            "inside function g\n",
            "inside function g\n",
            "inside function g\n",
            "inside function g\n",
            "inside function g\n",
            "inside function g\n",
            "inside function g\n",
            "inside function g\n",
            "inside function g\n",
            "inside function g\n",
            "inside function g\n",
            "inside function g\n",
            "inside function g\n",
            "inside function g\n",
            "inside function g\n",
            "inside function g\n",
            "inside function g\n",
            "inside function g\n",
            "inside function g\n",
            "inside function g\n",
            "inside function g\n",
            "inside function g\n",
            "inside function g\n",
            "inside function g\n",
            "inside function g\n",
            "inside function g\n",
            "inside function g\n",
            "inside function g\n",
            "inside function g\n",
            "inside function g\n",
            "inside function g\n",
            "inside function g\n",
            "inside function g\n",
            "inside function g\n",
            "inside function g\n",
            "inside function g\n",
            "inside function g\n",
            "inside function g\n",
            "inside function g\n",
            "inside function g\n",
            "inside function g\n",
            "inside function g\n",
            "inside function g\n",
            "inside function g\n",
            "inside function g\n",
            "inside function g\n",
            "inside function g\n",
            "inside function g\n",
            "inside function g\n",
            "inside function g\n",
            "inside function g\n",
            "inside function g\n",
            "inside function g\n",
            "inside function g\n",
            "inside function g\n",
            "inside function g\n",
            "inside function g\n",
            "inside function g\n",
            "inside function g\n",
            "inside function g\n",
            "inside function g\n",
            "inside function g\n",
            "inside function g\n",
            "inside function g\n",
            "inside function g\n",
            "inside function g\n",
            "inside function g\n",
            "inside function g\n",
            "inside function g\n",
            "inside function g\n",
            "inside function g\n",
            "inside function g\n",
            "inside function g\n",
            "inside function g\n",
            "inside function g\n",
            "inside function g\n",
            "inside function g\n",
            "inside function g\n",
            "inside function g\n",
            "inside function g\n",
            "inside function g\n",
            "inside function g\n",
            "inside function g\n",
            "inside function g\n",
            "inside function g\n",
            "inside function g\n",
            "inside function g\n",
            "inside function g\n",
            "inside function g\n",
            "inside function g\n",
            "inside function g\n",
            "inside function g\n",
            "inside function g\n",
            "inside function g\n",
            "inside function g\n",
            "inside function g\n",
            "inside function g\n",
            "inside function g\n",
            "inside function g\n",
            "inside function g\n",
            "inside function g\n",
            "inside function g\n",
            "inside function g\n",
            "inside function g\n",
            "inside function g\n",
            "inside function g\n",
            "inside function g\n",
            "inside function g\n",
            "inside function g\n",
            "inside function g\n",
            "inside function g\n",
            "inside function g\n",
            "inside function g\n",
            "inside function g\n",
            "inside function g\n",
            "inside function g\n",
            "inside function g\n",
            "inside function g\n",
            "inside function g\n",
            "inside function g\n",
            "inside function g\n",
            "inside function g\n",
            "inside function g\n",
            "inside function g\n",
            "inside function g\n",
            "inside function g\n",
            "inside function g\n",
            "inside function g\n",
            "inside function g\n",
            "inside function g\n",
            "inside function g\n",
            "inside function g\n",
            "inside function g\n",
            "inside function g\n",
            "inside function g\n",
            "inside function g\n",
            "inside function g\n",
            "inside function g\n",
            "inside function g\n",
            "inside function g\n",
            "inside function g\n",
            "inside function g\n",
            "inside function g\n",
            "inside function g\n",
            "inside function g\n",
            "inside function g\n",
            "inside function g\n",
            "inside function g\n",
            "inside function g\n",
            "inside function g\n",
            "inside function g\n",
            "inside function g\n",
            "inside function g\n",
            "inside function g\n",
            "inside function g\n",
            "inside function g\n",
            "inside function g\n",
            "inside function g\n",
            "inside function g\n",
            "inside function g\n",
            "inside function g\n",
            "inside function g\n",
            "inside function g\n",
            "inside function g\n",
            "inside function g\n",
            "inside function g\n",
            "inside function g\n",
            "inside function g\n",
            "inside function g\n",
            "inside function g\n",
            "inside function g\n",
            "inside function g\n",
            "inside function g\n",
            "inside function g\n",
            "inside function g\n",
            "inside function g\n",
            "inside function g\n",
            "inside function g\n",
            "inside function g\n",
            "inside function g\n",
            "inside function g\n",
            "inside function g\n",
            "inside function g\n",
            "inside function g\n",
            "inside function g\n",
            "inside function g\n",
            "inside function g\n",
            "inside function g\n",
            "inside function g\n",
            "inside function g\n",
            "inside function g\n",
            "inside function g\n",
            "inside function g\n",
            "inside function g\n",
            "inside function g\n",
            "inside function g\n",
            "inside function g\n",
            "inside function g\n",
            "inside function g\n",
            "inside function g\n",
            "inside function g\n",
            "inside function g\n",
            "inside function g\n",
            "inside function g\n",
            "inside function g\n",
            "inside function g\n",
            "inside function g\n",
            "inside function g\n",
            "inside function g\n",
            "inside function g\n",
            "inside function g\n",
            "inside function g\n",
            "inside function g\n",
            "inside function g\n",
            "inside function g\n",
            "inside function g\n",
            "inside function g\n",
            "inside function g\n",
            "inside function g\n",
            "inside function g\n",
            "inside function g\n",
            "inside function g\n",
            "inside function g\n",
            "inside function g\n",
            "inside function g\n",
            "inside function g\n",
            "inside function g\n",
            "inside function g\n",
            "inside function g\n",
            "inside function g\n",
            "inside function g\n",
            "inside function g\n",
            "inside function g\n",
            "inside function g\n",
            "inside function g\n",
            "inside function g\n",
            "inside function g\n",
            "inside function g\n",
            "inside function g\n",
            "inside function g\n",
            "inside function g\n",
            "inside function g\n",
            "inside function g\n",
            "inside function g\n",
            "inside function g\n",
            "inside function g\n",
            "inside function g\n",
            "inside function g\n",
            "inside function g\n",
            "inside function g\n",
            "inside function g\n",
            "inside function g\n",
            "inside function g\n",
            "inside function g\n",
            "inside function g\n",
            "inside function g\n",
            "inside function g\n",
            "inside function g\n",
            "inside function g\n",
            "inside function g\n",
            "inside function g\n",
            "inside function g\n",
            "inside function g\n",
            "inside function g\n",
            "inside function g\n",
            "inside function g\n",
            "inside function g\n",
            "inside function g\n",
            "inside function g\n",
            "inside function g\n",
            "inside function g\n",
            "inside function g\n",
            "inside function g\n",
            "inside function g\n",
            "inside function g\n",
            "inside function g\n",
            "inside function g\n",
            "inside function g\n",
            "inside function g\n",
            "inside function g\n",
            "inside function g\n",
            "inside function g\n",
            "inside function g\n",
            "inside function g\n",
            "inside function g\n",
            "inside function g\n",
            "inside function g\n",
            "inside function g\n",
            "inside function g\n",
            "inside function g\n",
            "inside function g\n",
            "inside function g\n",
            "inside function g\n"
          ]
        },
        {
          "ename": "RecursionError",
          "evalue": "ignored",
          "output_type": "error",
          "traceback": [
            "\u001b[0;31m---------------------------------------------------------------------------\u001b[0m",
            "\u001b[0;31mRecursionError\u001b[0m                            Traceback (most recent call last)",
            "\u001b[0;32m<ipython-input-92-c43e34e6d405>\u001b[0m in \u001b[0;36m<module>\u001b[0;34m\u001b[0m\n\u001b[0;32m----> 1\u001b[0;31m \u001b[0mf\u001b[0m\u001b[0;34m(\u001b[0m\u001b[0;34m)\u001b[0m\u001b[0;34m\u001b[0m\u001b[0;34m\u001b[0m\u001b[0m\n\u001b[0m",
            "\u001b[0;32m<ipython-input-91-374a68ddd49e>\u001b[0m in \u001b[0;36mf\u001b[0;34m()\u001b[0m\n\u001b[1;32m      3\u001b[0m     \u001b[0mprint\u001b[0m\u001b[0;34m(\u001b[0m\u001b[0;34m'inside function g'\u001b[0m\u001b[0;34m)\u001b[0m\u001b[0;34m\u001b[0m\u001b[0;34m\u001b[0m\u001b[0m\n\u001b[1;32m      4\u001b[0m     \u001b[0mf\u001b[0m\u001b[0;34m(\u001b[0m\u001b[0;34m)\u001b[0m\u001b[0;34m\u001b[0m\u001b[0;34m\u001b[0m\u001b[0m\n\u001b[0;32m----> 5\u001b[0;31m   \u001b[0mg\u001b[0m\u001b[0;34m(\u001b[0m\u001b[0;34m)\u001b[0m\u001b[0;34m\u001b[0m\u001b[0;34m\u001b[0m\u001b[0m\n\u001b[0m\u001b[1;32m      6\u001b[0m   \u001b[0mprint\u001b[0m\u001b[0;34m(\u001b[0m\u001b[0;34m'inside function f'\u001b[0m\u001b[0;34m)\u001b[0m\u001b[0;34m\u001b[0m\u001b[0;34m\u001b[0m\u001b[0m\n",
            "\u001b[0;32m<ipython-input-91-374a68ddd49e>\u001b[0m in \u001b[0;36mg\u001b[0;34m()\u001b[0m\n\u001b[1;32m      2\u001b[0m   \u001b[0;32mdef\u001b[0m \u001b[0mg\u001b[0m\u001b[0;34m(\u001b[0m\u001b[0;34m)\u001b[0m\u001b[0;34m:\u001b[0m\u001b[0;34m\u001b[0m\u001b[0;34m\u001b[0m\u001b[0m\n\u001b[1;32m      3\u001b[0m     \u001b[0mprint\u001b[0m\u001b[0;34m(\u001b[0m\u001b[0;34m'inside function g'\u001b[0m\u001b[0;34m)\u001b[0m\u001b[0;34m\u001b[0m\u001b[0;34m\u001b[0m\u001b[0m\n\u001b[0;32m----> 4\u001b[0;31m     \u001b[0mf\u001b[0m\u001b[0;34m(\u001b[0m\u001b[0;34m)\u001b[0m\u001b[0;34m\u001b[0m\u001b[0;34m\u001b[0m\u001b[0m\n\u001b[0m\u001b[1;32m      5\u001b[0m   \u001b[0mg\u001b[0m\u001b[0;34m(\u001b[0m\u001b[0;34m)\u001b[0m\u001b[0;34m\u001b[0m\u001b[0;34m\u001b[0m\u001b[0m\n\u001b[1;32m      6\u001b[0m   \u001b[0mprint\u001b[0m\u001b[0;34m(\u001b[0m\u001b[0;34m'inside function f'\u001b[0m\u001b[0;34m)\u001b[0m\u001b[0;34m\u001b[0m\u001b[0;34m\u001b[0m\u001b[0m\n",
            "... last 2 frames repeated, from the frame below ...\n",
            "\u001b[0;32m<ipython-input-91-374a68ddd49e>\u001b[0m in \u001b[0;36mf\u001b[0;34m()\u001b[0m\n\u001b[1;32m      3\u001b[0m     \u001b[0mprint\u001b[0m\u001b[0;34m(\u001b[0m\u001b[0;34m'inside function g'\u001b[0m\u001b[0;34m)\u001b[0m\u001b[0;34m\u001b[0m\u001b[0;34m\u001b[0m\u001b[0m\n\u001b[1;32m      4\u001b[0m     \u001b[0mf\u001b[0m\u001b[0;34m(\u001b[0m\u001b[0;34m)\u001b[0m\u001b[0;34m\u001b[0m\u001b[0;34m\u001b[0m\u001b[0m\n\u001b[0;32m----> 5\u001b[0;31m   \u001b[0mg\u001b[0m\u001b[0;34m(\u001b[0m\u001b[0;34m)\u001b[0m\u001b[0;34m\u001b[0m\u001b[0;34m\u001b[0m\u001b[0m\n\u001b[0m\u001b[1;32m      6\u001b[0m   \u001b[0mprint\u001b[0m\u001b[0;34m(\u001b[0m\u001b[0;34m'inside function f'\u001b[0m\u001b[0;34m)\u001b[0m\u001b[0;34m\u001b[0m\u001b[0;34m\u001b[0m\u001b[0m\n",
            "\u001b[0;31mRecursionError\u001b[0m: maximum recursion depth exceeded"
          ]
        }
      ],
      "source": [
        "f()"
      ]
    },
    {
      "cell_type": "code",
      "execution_count": null,
      "metadata": {
        "id": "HIIAwqT9CDsB"
      },
      "outputs": [],
      "source": [
        "def g(x):\n",
        "    def h():\n",
        "        x = 'abc'\n",
        "    x = x + 1\n",
        "    print('in g(x): x =', x)\n",
        "    h()\n",
        "    return x\n",
        "\n",
        "x = 3\n",
        "z = g(x)"
      ]
    },
    {
      "cell_type": "code",
      "execution_count": null,
      "metadata": {
        "id": "C_q8dzhWBu_0"
      },
      "outputs": [],
      "source": [
        "def g(x):\n",
        "    def h(x):\n",
        "        x = x+1\n",
        "        print(\"in h(x): x = \", x)\n",
        "    x = x + 1\n",
        "    print('in g(x): x = ', x)\n",
        "    h(x)\n",
        "    return x\n",
        "\n",
        "x = 3\n",
        "z = g(x)\n",
        "print('in main program scope: x = ', x)\n",
        "print('in main program scope: z = ', z)"
      ]
    },
    {
      "cell_type": "code",
      "execution_count": null,
      "metadata": {
        "id": "_xnHV-ANB5rp"
      },
      "outputs": [],
      "source": []
    },
    {
      "cell_type": "markdown",
      "metadata": {
        "id": "JNR1jzxf_ntS"
      },
      "source": [
        "### Functions are 1st class citizens"
      ]
    },
    {
      "cell_type": "code",
      "execution_count": null,
      "metadata": {
        "colab": {
          "base_uri": "https://localhost:8080/"
        },
        "id": "m7q2wWmB_p_E",
        "outputId": "4945b532-658d-4dfd-81a6-7353b048748b"
      },
      "outputs": [
        {
          "data": {
            "text/plain": [
              "140471717004784"
            ]
          },
          "execution_count": 105,
          "metadata": {},
          "output_type": "execute_result"
        }
      ],
      "source": [
        "# type and id\n",
        "def square(num):\n",
        "  return num**2\n",
        "\n",
        "type(square)\n",
        "\n",
        "id(square)"
      ]
    },
    {
      "cell_type": "code",
      "execution_count": null,
      "metadata": {
        "colab": {
          "base_uri": "https://localhost:8080/"
        },
        "id": "8RrmX-m6_rHt",
        "outputId": "9cdcb374-e8ac-40b6-d696-3d4fe508028f"
      },
      "outputs": [
        {
          "data": {
            "text/plain": [
              "9"
            ]
          },
          "execution_count": 101,
          "metadata": {},
          "output_type": "execute_result"
        }
      ],
      "source": [
        "# reassign\n",
        "x = square\n",
        "id(x)\n",
        "x(3)"
      ]
    },
    {
      "cell_type": "code",
      "execution_count": null,
      "metadata": {
        "colab": {
          "base_uri": "https://localhost:8080/"
        },
        "id": "G3T73ZhHLN1f",
        "outputId": "f9c2bfe8-b167-4655-a50f-4486f8cd4607"
      },
      "outputs": [
        {
          "data": {
            "text/plain": [
              "2"
            ]
          },
          "execution_count": 102,
          "metadata": {},
          "output_type": "execute_result"
        }
      ],
      "source": [
        "a = 2\n",
        "b = a\n",
        "b"
      ]
    },
    {
      "cell_type": "code",
      "execution_count": null,
      "metadata": {
        "id": "b_Z8Btqm_sLl"
      },
      "outputs": [],
      "source": [
        "# deleting a function\n",
        "del square"
      ]
    },
    {
      "cell_type": "code",
      "execution_count": null,
      "metadata": {
        "colab": {
          "base_uri": "https://localhost:8080/",
          "height": 169
        },
        "id": "FDTvfuaRLa9w",
        "outputId": "6eb05398-c285-4a36-9cfc-15046235827e"
      },
      "outputs": [
        {
          "ename": "NameError",
          "evalue": "ignored",
          "output_type": "error",
          "traceback": [
            "\u001b[0;31m---------------------------------------------------------------------------\u001b[0m",
            "\u001b[0;31mNameError\u001b[0m                                 Traceback (most recent call last)",
            "\u001b[0;32m<ipython-input-104-2cfd8bba3a88>\u001b[0m in \u001b[0;36m<module>\u001b[0;34m\u001b[0m\n\u001b[0;32m----> 1\u001b[0;31m \u001b[0msquare\u001b[0m\u001b[0;34m(\u001b[0m\u001b[0;36m3\u001b[0m\u001b[0;34m)\u001b[0m\u001b[0;34m\u001b[0m\u001b[0;34m\u001b[0m\u001b[0m\n\u001b[0m",
            "\u001b[0;31mNameError\u001b[0m: name 'square' is not defined"
          ]
        }
      ],
      "source": [
        "square(3)"
      ]
    },
    {
      "cell_type": "code",
      "execution_count": null,
      "metadata": {
        "colab": {
          "base_uri": "https://localhost:8080/"
        },
        "id": "RcyCvsn7_ul1",
        "outputId": "b0c400ba-0f94-44df-d7f6-65de43ab966d"
      },
      "outputs": [
        {
          "data": {
            "text/plain": [
              "9"
            ]
          },
          "execution_count": 107,
          "metadata": {},
          "output_type": "execute_result"
        }
      ],
      "source": [
        "# storing\n",
        "L = [1,2,3,4,square]\n",
        "L[-1](3)"
      ]
    },
    {
      "cell_type": "code",
      "execution_count": null,
      "metadata": {
        "colab": {
          "base_uri": "https://localhost:8080/"
        },
        "id": "7MDTHoj3L68w",
        "outputId": "d5f88b88-fc77-442d-a7a2-c1e6dc7aeec0"
      },
      "outputs": [
        {
          "data": {
            "text/plain": [
              "{<function __main__.square(num)>}"
            ]
          },
          "execution_count": 108,
          "metadata": {},
          "output_type": "execute_result"
        }
      ],
      "source": [
        "s = {square}\n",
        "s"
      ]
    },
    {
      "cell_type": "code",
      "execution_count": null,
      "metadata": {
        "id": "DS442nxc_wQv"
      },
      "outputs": [],
      "source": [
        "# returning a function\n"
      ]
    },
    {
      "cell_type": "code",
      "execution_count": null,
      "metadata": {
        "id": "V0wLu-g3C50j"
      },
      "outputs": [],
      "source": [
        "def f():\n",
        "    def x(a, b):\n",
        "        return a+b\n",
        "    return x\n",
        "\n",
        "val = f()(3,4)\n",
        "print(val)"
      ]
    },
    {
      "cell_type": "code",
      "execution_count": null,
      "metadata": {
        "id": "hUF93h33_ze1"
      },
      "outputs": [],
      "source": [
        "# function as argument"
      ]
    },
    {
      "cell_type": "code",
      "execution_count": null,
      "metadata": {
        "id": "Vn9ItKI_B8Vv"
      },
      "outputs": [],
      "source": [
        "def func_a():\n",
        "    print('inside func_a')\n",
        "\n",
        "def func_b(z):\n",
        "    print('inside func_c')\n",
        "    return z()\n",
        "\n",
        "print(func_b(func_a))"
      ]
    },
    {
      "cell_type": "markdown",
      "metadata": {
        "id": "rHD9KVy__6_K"
      },
      "source": [
        "### Benefits of using a Function\n",
        "\n",
        "- Code Modularity\n",
        "- Code Readibility\n",
        "- Code Reusability"
      ]
    }
  ],
  "metadata": {
    "colab": {
      "provenance": [],
      "include_colab_link": true
    },
    "kernelspec": {
      "display_name": "Python 3",
      "name": "python3"
    },
    "language_info": {
      "name": "python"
    }
  },
  "nbformat": 4,
  "nbformat_minor": 0
}