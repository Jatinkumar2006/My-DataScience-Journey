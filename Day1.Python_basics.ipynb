{
  "nbformat": 4,
  "nbformat_minor": 0,
  "metadata": {
    "colab": {
      "provenance": []
    },
    "kernelspec": {
      "name": "python3",
      "display_name": "Python 3"
    },
    "language_info": {
      "name": "python"
    }
  },
  "cells": [
    {
      "cell_type": "markdown",
      "source": [
        "Python is a dynamically type and case sensetive language."
      ],
      "metadata": {
        "id": "8bf6HME_zvG8"
      }
    },
    {
      "cell_type": "markdown",
      "source": [
        "Python basics"
      ],
      "metadata": {
        "id": "BYyK_Bj-wtPj"
      }
    },
    {
      "cell_type": "code",
      "execution_count": null,
      "metadata": {
        "id": "cHDPZ37Jupdj"
      },
      "outputs": [],
      "source": [
        "#print output\n",
        "#print(value,sep=\" \",end=\"\\n\")\n",
        "print(\"hello world\");\n",
        "print(9);\n",
        "print(True);\n",
        "print(5+6j);\n",
        "print(\"hello\",9,True,sep=\"-\",end=\"#\");\n",
        "print(5+6j);"
      ]
    },
    {
      "cell_type": "markdown",
      "source": [
        "Comments"
      ],
      "metadata": {
        "id": "RUJTZxGny1QY"
      }
    },
    {
      "cell_type": "code",
      "source": [
        "#sinle line comment\n",
        "\"\"\" Multi line comment\n",
        "    use this for more than one line\"\"\""
      ],
      "metadata": {
        "id": "vij8lEhAzHWI"
      },
      "execution_count": null,
      "outputs": []
    },
    {
      "cell_type": "markdown",
      "source": [
        "*Variables*   ---\n",
        "\n",
        "Variables are used to hold the data during execution of program, because it is a dynamically type language so there is a no need to declare the type of variable.\n",
        "   If there is a need of variable then just think its name and started to use it."
      ],
      "metadata": {
        "id": "pf6DSDVozUTf"
      }
    },
    {
      "cell_type": "code",
      "source": [
        "a=5;\n",
        "b=\"Jatin\"\n",
        "print(a);\n",
        "print(b);\n",
        "\n",
        "#In python we can not only the variable value but also change its type as well.\n",
        "\n",
        "x=7\n",
        "print(x)\n",
        "print(type(x)) # used to know the type of variable\n",
        "x=9\n",
        "print(x)  #value change\n",
        "print(type(x))\n",
        "x=\"jatin\"\n",
        "print(x) # value and type both change\n",
        "print(type(x))"
      ],
      "metadata": {
        "id": "CkQb5WmuzdiY"
      },
      "execution_count": null,
      "outputs": []
    },
    {
      "cell_type": "markdown",
      "source": [
        "Data types in python"
      ],
      "metadata": {
        "id": "dNYtzz6D14aT"
      }
    },
    {
      "cell_type": "code",
      "source": [
        "#int\n",
        "print(8)\n",
        "print(-4)\n",
        "#float\n",
        "print(3.5)\n",
        "print(-8)\n",
        "#bool\n",
        "print(True)\n",
        "print(False)\n",
        "#complex\n",
        "print(3+5j)\n",
        "#str\n",
        "print(\"Jatin\")\n",
        "#list\n",
        "print([1,2,3])\n",
        "#tuple\n",
        "print((1,2,3))\n",
        "#set\n",
        "print({1,2,3})\n",
        "#dict\n",
        "print({\"name\":\"jatin\",\"age\":20})\n"
      ],
      "metadata": {
        "id": "WE4n07XI2SRh"
      },
      "execution_count": null,
      "outputs": []
    },
    {
      "cell_type": "markdown",
      "source": [
        "Assign multiple values to varibles"
      ],
      "metadata": {
        "id": "3yZC2rtz3jna"
      }
    },
    {
      "cell_type": "code",
      "source": [
        "a=1\n",
        "b=2\n",
        "c=3\n",
        "print(a,b,c);\n",
        "\n",
        "#assign together\n",
        "a,b,c=1,2,3\n",
        "print(a,b,c);\n",
        "\n",
        "\n",
        "a=b=c=1\n",
        "print(a,b,c);"
      ],
      "metadata": {
        "id": "0aiNN7yH3szN"
      },
      "execution_count": null,
      "outputs": []
    },
    {
      "cell_type": "markdown",
      "source": [
        "Keywords-\n",
        "\n",
        "Reserved words, Predefined words\n",
        "\n"
      ],
      "metadata": {
        "id": "yF7I-_nW4Jnj"
      }
    },
    {
      "cell_type": "code",
      "source": [
        "from keyword import kwlist\n",
        "print(kwlist)"
      ],
      "metadata": {
        "colab": {
          "base_uri": "https://localhost:8080/"
        },
        "id": "s_lyuVR24NR9",
        "outputId": "5ba7bb16-d9f3-409f-a3ce-c4e7e0cbeb89"
      },
      "execution_count": null,
      "outputs": [
        {
          "output_type": "stream",
          "name": "stdout",
          "text": [
            "['False', 'None', 'True', 'and', 'as', 'assert', 'async', 'await', 'break', 'class', 'continue', 'def', 'del', 'elif', 'else', 'except', 'finally', 'for', 'from', 'global', 'if', 'import', 'in', 'is', 'lambda', 'nonlocal', 'not', 'or', 'pass', 'raise', 'return', 'try', 'while', 'with', 'yield']\n"
          ]
        }
      ]
    },
    {
      "cell_type": "markdown",
      "source": [
        "Type conversion"
      ],
      "metadata": {
        "id": "awRFAJug5lZt"
      }
    },
    {
      "cell_type": "code",
      "source": [
        "#Implict type conversionn - auto type conversion\n",
        "print(5+5.6)    #int+float=float auto type conversion\n",
        "\n",
        "#Explict type conversion\n",
        "#print(5+'5')    # error\n",
        "print(5+int('5'))"
      ],
      "metadata": {
        "colab": {
          "base_uri": "https://localhost:8080/"
        },
        "id": "iY9Vucdi5s6P",
        "outputId": "4672c554-7390-4bba-d28b-887f2a5bc118"
      },
      "execution_count": null,
      "outputs": [
        {
          "output_type": "stream",
          "name": "stdout",
          "text": [
            "10.6\n",
            "10\n"
          ]
        }
      ]
    },
    {
      "cell_type": "markdown",
      "source": [
        "User Input"
      ],
      "metadata": {
        "id": "SVTdUB0o5Atg"
      }
    },
    {
      "cell_type": "code",
      "source": [
        "name=input(\"enter your name: \");   #by default str as input\n",
        "age=int(input(\"enter your age:\"));\n",
        "print(name,age);\n"
      ],
      "metadata": {
        "colab": {
          "base_uri": "https://localhost:8080/"
        },
        "id": "GAp_aARf5Il1",
        "outputId": "07c9580f-7407-4a49-edb3-cbedef62d1bd"
      },
      "execution_count": null,
      "outputs": [
        {
          "output_type": "stream",
          "name": "stdout",
          "text": [
            "enter your name: Jatin\n",
            "enter your age:12\n",
            "Jatin 12\n"
          ]
        }
      ]
    },
    {
      "cell_type": "markdown",
      "source": [
        "Literals\n",
        "\n",
        "Value of variable is literal."
      ],
      "metadata": {
        "id": "uumwyCAg6ZMG"
      }
    },
    {
      "cell_type": "code",
      "source": [
        "#binary literal\n",
        "a=0b001\n",
        "#Decimal literal\n",
        "b=3445\n",
        "#Octal literal\n",
        "c=0x310\n",
        "#complex literal\n",
        "x=5+3j\n",
        "print(x,x.real,x.imag)"
      ],
      "metadata": {
        "colab": {
          "base_uri": "https://localhost:8080/"
        },
        "id": "sFbHi8K46gbn",
        "outputId": "1d3c2b51-c8e1-4591-b403-c9c63249ebb6"
      },
      "execution_count": null,
      "outputs": [
        {
          "output_type": "stream",
          "name": "stdout",
          "text": [
            "(5+3j) 5.0 3.0\n"
          ]
        }
      ]
    },
    {
      "cell_type": "markdown",
      "source": [
        "Unicode\n",
        "\n",
        "like ascii code"
      ],
      "metadata": {
        "id": "Pr5Iuvq_7UkI"
      }
    },
    {
      "cell_type": "code",
      "source": [
        "#character to unicode\n",
        "print(ord('A'))   # use ord()\n",
        "\n",
        "#unicode to character\n",
        "print(chr(69))    #use chr()\n",
        "\n",
        "#decimal to binary\n",
        "print(bin(10))\n",
        "\n",
        "#binary to decimal\n",
        "a=1001 #binary\n",
        "#use \"0b\" before convert it to decimal to show that it is binary\n",
        "print(0b1001)\n",
        "\n",
        "#decimal to hexadecimal\n",
        "print(hex(14))\n",
        "\n",
        "#hexadecimal to decimal\n",
        "# a=24AB #hexadecimal\n",
        "#use \"0x\" before convert it to decimal to show that it is hexadecimal\n",
        "print(0x24AB)\n",
        "\n",
        "\n",
        "#same for octal"
      ],
      "metadata": {
        "colab": {
          "base_uri": "https://localhost:8080/"
        },
        "id": "KPYZzCct7R8B",
        "outputId": "ceb322b6-8686-4090-c0c9-033b85d3a9de"
      },
      "execution_count": null,
      "outputs": [
        {
          "output_type": "stream",
          "name": "stdout",
          "text": [
            "65\n",
            "E\n",
            "0b1010\n",
            "9\n",
            "0xe\n",
            "9387\n"
          ]
        }
      ]
    },
    {
      "cell_type": "markdown",
      "source": [
        "Operators in Python"
      ],
      "metadata": {
        "id": "IJbgNZodnCu8"
      }
    },
    {
      "cell_type": "code",
      "source": [
        "#Arithmatic operator    +,-,*,/,//,%,**\n",
        "print(7+5);     #addition\n",
        "print(7-5);     #substraction\n",
        "print(7*5);     #multiplication\n",
        "print(7/5);     #True division\n",
        "print(7//5);    #floor division(integer)\n",
        "print(7%5);     #modulo(remiander)\n",
        "print(2**3);    #power(exponenntial)\n",
        "print(\"ab\"+\"AB\");   #\"+\"   act as concation operator if used between strings\n",
        "print(4*\"AB\");      # integer*string=integer times string  ABABABAB"
      ],
      "metadata": {
        "colab": {
          "base_uri": "https://localhost:8080/"
        },
        "id": "mwYimtSunGJV",
        "outputId": "6cac8134-00ef-4072-e17c-5aa50643cd75"
      },
      "execution_count": null,
      "outputs": [
        {
          "output_type": "stream",
          "name": "stdout",
          "text": [
            "12\n",
            "2\n",
            "35\n",
            "1.4\n",
            "1\n",
            "2\n",
            "8\n",
            "abAB\n",
            "ABABABAB\n"
          ]
        }
      ]
    },
    {
      "cell_type": "code",
      "source": [
        "#Relational operator   <,>,<=,>=,==,!=      output- True/False\n",
        "print(4>5)\n",
        "print(5>4)\n",
        "print(4<5)\n",
        "print(4>=5)\n",
        "print(4<=5)\n",
        "print(4==4)\n",
        "print(4==5)  #equality checker\n",
        "print(4!=4)  #equality checker\n",
        "print(4!=5)"
      ],
      "metadata": {
        "colab": {
          "base_uri": "https://localhost:8080/"
        },
        "id": "dKoSG_uAoXoj",
        "outputId": "4c2aafde-fd5e-4203-84a8-046b6af23517"
      },
      "execution_count": null,
      "outputs": [
        {
          "output_type": "stream",
          "name": "stdout",
          "text": [
            "False\n",
            "True\n",
            "True\n",
            "False\n",
            "True\n",
            "True\n",
            "False\n",
            "False\n",
            "True\n"
          ]
        }
      ]
    },
    {
      "cell_type": "code",
      "source": [
        "#Logical operator   not,and,or\n",
        "print(not True)\n",
        "print(not 1)\n",
        "print(1 and 0)\n",
        "print(1 or 0)\n",
        "print(4 and 3)\n",
        "print(4 or 3)"
      ],
      "metadata": {
        "colab": {
          "base_uri": "https://localhost:8080/"
        },
        "id": "pYz5hVXBqW-B",
        "outputId": "f06ce157-5218-4741-ad10-a89d879aed7c"
      },
      "execution_count": null,
      "outputs": [
        {
          "output_type": "stream",
          "name": "stdout",
          "text": [
            "False\n",
            "False\n",
            "0\n",
            "1\n",
            "3\n",
            "4\n"
          ]
        }
      ]
    },
    {
      "cell_type": "code",
      "source": [
        "#Assignment operator   =,+=,-=,*=,/=,//=,&=,^=,**=,>>=.<<=,%=\n",
        "x=5\n",
        "print(x)\n",
        "x+=1 #x=x+1\n",
        "print(x)\n",
        "x-=1  #x=x-1\n",
        "print(x)\n",
        "x*=2  #x=x*2\n",
        "print(x)"
      ],
      "metadata": {
        "id": "c7-5wvKpqSTI",
        "colab": {
          "base_uri": "https://localhost:8080/"
        },
        "outputId": "32d4a560-fe8c-47a8-8184-3e9682308f65"
      },
      "execution_count": 8,
      "outputs": [
        {
          "output_type": "stream",
          "name": "stdout",
          "text": [
            "5\n",
            "6\n",
            "5\n",
            "10\n"
          ]
        }
      ]
    },
    {
      "cell_type": "code",
      "source": [
        "#Bitwise operator   &,|,^,~,>>,<<\n",
        "print(2&3)   #bitwise and\n",
        "print(2|3)   #bitwise or\n",
        "print(2^3)   #bitwise xor\n",
        "print(~2)    #bitwise not\n",
        "print(2>>3)  #right shift\n",
        "print(2<<3)  #left shift"
      ],
      "metadata": {
        "colab": {
          "base_uri": "https://localhost:8080/"
        },
        "id": "r14Z75YIspOT",
        "outputId": "d3a9f46b-d9ab-4ce2-a4ad-fbe777b7bb0e"
      },
      "execution_count": 9,
      "outputs": [
        {
          "output_type": "stream",
          "name": "stdout",
          "text": [
            "2\n",
            "3\n",
            "1\n",
            "-3\n",
            "0\n",
            "16\n"
          ]
        }
      ]
    },
    {
      "cell_type": "code",
      "source": [
        "#Membership operator       in,not in          output-True/False      only applicable on iterables\n",
        "print(2 in [1,2,3])\n",
        "print(2 not in [1,2,3])\n",
        "print('e' in 'MySirg')\n",
        "print('y' in 'MySirg')\n"
      ],
      "metadata": {
        "colab": {
          "base_uri": "https://localhost:8080/"
        },
        "id": "fQaOLTfKufzw",
        "outputId": "f35cd692-4568-4b18-b0e0-7976b59f126b"
      },
      "execution_count": 10,
      "outputs": [
        {
          "output_type": "stream",
          "name": "stdout",
          "text": [
            "True\n",
            "False\n",
            "False\n",
            "True\n"
          ]
        }
      ]
    },
    {
      "cell_type": "code",
      "source": [
        "#Identity operator         is, is not       output-True/False      It checks wheater the two references refering to the same object or  not.\n",
        "x = [1, 2, 3]\n",
        "y = [1, 2, 3]\n",
        "z = x\n",
        "\n",
        "print(x == y)     # True: values are equal\n",
        "print(x is y)     # False: different memory locations\n",
        "print(x is z)     # True: same memory location\n",
        "\n",
        "print(x is not y) # True\n",
        "print(x is not z) # False\n"
      ],
      "metadata": {
        "colab": {
          "base_uri": "https://localhost:8080/"
        },
        "id": "7hU6axrOClhz",
        "outputId": "71896090-b5df-4728-f4cc-0da90220e830"
      },
      "execution_count": 1,
      "outputs": [
        {
          "output_type": "stream",
          "name": "stdout",
          "text": [
            "True\n",
            "False\n",
            "True\n",
            "True\n",
            "False\n"
          ]
        }
      ]
    },
    {
      "cell_type": "markdown",
      "source": [
        "Control Statement"
      ],
      "metadata": {
        "id": "8o0jrx6JDwX_"
      }
    },
    {
      "cell_type": "markdown",
      "source": [
        "Decision Control - if,if-else,if-elif-else,single line if-else"
      ],
      "metadata": {
        "id": "OZyyOnr_D5g9"
      }
    },
    {
      "cell_type": "code",
      "source": [
        "#if\n",
        "x = 10\n",
        "\n",
        "if x > 5:\n",
        "    print(\"x is greater than 5\")\n"
      ],
      "metadata": {
        "colab": {
          "base_uri": "https://localhost:8080/"
        },
        "id": "ijb8vdkiEFii",
        "outputId": "1dc8b948-9687-4787-b8eb-32ad9de111dd"
      },
      "execution_count": 2,
      "outputs": [
        {
          "output_type": "stream",
          "name": "stdout",
          "text": [
            "x is greater than 5\n"
          ]
        }
      ]
    },
    {
      "cell_type": "code",
      "source": [
        "#if-else\n",
        "x = 3\n",
        "\n",
        "if x > 5:\n",
        "    print(\"x is greater than 5\")\n",
        "else:\n",
        "    print(\"x is less than or equal to 5\")\n"
      ],
      "metadata": {
        "id": "9YZhJEdfEXI6"
      },
      "execution_count": null,
      "outputs": []
    },
    {
      "cell_type": "code",
      "source": [
        "#if-elif-else\n",
        "x = 0\n",
        "\n",
        "if x > 0:\n",
        "    print(\"Positive number\")\n",
        "elif x == 0:\n",
        "    print(\"Zero\")\n",
        "else:\n",
        "    print(\"Negative number\")\n"
      ],
      "metadata": {
        "id": "L2WSBH1sEd1C"
      },
      "execution_count": null,
      "outputs": []
    },
    {
      "cell_type": "code",
      "source": [
        "# single line if-else\n",
        "# code1 \"if\" condition \"else\" code2\n",
        "num = 13\n",
        "print(\"Even\" if num % 2 == 0 else \"Odd\")\n"
      ],
      "metadata": {
        "id": "Axa_59UFEkvN"
      },
      "execution_count": null,
      "outputs": []
    },
    {
      "cell_type": "markdown",
      "source": [
        "Match Statement"
      ],
      "metadata": {
        "id": "itY97a2PFuhh"
      }
    },
    {
      "cell_type": "markdown",
      "source": [
        "\n",
        "\n",
        "```\n",
        "#Syntax\n",
        "match variable:\n",
        "    case value1:\n",
        "        # code block\n",
        "    case value2:\n",
        "        # code block\n",
        "    case _:\n",
        "        # default block (like 'else')\n",
        "```\n",
        "\n",
        "\n"
      ],
      "metadata": {
        "id": "UHdMyKAXGDTJ"
      }
    },
    {
      "cell_type": "code",
      "source": [
        "day = 3\n",
        "\n",
        "match day:\n",
        "    case 1:\n",
        "        print(\"Monday\")\n",
        "    case 2:\n",
        "        print(\"Tuesday\")\n",
        "    case 3:\n",
        "        print(\"Wednesday\")\n",
        "    case 4:\n",
        "        print(\"Thursday\")\n",
        "    case 5:\n",
        "        print(\"Friday\")\n",
        "    case 6:\n",
        "        print(\"Saturday\")\n",
        "    case 7:\n",
        "        print(\"Sunday\")\n",
        "    case _:\n",
        "        print(\"Invalid day\")"
      ],
      "metadata": {
        "id": "lt9L1GOaFw-_"
      },
      "execution_count": null,
      "outputs": []
    },
    {
      "cell_type": "markdown",
      "source": [
        "Conditional Case\n",
        "\n",
        "\n",
        "\n",
        "```\n",
        "#syntax\n",
        "match variable:\n",
        "    case pattern if condition:\n",
        "        # code block\n",
        "    case _:\n",
        "        # default block```\n",
        "\n"
      ],
      "metadata": {
        "id": "53XmcIUhGuPu"
      }
    },
    {
      "cell_type": "code",
      "source": [
        "x = 5\n",
        "\n",
        "match x:\n",
        "    case x if x > 0:\n",
        "        print(\"Positive number\")\n",
        "    case x if x < 0:\n",
        "        print(\"Negative number\")\n",
        "    case 0:\n",
        "        print(\"Zero\")\n"
      ],
      "metadata": {
        "id": "81vG3HNaG4-s"
      },
      "execution_count": null,
      "outputs": []
    },
    {
      "cell_type": "markdown",
      "source": [
        "Iterative control   - while, for"
      ],
      "metadata": {
        "id": "HhXBCHnRHFX1"
      }
    },
    {
      "cell_type": "code",
      "source": [
        "#while\n",
        "i = 1\n",
        "while i <= 5:\n",
        "    print(i)\n",
        "    i += 1\n"
      ],
      "metadata": {
        "colab": {
          "base_uri": "https://localhost:8080/"
        },
        "id": "M4NmxbZ9HiQg",
        "outputId": "e8752aa2-7e00-415c-84fa-f7e78ee79fa9"
      },
      "execution_count": 3,
      "outputs": [
        {
          "output_type": "stream",
          "name": "stdout",
          "text": [
            "1\n",
            "2\n",
            "3\n",
            "4\n",
            "5\n"
          ]
        }
      ]
    },
    {
      "cell_type": "markdown",
      "source": [
        "Break\n",
        "\n",
        "\n",
        "*   break is a keyword\n",
        "*   break is used to transfer the control from outside the loop.\n",
        "*   break terminates the execution of loop.\n",
        "\n",
        "\n",
        "\n"
      ],
      "metadata": {
        "id": "aBzayQogJFiB"
      }
    },
    {
      "cell_type": "code",
      "source": [
        "i = 1\n",
        "\n",
        "while i <= 10:\n",
        "    if i == 6:\n",
        "        break\n",
        "    print(i)\n",
        "    i += 1\n"
      ],
      "metadata": {
        "id": "NdbtR3UQJfpw"
      },
      "execution_count": null,
      "outputs": []
    },
    {
      "cell_type": "markdown",
      "source": [
        "Continue-\n",
        "\n",
        "The continue statement is used to skip the current iteration of the loop and move to the next iteration, without executing the remaining code in the loop body for that iteration."
      ],
      "metadata": {
        "id": "Cisb7norK6Vt"
      }
    },
    {
      "cell_type": "code",
      "source": [
        "i = 0\n",
        "\n",
        "while i < 5:\n",
        "    i += 1\n",
        "    if i == 3:\n",
        "        continue\n",
        "    print(i)"
      ],
      "metadata": {
        "colab": {
          "base_uri": "https://localhost:8080/"
        },
        "id": "qUvuCTncK782",
        "outputId": "eea357d9-015c-449a-9dac-9898a5611523"
      },
      "execution_count": 4,
      "outputs": [
        {
          "output_type": "stream",
          "name": "stdout",
          "text": [
            "1\n",
            "2\n",
            "4\n",
            "5\n"
          ]
        }
      ]
    },
    {
      "cell_type": "markdown",
      "source": [
        "else with while loop\n",
        "\n",
        "```\n",
        "while condition:\n",
        "    # loop body\n",
        "else:\n",
        "    # this runs if loop completes without break\n",
        "```"
      ],
      "metadata": {
        "id": "5KRLeFOXMsj0"
      }
    },
    {
      "cell_type": "code",
      "source": [
        "i = 1\n",
        "\n",
        "while i <= 3:\n",
        "    print(\"i =\", i)\n",
        "    i += 1\n",
        "else:\n",
        "    print(\"Loop finished successfully\")\n"
      ],
      "metadata": {
        "id": "2cjnscuuNBA8"
      },
      "execution_count": null,
      "outputs": []
    },
    {
      "cell_type": "markdown",
      "source": [
        "pass Keyword in Python\n",
        "\n",
        "The pass keyword is a placeholder that does nothing when executed. It's used when a statement is syntactically required but you don’t want to write any code yet."
      ],
      "metadata": {
        "id": "rnisMY_-Pqyx"
      }
    },
    {
      "cell_type": "code",
      "source": [
        "x = 5\n",
        "\n",
        "if x > 0:\n",
        "    pass  # Placeholder for future code\n",
        "else:\n",
        "    print(\"x is not positive\")\n"
      ],
      "metadata": {
        "id": "o79k3DfvPtHl"
      },
      "execution_count": null,
      "outputs": []
    },
    {
      "cell_type": "markdown",
      "source": [
        "for loop            \n",
        "   works on iterables(str,list,renge,tuple,dict)"
      ],
      "metadata": {
        "id": "gBPLCQ5zP1GA"
      }
    },
    {
      "cell_type": "code",
      "source": [
        "for x in \"mysirg\":\n",
        "  print(x)"
      ],
      "metadata": {
        "colab": {
          "base_uri": "https://localhost:8080/"
        },
        "id": "CLFMi8TjQE_w",
        "outputId": "037b2b48-7724-482f-cb1d-5b76cc8cc6bb"
      },
      "execution_count": 5,
      "outputs": [
        {
          "output_type": "stream",
          "name": "stdout",
          "text": [
            "m\n",
            "y\n",
            "s\n",
            "i\n",
            "r\n",
            "g\n"
          ]
        }
      ]
    },
    {
      "cell_type": "code",
      "source": [
        "for i in range(1, 6):\n",
        "    print(i)"
      ],
      "metadata": {
        "colab": {
          "base_uri": "https://localhost:8080/"
        },
        "id": "7GKDgIh3QPBI",
        "outputId": "b519675b-0827-49d6-edbf-cd45233d69b7"
      },
      "execution_count": 6,
      "outputs": [
        {
          "output_type": "stream",
          "name": "stdout",
          "text": [
            "1\n",
            "2\n",
            "3\n",
            "4\n",
            "5\n"
          ]
        }
      ]
    },
    {
      "cell_type": "code",
      "source": [
        "for i in range(3):\n",
        "    print(\"Loop:\", i)\n",
        "else:\n",
        "    print(\"Loop finished!\")\n"
      ],
      "metadata": {
        "id": "9-d2k63ZQepM"
      },
      "execution_count": null,
      "outputs": []
    }
  ]
}