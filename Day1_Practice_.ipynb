{
  "cells": [
    {
      "cell_type": "markdown",
      "metadata": {
        "id": "view-in-github",
        "colab_type": "text"
      },
      "source": [
        "<a href=\"https://colab.research.google.com/github/Jatinkumar2006/My-DataScience-Journey/blob/main/Day1_Practice_.ipynb\" target=\"_parent\"><img src=\"https://colab.research.google.com/assets/colab-badge.svg\" alt=\"Open In Colab\"/></a>"
      ]
    },
    {
      "cell_type": "markdown",
      "metadata": {
        "id": "A05OG15VqOPF"
      },
      "source": [
        "# Task : Session 1\n",
        "Solve these questions own your own and try to test yourself what you have learned in the session.\n",
        "\n",
        "Happy Learning!"
      ]
    },
    {
      "cell_type": "markdown",
      "metadata": {
        "id": "2doIXf8bqe9_"
      },
      "source": [
        "### Q1 :- Print the given strings as per stated format.\n",
        "\n",
        "**Given strings**:\n",
        "```\n",
        "\"Data\" \"Science\" \"Learning\" \"Journey\"\n",
        "\"With\" \"Me\"\n",
        "```\n",
        "**Output**:\n",
        "```\n",
        "Data-Science-Learning-Journey-With-Me\n",
        "```\n",
        "\n",
        "Concept- [Seperator and End]"
      ]
    },
    {
      "cell_type": "code",
      "execution_count": null,
      "metadata": {
        "id": "-em6d3KErDtp",
        "outputId": "a1fa1ab1-3540-45f9-d8b5-9ca7afcc1c54"
      },
      "outputs": [
        {
          "name": "stdout",
          "output_type": "stream",
          "text": [
            "Data-Science-Learning-Journey-With-Me\n"
          ]
        }
      ],
      "source": [
        "a=\"Data\"\n",
        "b=\"Science\"\n",
        "c=\"Learning\"\n",
        "d=\"Journey\"\n",
        "e=\"With\"\n",
        "f=\"Me\"\n",
        "print(a,b,c,d,e,sep=\"-\",end=\"-\")\n",
        "print(f)"
      ]
    },
    {
      "cell_type": "markdown",
      "metadata": {
        "id": "1KUpN7ZTrC3_"
      },
      "source": [
        "### Q2:- Write a program that will convert celsius value to fahrenheit."
      ]
    },
    {
      "cell_type": "code",
      "execution_count": null,
      "metadata": {
        "id": "yxKYhYQiqWfj",
        "outputId": "8ea898e2-2490-4017-d2cc-b7cd209b055f"
      },
      "outputs": [
        {
          "name": "stdout",
          "output_type": "stream",
          "text": [
            "The Celsius = 37.0 Then Fahrenheit= 98.60000000000001\n"
          ]
        }
      ],
      "source": [
        "Celsius=float(input(\"enter celsius value:\"));\n",
        "Fahrenheit=(Celsius*(9/5))+32;\n",
        "print(\"The Celsius =\",Celsius,\"Then Fahrenheit=\",Fahrenheit);"
      ]
    },
    {
      "cell_type": "markdown",
      "metadata": {
        "id": "RLrOBBJurLB2"
      },
      "source": [
        "### Q3:- Take 2 numbers as input from the user.Write a program to swap the numbers without using any special python syntax."
      ]
    },
    {
      "cell_type": "code",
      "execution_count": null,
      "metadata": {
        "id": "yPn7if0TrJ4F",
        "outputId": "1fee03f4-a36a-4a89-f43b-5f0dd6eaf0d3"
      },
      "outputs": [
        {
          "name": "stdout",
          "output_type": "stream",
          "text": [
            "Before swap:\n",
            " a= 56 b= 79\n",
            "After swap:\n",
            " a= 79 b= 56\n"
          ]
        }
      ],
      "source": [
        "a=int(input(\"Enter a number:\"));\n",
        "b=int(input(\"Enter a number:\"));\n",
        "print(\"Before swap:\\n a=\",a,\"b=\",b);\n",
        "a=a+b;\n",
        "b=a-b;\n",
        "a=a-b;\n",
        "print(\"After swap:\\n a=\",a,\"b=\",b);\n"
      ]
    },
    {
      "cell_type": "markdown",
      "metadata": {
        "id": "waLCP1bjr7ML"
      },
      "source": [
        "### Q4:- Write a program to find the euclidean distance between two coordinates.Take both the coordinates from the user as input."
      ]
    },
    {
      "cell_type": "code",
      "execution_count": null,
      "metadata": {
        "id": "Pl1Sv-xnrxnH",
        "outputId": "8b0da69f-3713-47b8-a56e-7fb6aa1786a9"
      },
      "outputs": [
        {
          "name": "stdout",
          "output_type": "stream",
          "text": [
            "distance is  1.4142135623730951\n"
          ]
        }
      ],
      "source": [
        "import math\n",
        "x1=float(input(\"x1:\"));\n",
        "x2=float(input(\"x2:\"));\n",
        "y1=float(input(\"y1:\"));\n",
        "y2=float(input(\"y2:\"));\n",
        "d=math.sqrt((x2-x1)**2+(y2-y1)**2)\n",
        "print(\"distance is \",d);\n",
        "\n"
      ]
    },
    {
      "cell_type": "markdown",
      "metadata": {
        "id": "VLrhg-FRsHjR"
      },
      "source": [
        "### Q5:- Write a program to find the simple interest when the value of principle,rate of interest and time period is provided by the user.\n"
      ]
    },
    {
      "cell_type": "code",
      "execution_count": null,
      "metadata": {
        "id": "s40DlReZsTmY",
        "outputId": "e0d18fe1-a5f9-4850-b35f-bc19104482f9"
      },
      "outputs": [
        {
          "name": "stdout",
          "output_type": "stream",
          "text": [
            "simple intrest is : 100.0\n"
          ]
        }
      ],
      "source": [
        "p=float(input(\"Principle Money:\"));\n",
        "r=float(input(\"Rate of Intrest:\"));\n",
        "t=float(input(\"Time period in years:\"));\n",
        "simple_intrest=(p*r*t)/100;\n",
        "print(\"simple intrest is :\",simple_intrest);\n",
        "\n"
      ]
    },
    {
      "cell_type": "markdown",
      "metadata": {
        "id": "LMy0BTUktYKa"
      },
      "source": [
        "### Q6:- Write a program that will tell the number of dogs and chicken are there when the user will provide the value of total heads and legs.\n",
        "\n",
        "For example:\n",
        "Input:\n",
        "heads -> 4\n",
        "legs -> 12\n",
        "<br>\n",
        "Output:\n",
        "dogs -> 2\n",
        "chicken -> 2\n",
        "\n",
        "\n",
        "\n"
      ]
    },
    {
      "cell_type": "code",
      "execution_count": null,
      "metadata": {
        "id": "XSBvJoA4tXaG",
        "outputId": "4fe1ac0f-826a-4c9d-bf33-78b0fd1f2c56"
      },
      "outputs": [
        {
          "name": "stdout",
          "output_type": "stream",
          "text": [
            "Dogs -> 1\n",
            "Chickens -> 3\n"
          ]
        }
      ],
      "source": [
        "heads = int(input(\"Enter number of heads: \"))\n",
        "legs = int(input(\"Enter number of legs: \"))\n",
        "\n",
        "# Let c = number of chickens\n",
        "# Let d = number of dogs\n",
        "# So, c + d = heads\n",
        "# And, 2c + 4d = legs\n",
        "\n",
        "# Solve:\n",
        "# From first: c = heads - d\n",
        "# Substitute into second:\n",
        "# 2*(heads - d) + 4d = legs\n",
        "# => 2*heads - 2d + 4d = legs\n",
        "# => 2d = legs - 2*heads\n",
        "# => d = (legs - 2*heads) / 2\n",
        "\n",
        "dogs = (legs - 2 * heads) // 2\n",
        "chickens = heads - dogs\n",
        "\n",
        "if dogs < 0 or chickens < 0 or (legs - 2 * heads) % 2 != 0:\n",
        "    print(\"Invalid input: No such combination of dogs and chickens.\")\n",
        "else:\n",
        "    print(\"Dogs ->\", dogs)\n",
        "    print(\"Chickens ->\", chickens)\n"
      ]
    },
    {
      "cell_type": "markdown",
      "metadata": {
        "id": "gJ7C5kZYt4BP"
      },
      "source": [
        "### Q7:- Write a program to find the sum of squares of first n natural numbers where n will be provided by the user."
      ]
    },
    {
      "cell_type": "code",
      "execution_count": null,
      "metadata": {
        "id": "_tHsmEHzt2nX",
        "outputId": "4f66e12e-8e00-42d1-bc4b-876ff8240c5d"
      },
      "outputs": [
        {
          "name": "stdout",
          "output_type": "stream",
          "text": [
            "15.0 is the sum of first 5 natural numbers.\n"
          ]
        }
      ],
      "source": [
        "n=int(input(\"n:\"))\n",
        "sum=(n*(n+1))/2;\n",
        "print(sum,\"is the sum of first\",n,\"natural numbers.\");"
      ]
    },
    {
      "cell_type": "markdown",
      "metadata": {
        "id": "FHrMM7g-yG1h"
      },
      "source": [
        "### Q8:- Given the first 2 terms of an Arithmetic Series.Find the Nth term of the series. Assume all inputs are provided by the user."
      ]
    },
    {
      "cell_type": "code",
      "execution_count": null,
      "metadata": {
        "id": "go4_kmZmyVSx",
        "outputId": "a49bf7ec-7a60-444c-df26-f7e1651ed9a8"
      },
      "outputs": [
        {
          "name": "stdout",
          "output_type": "stream",
          "text": [
            "term is: 5.0\n"
          ]
        }
      ],
      "source": [
        "a1=float(input(\"enter 1th term:\"));\n",
        "a2=float(input(\"enter 2nd term:\"));\n",
        "n=int(input(\"enter n:\"));\n",
        "an=a1+((a2-a1)*(n-1));\n",
        "print(\"term is:\",an);"
      ]
    },
    {
      "cell_type": "markdown",
      "metadata": {
        "id": "QgyRX_es1oum"
      },
      "source": [
        "### Q9:- Given 2 fractions, find the sum of those 2 fractions.Take the numerator and denominator values of the fractions from the user."
      ]
    },
    {
      "cell_type": "code",
      "execution_count": null,
      "metadata": {
        "id": "X05xqFS1yW16",
        "outputId": "ba1b1b24-2311-4447-d063-dfe7c79e8dd1"
      },
      "outputs": [
        {
          "name": "stdout",
          "output_type": "stream",
          "text": [
            "sum of these is  1.380952380952381\n"
          ]
        }
      ],
      "source": [
        "n1=int(input(\"Enter n1:\"));\n",
        "d1=int(input(\"Enter d1:\"));\n",
        "n2=int(input(\"Enter n2:\"));\n",
        "d2=int(input(\"Enter d2:\"));\n",
        "d=d1*d2\n",
        "n=(n1*d2)+(n2*d1);\n",
        "sum=n/d;\n",
        "print(\"sum of these is \",sum);"
      ]
    },
    {
      "cell_type": "markdown",
      "metadata": {
        "id": "eaql38ln13u7"
      },
      "source": [
        "### Q10:- Given the height, width and breadth of a milk tank, you have to find out how many glasses of milk can be obtained? Assume all the inputs are provided by the user.\n",
        "\n",
        "\n",
        "\n",
        "Input:<br>\n",
        "Dimensions of the milk tank<br>\n",
        "H = 20cm, L = 20cm, B = 20cm\n",
        "<br><br>\n",
        "Dimensions of the glass<br>\n",
        "h = 3cm, r = 1cm"
      ]
    },
    {
      "cell_type": "code",
      "execution_count": null,
      "metadata": {
        "id": "FePZqno74eWv",
        "outputId": "87915b03-eb42-4d9d-aa89-4b2656dba063"
      },
      "outputs": [
        {
          "name": "stdout",
          "output_type": "stream",
          "text": [
            "the number of glasses is: 849.2569002123142\n"
          ]
        }
      ],
      "source": [
        "H=float(input(\"for tank H:\"));\n",
        "L=float(input(\"L:\"));\n",
        "B=float(input(\"B:\"));\n",
        "h=float(input(\"for glass h:\"));\n",
        "r=float(input(\"r:\"));\n",
        "V=L*B*H;\n",
        "v=3.14*h*r*r;\n",
        "n=V/v;\n",
        "print(\"the number of glasses is:\",n);"
      ]
    }
  ],
  "metadata": {
    "colab": {
      "provenance": [],
      "include_colab_link": true
    },
    "kernelspec": {
      "display_name": "Python 3",
      "name": "python3"
    },
    "language_info": {
      "codemirror_mode": {
        "name": "ipython",
        "version": 3
      },
      "file_extension": ".py",
      "mimetype": "text/x-python",
      "name": "python",
      "nbconvert_exporter": "python",
      "pygments_lexer": "ipython3",
      "version": "3.12.10"
    }
  },
  "nbformat": 4,
  "nbformat_minor": 0
}