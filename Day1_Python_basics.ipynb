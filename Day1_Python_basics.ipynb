{
  "nbformat": 4,
  "nbformat_minor": 0,
  "metadata": {
    "colab": {
      "provenance": [],
      "authorship_tag": "ABX9TyMqPQEoEeiupoqwfTZP4H0A",
      "include_colab_link": true
    },
    "kernelspec": {
      "name": "python3",
      "display_name": "Python 3"
    },
    "language_info": {
      "name": "python"
    }
  },
  "cells": [
    {
      "cell_type": "markdown",
      "metadata": {
        "id": "view-in-github",
        "colab_type": "text"
      },
      "source": [
        "<a href=\"https://colab.research.google.com/github/Jatinkumar2006/My-DataScience-Journey/blob/main/Day1_Python_basics.ipynb\" target=\"_parent\"><img src=\"https://colab.research.google.com/assets/colab-badge.svg\" alt=\"Open In Colab\"/></a>"
      ]
    },
    {
      "cell_type": "markdown",
      "source": [
        "Python is a dynamically type and case sensetive language."
      ],
      "metadata": {
        "id": "8bf6HME_zvG8"
      }
    },
    {
      "cell_type": "markdown",
      "source": [
        "Python basics"
      ],
      "metadata": {
        "id": "BYyK_Bj-wtPj"
      }
    },
    {
      "cell_type": "code",
      "execution_count": 7,
      "metadata": {
        "id": "cHDPZ37Jupdj",
        "colab": {
          "base_uri": "https://localhost:8080/"
        },
        "outputId": "9b742762-2454-4763-a112-2bfb26711b73"
      },
      "outputs": [
        {
          "output_type": "stream",
          "name": "stdout",
          "text": [
            "hello world\n",
            "9\n",
            "True\n",
            "(5+6j)\n",
            "hello-9-True#(5+6j)\n"
          ]
        }
      ],
      "source": [
        "#print output\n",
        "#print(value,sep=\" \",end=\"\\n\")\n",
        "print(\"hello world\");\n",
        "print(9);\n",
        "print(True);\n",
        "print(5+6j);\n",
        "print(\"hello\",9,True,sep=\"-\",end=\"#\");\n",
        "print(5+6j);"
      ]
    },
    {
      "cell_type": "markdown",
      "source": [
        "Comments"
      ],
      "metadata": {
        "id": "RUJTZxGny1QY"
      }
    },
    {
      "cell_type": "code",
      "source": [
        "#sinle line comment\n",
        "\"\"\" Multi line comment\n",
        "    use this for more than one line\"\"\""
      ],
      "metadata": {
        "id": "vij8lEhAzHWI",
        "colab": {
          "base_uri": "https://localhost:8080/",
          "height": 35
        },
        "outputId": "1718346f-3a83-464f-bffb-681126b8f3ba"
      },
      "execution_count": 8,
      "outputs": [
        {
          "output_type": "execute_result",
          "data": {
            "text/plain": [
              "' Multi line comment\\n    use this for more than one line'"
            ],
            "application/vnd.google.colaboratory.intrinsic+json": {
              "type": "string"
            }
          },
          "metadata": {},
          "execution_count": 8
        }
      ]
    },
    {
      "cell_type": "markdown",
      "source": [
        "*Variables*   ---\n",
        "\n",
        "Variables are used to hold the data during execution of program, because it is a dynamically type language so there is a no need to declare the type of variable.\n",
        "   If there is a need of variable then just think its name and started to use it."
      ],
      "metadata": {
        "id": "pf6DSDVozUTf"
      }
    },
    {
      "cell_type": "code",
      "source": [
        "a=5;\n",
        "b=\"Jatin\"\n",
        "print(a);\n",
        "print(b);\n",
        "\n",
        "#In python we can not only the variable value but also change its type as well.\n",
        "\n",
        "x=7\n",
        "print(x)\n",
        "print(type(x)) # used to know the type of variable\n",
        "x=9\n",
        "print(x)  #value change\n",
        "print(type(x))\n",
        "x=\"jatin\"\n",
        "print(x) # value and type both change\n",
        "print(type(x))"
      ],
      "metadata": {
        "id": "CkQb5WmuzdiY",
        "colab": {
          "base_uri": "https://localhost:8080/"
        },
        "outputId": "e2491423-0b32-446c-c5c8-c118fcbfcff5"
      },
      "execution_count": 9,
      "outputs": [
        {
          "output_type": "stream",
          "name": "stdout",
          "text": [
            "5\n",
            "Jatin\n",
            "7\n",
            "<class 'int'>\n",
            "9\n",
            "<class 'int'>\n",
            "jatin\n",
            "<class 'str'>\n"
          ]
        }
      ]
    },
    {
      "cell_type": "markdown",
      "source": [
        "Data types in python"
      ],
      "metadata": {
        "id": "dNYtzz6D14aT"
      }
    },
    {
      "cell_type": "code",
      "source": [
        "#int\n",
        "print(8)\n",
        "print(-4)\n",
        "#float\n",
        "print(3.5)\n",
        "print(-8)\n",
        "#bool\n",
        "print(True)\n",
        "print(False)\n",
        "#complex\n",
        "print(3+5j)\n",
        "#str\n",
        "print(\"Jatin\")\n",
        "#list\n",
        "print([1,2,3])\n",
        "#tuple\n",
        "print((1,2,3))\n",
        "#set\n",
        "print({1,2,3})\n",
        "#dict\n",
        "print({\"name\":\"jatin\",\"age\":20})\n"
      ],
      "metadata": {
        "id": "WE4n07XI2SRh",
        "colab": {
          "base_uri": "https://localhost:8080/"
        },
        "outputId": "df58305b-9e8d-4e11-e878-29b4c4a98424"
      },
      "execution_count": 10,
      "outputs": [
        {
          "output_type": "stream",
          "name": "stdout",
          "text": [
            "8\n",
            "-4\n",
            "3.5\n",
            "-8\n",
            "True\n",
            "False\n",
            "(3+5j)\n",
            "Jatin\n",
            "[1, 2, 3]\n",
            "(1, 2, 3)\n",
            "{1, 2, 3}\n",
            "{'name': 'jatin', 'age': 20}\n"
          ]
        }
      ]
    },
    {
      "cell_type": "markdown",
      "source": [
        "Assign multiple values to varibles"
      ],
      "metadata": {
        "id": "3yZC2rtz3jna"
      }
    },
    {
      "cell_type": "code",
      "source": [
        "a=1\n",
        "b=2\n",
        "c=3\n",
        "print(a,b,c);\n",
        "\n",
        "#assign together\n",
        "a,b,c=1,2,3\n",
        "print(a,b,c);\n",
        "\n",
        "\n",
        "a=b=c=1\n",
        "print(a,b,c);"
      ],
      "metadata": {
        "id": "0aiNN7yH3szN",
        "colab": {
          "base_uri": "https://localhost:8080/"
        },
        "outputId": "822af7f5-42da-4d5d-a6eb-401202dd71a0"
      },
      "execution_count": 11,
      "outputs": [
        {
          "output_type": "stream",
          "name": "stdout",
          "text": [
            "1 2 3\n",
            "1 2 3\n",
            "1 1 1\n"
          ]
        }
      ]
    },
    {
      "cell_type": "markdown",
      "source": [
        "Keywords-\n",
        "\n",
        "Reserved words, Predefined words\n",
        "\n"
      ],
      "metadata": {
        "id": "yF7I-_nW4Jnj"
      }
    },
    {
      "cell_type": "code",
      "source": [
        "from keyword import kwlist\n",
        "print(kwlist)"
      ],
      "metadata": {
        "colab": {
          "base_uri": "https://localhost:8080/"
        },
        "id": "s_lyuVR24NR9",
        "outputId": "0fe54204-506f-4fa9-b3be-090c29f93c09"
      },
      "execution_count": 12,
      "outputs": [
        {
          "output_type": "stream",
          "name": "stdout",
          "text": [
            "['False', 'None', 'True', 'and', 'as', 'assert', 'async', 'await', 'break', 'class', 'continue', 'def', 'del', 'elif', 'else', 'except', 'finally', 'for', 'from', 'global', 'if', 'import', 'in', 'is', 'lambda', 'nonlocal', 'not', 'or', 'pass', 'raise', 'return', 'try', 'while', 'with', 'yield']\n"
          ]
        }
      ]
    },
    {
      "cell_type": "markdown",
      "source": [
        "Type conversion"
      ],
      "metadata": {
        "id": "awRFAJug5lZt"
      }
    },
    {
      "cell_type": "code",
      "source": [
        "#Implict type conversionn - auto type conversion\n",
        "print(5+5.6)    #int+float=float auto type conversion\n",
        "\n",
        "#Explict type conversion\n",
        "#print(5+'5')    # error\n",
        "print(5+int('5'))"
      ],
      "metadata": {
        "colab": {
          "base_uri": "https://localhost:8080/"
        },
        "id": "iY9Vucdi5s6P",
        "outputId": "6d868366-5d02-4f01-caaa-f0b9a4280792"
      },
      "execution_count": 13,
      "outputs": [
        {
          "output_type": "stream",
          "name": "stdout",
          "text": [
            "10.6\n",
            "10\n"
          ]
        }
      ]
    },
    {
      "cell_type": "markdown",
      "source": [
        "User Input"
      ],
      "metadata": {
        "id": "SVTdUB0o5Atg"
      }
    },
    {
      "cell_type": "code",
      "source": [
        "name=input(\"enter your name: \");   #by default str as input\n",
        "age=int(input(\"enter your age:\"));\n",
        "print(name,age);\n"
      ],
      "metadata": {
        "colab": {
          "base_uri": "https://localhost:8080/"
        },
        "id": "GAp_aARf5Il1",
        "outputId": "e108ff35-bc03-4d44-e4b2-4f6051c60321"
      },
      "execution_count": 14,
      "outputs": [
        {
          "output_type": "stream",
          "name": "stdout",
          "text": [
            "enter your name: jatin\n",
            "enter your age:18\n",
            "jatin 18\n"
          ]
        }
      ]
    },
    {
      "cell_type": "markdown",
      "source": [
        "Literals\n",
        "\n",
        "Value of variable is literal."
      ],
      "metadata": {
        "id": "uumwyCAg6ZMG"
      }
    },
    {
      "cell_type": "code",
      "source": [
        "#binary literal\n",
        "a=0b001\n",
        "#Decimal literal\n",
        "b=3445\n",
        "#Octal literal\n",
        "c=0x310\n",
        "#complex literal\n",
        "x=5+3j\n",
        "print(x,x.real,x.imag)"
      ],
      "metadata": {
        "colab": {
          "base_uri": "https://localhost:8080/"
        },
        "id": "sFbHi8K46gbn",
        "outputId": "9f9c0667-b31d-4ddb-f7d9-2826d82fd09e"
      },
      "execution_count": 15,
      "outputs": [
        {
          "output_type": "stream",
          "name": "stdout",
          "text": [
            "(5+3j) 5.0 3.0\n"
          ]
        }
      ]
    },
    {
      "cell_type": "markdown",
      "source": [
        "Unicode\n",
        "\n",
        "like ascii code"
      ],
      "metadata": {
        "id": "Pr5Iuvq_7UkI"
      }
    },
    {
      "cell_type": "code",
      "source": [
        "#character to unicode\n",
        "print(ord('A'))   # use ord()\n",
        "\n",
        "#unicode to character\n",
        "print(chr(69))    #use chr()\n",
        "\n",
        "#decimal to binary\n",
        "print(bin(10))\n",
        "\n",
        "#binary to decimal\n",
        "a=1001 #binary\n",
        "#use \"0b\" before convert it to decimal to show that it is binary\n",
        "print(0b1001)\n",
        "\n",
        "#decimal to hexadecimal\n",
        "print(hex(14))\n",
        "\n",
        "#hexadecimal to decimal\n",
        "# a=24AB #hexadecimal\n",
        "#use \"0x\" before convert it to decimal to show that it is hexadecimal\n",
        "print(0x24AB)\n",
        "\n",
        "\n",
        "#same for octal"
      ],
      "metadata": {
        "colab": {
          "base_uri": "https://localhost:8080/"
        },
        "id": "KPYZzCct7R8B",
        "outputId": "551678f6-b1a6-4b70-955a-df4a5a13ba63"
      },
      "execution_count": 16,
      "outputs": [
        {
          "output_type": "stream",
          "name": "stdout",
          "text": [
            "65\n",
            "E\n",
            "0b1010\n",
            "9\n",
            "0xe\n",
            "9387\n"
          ]
        }
      ]
    },
    {
      "cell_type": "markdown",
      "source": [
        "Operators in Python"
      ],
      "metadata": {
        "id": "IJbgNZodnCu8"
      }
    },
    {
      "cell_type": "code",
      "source": [
        "#Arithmatic operator    +,-,*,/,//,%,**\n",
        "print(7+5);     #addition\n",
        "print(7-5);     #substraction\n",
        "print(7*5);     #multiplication\n",
        "print(7/5);     #True division\n",
        "print(7//5);    #floor division(integer)\n",
        "print(7%5);     #modulo(remiander)\n",
        "print(2**3);    #power(exponenntial)\n",
        "print(\"ab\"+\"AB\");   #\"+\"   act as concation operator if used between strings\n",
        "print(4*\"AB\");      # integer*string=integer times string  ABABABAB"
      ],
      "metadata": {
        "colab": {
          "base_uri": "https://localhost:8080/"
        },
        "id": "mwYimtSunGJV",
        "outputId": "3c34d7bb-51b1-48d3-d216-5a1e47ee7363"
      },
      "execution_count": 17,
      "outputs": [
        {
          "output_type": "stream",
          "name": "stdout",
          "text": [
            "12\n",
            "2\n",
            "35\n",
            "1.4\n",
            "1\n",
            "2\n",
            "8\n",
            "abAB\n",
            "ABABABAB\n"
          ]
        }
      ]
    },
    {
      "cell_type": "code",
      "source": [
        "#Relational operator   <,>,<=,>=,==,!=      output- True/False\n",
        "print(4>5)\n",
        "print(5>4)\n",
        "print(4<5)\n",
        "print(4>=5)\n",
        "print(4<=5)\n",
        "print(4==4)\n",
        "print(4==5)  #equality checker\n",
        "print(4!=4)  #equality checker\n",
        "print(4!=5)"
      ],
      "metadata": {
        "colab": {
          "base_uri": "https://localhost:8080/"
        },
        "id": "dKoSG_uAoXoj",
        "outputId": "9733ea2e-b7d5-44dc-b421-c33268716165"
      },
      "execution_count": 18,
      "outputs": [
        {
          "output_type": "stream",
          "name": "stdout",
          "text": [
            "False\n",
            "True\n",
            "True\n",
            "False\n",
            "True\n",
            "True\n",
            "False\n",
            "False\n",
            "True\n"
          ]
        }
      ]
    },
    {
      "cell_type": "code",
      "source": [
        "#Logical operator   not,and,or\n",
        "print(not True)\n",
        "print(not 1)\n",
        "print(1 and 0)\n",
        "print(1 or 0)\n",
        "print(4 and 3)\n",
        "print(4 or 3)"
      ],
      "metadata": {
        "colab": {
          "base_uri": "https://localhost:8080/"
        },
        "id": "pYz5hVXBqW-B",
        "outputId": "0878371e-359b-4fc4-eb37-b50be1ccd956"
      },
      "execution_count": 19,
      "outputs": [
        {
          "output_type": "stream",
          "name": "stdout",
          "text": [
            "False\n",
            "False\n",
            "0\n",
            "1\n",
            "3\n",
            "4\n"
          ]
        }
      ]
    },
    {
      "cell_type": "code",
      "source": [
        "#Assignment operator   =,+=,-=,*=,/=,//=,&=,^=,**=,>>=.<<=,%=\n",
        "x=5\n",
        "print(x)\n",
        "x+=1 #x=x+1\n",
        "print(x)\n",
        "x-=1  #x=x-1\n",
        "print(x)\n",
        "x*=2  #x=x*2\n",
        "print(x)"
      ],
      "metadata": {
        "id": "c7-5wvKpqSTI",
        "colab": {
          "base_uri": "https://localhost:8080/"
        },
        "outputId": "56fdda24-d90a-414e-9c36-c4b896bb1e14"
      },
      "execution_count": 20,
      "outputs": [
        {
          "output_type": "stream",
          "name": "stdout",
          "text": [
            "5\n",
            "6\n",
            "5\n",
            "10\n"
          ]
        }
      ]
    },
    {
      "cell_type": "code",
      "source": [
        "#Bitwise operator   &,|,^,~,>>,<<\n",
        "print(2&3)   #bitwise and\n",
        "print(2|3)   #bitwise or\n",
        "print(2^3)   #bitwise xor\n",
        "print(~2)    #bitwise not\n",
        "print(2>>3)  #right shift\n",
        "print(2<<3)  #left shift"
      ],
      "metadata": {
        "colab": {
          "base_uri": "https://localhost:8080/"
        },
        "id": "r14Z75YIspOT",
        "outputId": "a7d45f4d-bde3-4936-d358-66787a27261f"
      },
      "execution_count": 21,
      "outputs": [
        {
          "output_type": "stream",
          "name": "stdout",
          "text": [
            "2\n",
            "3\n",
            "1\n",
            "-3\n",
            "0\n",
            "16\n"
          ]
        }
      ]
    },
    {
      "cell_type": "code",
      "source": [
        "#Membership operator       in,not in          output-True/False      only applicable on iterables\n",
        "print(2 in [1,2,3])\n",
        "print(2 not in [1,2,3])\n",
        "print('e' in 'MySirg')\n",
        "print('y' in 'MySirg')\n"
      ],
      "metadata": {
        "colab": {
          "base_uri": "https://localhost:8080/"
        },
        "id": "fQaOLTfKufzw",
        "outputId": "6233a0c9-d1a9-4375-ae96-d56077296147"
      },
      "execution_count": 22,
      "outputs": [
        {
          "output_type": "stream",
          "name": "stdout",
          "text": [
            "True\n",
            "False\n",
            "False\n",
            "True\n"
          ]
        }
      ]
    },
    {
      "cell_type": "code",
      "source": [
        "#Identity operator         is, is not       output-True/False      It checks wheater the two references refering to the same object or  not.\n",
        "x = [1, 2, 3]\n",
        "y = [1, 2, 3]\n",
        "z = x\n",
        "\n",
        "print(x == y)     # True: values are equal\n",
        "print(x is y)     # False: different memory locations\n",
        "print(x is z)     # True: same memory location\n",
        "\n",
        "print(x is not y) # True\n",
        "print(x is not z) # False\n"
      ],
      "metadata": {
        "colab": {
          "base_uri": "https://localhost:8080/"
        },
        "id": "7hU6axrOClhz",
        "outputId": "6185092e-14ee-44b2-c879-dbb41676b587"
      },
      "execution_count": 23,
      "outputs": [
        {
          "output_type": "stream",
          "name": "stdout",
          "text": [
            "True\n",
            "False\n",
            "True\n",
            "True\n",
            "False\n"
          ]
        }
      ]
    },
    {
      "cell_type": "markdown",
      "source": [
        "Control Statement"
      ],
      "metadata": {
        "id": "8o0jrx6JDwX_"
      }
    },
    {
      "cell_type": "markdown",
      "source": [
        "Decision Control - if,if-else,if-elif-else,single line if-else"
      ],
      "metadata": {
        "id": "OZyyOnr_D5g9"
      }
    },
    {
      "cell_type": "code",
      "source": [
        "#if\n",
        "x = 10\n",
        "\n",
        "if x > 5:\n",
        "    print(\"x is greater than 5\")\n"
      ],
      "metadata": {
        "colab": {
          "base_uri": "https://localhost:8080/"
        },
        "id": "ijb8vdkiEFii",
        "outputId": "5c797b08-a0a4-463f-c192-faecedb0eab1"
      },
      "execution_count": 24,
      "outputs": [
        {
          "output_type": "stream",
          "name": "stdout",
          "text": [
            "x is greater than 5\n"
          ]
        }
      ]
    },
    {
      "cell_type": "code",
      "source": [
        "#if-else\n",
        "x = 3\n",
        "\n",
        "if x > 5:\n",
        "    print(\"x is greater than 5\")\n",
        "else:\n",
        "    print(\"x is less than or equal to 5\")\n"
      ],
      "metadata": {
        "colab": {
          "base_uri": "https://localhost:8080/"
        },
        "id": "9YZhJEdfEXI6",
        "outputId": "6e4ad947-9c68-488a-bd59-53b091b71eb8"
      },
      "execution_count": 25,
      "outputs": [
        {
          "output_type": "stream",
          "name": "stdout",
          "text": [
            "x is less than or equal to 5\n"
          ]
        }
      ]
    },
    {
      "cell_type": "code",
      "source": [
        "#if-elif-else\n",
        "x = 0\n",
        "\n",
        "if x > 0:\n",
        "    print(\"Positive number\")\n",
        "elif x == 0:\n",
        "    print(\"Zero\")\n",
        "else:\n",
        "    print(\"Negative number\")\n"
      ],
      "metadata": {
        "colab": {
          "base_uri": "https://localhost:8080/"
        },
        "id": "L2WSBH1sEd1C",
        "outputId": "6d8a7ac1-6691-4131-a1df-4bef68a7ce7b"
      },
      "execution_count": 26,
      "outputs": [
        {
          "output_type": "stream",
          "name": "stdout",
          "text": [
            "Zero\n"
          ]
        }
      ]
    },
    {
      "cell_type": "code",
      "source": [
        "# single line if-else\n",
        "# code1 \"if\" condition \"else\" code2\n",
        "num = 13\n",
        "print(\"Even\" if num % 2 == 0 else \"Odd\")\n"
      ],
      "metadata": {
        "colab": {
          "base_uri": "https://localhost:8080/"
        },
        "id": "Axa_59UFEkvN",
        "outputId": "7a758978-d3c7-4682-ccb2-d9f1a96fa43b"
      },
      "execution_count": 27,
      "outputs": [
        {
          "output_type": "stream",
          "name": "stdout",
          "text": [
            "Odd\n"
          ]
        }
      ]
    },
    {
      "cell_type": "markdown",
      "source": [
        "Match Statement"
      ],
      "metadata": {
        "id": "itY97a2PFuhh"
      }
    },
    {
      "cell_type": "markdown",
      "source": [
        "\n",
        "\n",
        "```\n",
        "#Syntax\n",
        "match variable:\n",
        "    case value1:\n",
        "        # code block\n",
        "    case value2:\n",
        "        # code block\n",
        "    case _:\n",
        "        # default block (like 'else')\n",
        "```\n",
        "\n",
        "\n"
      ],
      "metadata": {
        "id": "UHdMyKAXGDTJ"
      }
    },
    {
      "cell_type": "code",
      "source": [
        "day = 3\n",
        "\n",
        "match day:\n",
        "    case 1:\n",
        "        print(\"Monday\")\n",
        "    case 2:\n",
        "        print(\"Tuesday\")\n",
        "    case 3:\n",
        "        print(\"Wednesday\")\n",
        "    case 4:\n",
        "        print(\"Thursday\")\n",
        "    case 5:\n",
        "        print(\"Friday\")\n",
        "    case 6:\n",
        "        print(\"Saturday\")\n",
        "    case 7:\n",
        "        print(\"Sunday\")\n",
        "    case _:\n",
        "        print(\"Invalid day\")"
      ],
      "metadata": {
        "colab": {
          "base_uri": "https://localhost:8080/"
        },
        "id": "lt9L1GOaFw-_",
        "outputId": "3a21cf63-da95-4f2a-efb0-810aa82a7d42"
      },
      "execution_count": 28,
      "outputs": [
        {
          "output_type": "stream",
          "name": "stdout",
          "text": [
            "Wednesday\n"
          ]
        }
      ]
    },
    {
      "cell_type": "markdown",
      "source": [
        "Conditional Case\n",
        "\n",
        "\n",
        "\n",
        "```\n",
        "#syntax\n",
        "match variable:\n",
        "    case pattern if condition:\n",
        "        # code block\n",
        "    case _:\n",
        "        # default block```\n",
        "\n"
      ],
      "metadata": {
        "id": "53XmcIUhGuPu"
      }
    },
    {
      "cell_type": "code",
      "source": [
        "x = 5\n",
        "\n",
        "match x:\n",
        "    case x if x > 0:\n",
        "        print(\"Positive number\")\n",
        "    case x if x < 0:\n",
        "        print(\"Negative number\")\n",
        "    case 0:\n",
        "        print(\"Zero\")\n"
      ],
      "metadata": {
        "colab": {
          "base_uri": "https://localhost:8080/"
        },
        "id": "81vG3HNaG4-s",
        "outputId": "07ce9dde-ded2-4066-952d-eb4d50f82fdb"
      },
      "execution_count": 29,
      "outputs": [
        {
          "output_type": "stream",
          "name": "stdout",
          "text": [
            "Positive number\n"
          ]
        }
      ]
    },
    {
      "cell_type": "markdown",
      "source": [
        "Iterative control   - while, for"
      ],
      "metadata": {
        "id": "HhXBCHnRHFX1"
      }
    },
    {
      "cell_type": "code",
      "source": [
        "#while\n",
        "i = 1\n",
        "while i <= 5:\n",
        "    print(i)\n",
        "    i += 1\n"
      ],
      "metadata": {
        "colab": {
          "base_uri": "https://localhost:8080/"
        },
        "id": "M4NmxbZ9HiQg",
        "outputId": "4338f781-c306-412e-8ab9-af0b1a1a3cf6"
      },
      "execution_count": 30,
      "outputs": [
        {
          "output_type": "stream",
          "name": "stdout",
          "text": [
            "1\n",
            "2\n",
            "3\n",
            "4\n",
            "5\n"
          ]
        }
      ]
    },
    {
      "cell_type": "markdown",
      "source": [
        "Break\n",
        "\n",
        "\n",
        "*   break is a keyword\n",
        "*   break is used to transfer the control from outside the loop.\n",
        "*   break terminates the execution of loop.\n",
        "\n",
        "\n",
        "\n"
      ],
      "metadata": {
        "id": "aBzayQogJFiB"
      }
    },
    {
      "cell_type": "code",
      "source": [
        "i = 1\n",
        "\n",
        "while i <= 10:\n",
        "    if i == 6:\n",
        "        break\n",
        "    print(i)\n",
        "    i += 1\n"
      ],
      "metadata": {
        "colab": {
          "base_uri": "https://localhost:8080/"
        },
        "id": "NdbtR3UQJfpw",
        "outputId": "a18fec8b-2794-4a21-b07f-9eb118769ba6"
      },
      "execution_count": 31,
      "outputs": [
        {
          "output_type": "stream",
          "name": "stdout",
          "text": [
            "1\n",
            "2\n",
            "3\n",
            "4\n",
            "5\n"
          ]
        }
      ]
    },
    {
      "cell_type": "markdown",
      "source": [
        "Continue-\n",
        "\n",
        "The continue statement is used to skip the current iteration of the loop and move to the next iteration, without executing the remaining code in the loop body for that iteration."
      ],
      "metadata": {
        "id": "Cisb7norK6Vt"
      }
    },
    {
      "cell_type": "code",
      "source": [
        "i = 0\n",
        "\n",
        "while i < 5:\n",
        "    i += 1\n",
        "    if i == 3:\n",
        "        continue\n",
        "    print(i)"
      ],
      "metadata": {
        "colab": {
          "base_uri": "https://localhost:8080/"
        },
        "id": "qUvuCTncK782",
        "outputId": "eafbb356-8070-45b7-ce54-7c35f2ce565e"
      },
      "execution_count": 32,
      "outputs": [
        {
          "output_type": "stream",
          "name": "stdout",
          "text": [
            "1\n",
            "2\n",
            "4\n",
            "5\n"
          ]
        }
      ]
    },
    {
      "cell_type": "markdown",
      "source": [
        "else with while loop\n",
        "\n",
        "```\n",
        "while condition:\n",
        "    # loop body\n",
        "else:\n",
        "    # this runs if loop completes without break\n",
        "```"
      ],
      "metadata": {
        "id": "5KRLeFOXMsj0"
      }
    },
    {
      "cell_type": "code",
      "source": [
        "i = 1\n",
        "\n",
        "while i <= 3:\n",
        "    print(\"i =\", i)\n",
        "    i += 1\n",
        "else:\n",
        "    print(\"Loop finished successfully\")\n"
      ],
      "metadata": {
        "colab": {
          "base_uri": "https://localhost:8080/"
        },
        "id": "2cjnscuuNBA8",
        "outputId": "0e4522fa-f001-41a9-c6d7-85fd221fa00d"
      },
      "execution_count": 33,
      "outputs": [
        {
          "output_type": "stream",
          "name": "stdout",
          "text": [
            "i = 1\n",
            "i = 2\n",
            "i = 3\n",
            "Loop finished successfully\n"
          ]
        }
      ]
    },
    {
      "cell_type": "markdown",
      "source": [
        "pass Keyword in Python\n",
        "\n",
        "The pass keyword is a placeholder that does nothing when executed. It's used when a statement is syntactically required but you don’t want to write any code yet."
      ],
      "metadata": {
        "id": "rnisMY_-Pqyx"
      }
    },
    {
      "cell_type": "code",
      "source": [
        "x = 5\n",
        "\n",
        "if x > 0:\n",
        "    pass  # Placeholder for future code\n",
        "else:\n",
        "    print(\"x is not positive\")\n"
      ],
      "metadata": {
        "id": "o79k3DfvPtHl"
      },
      "execution_count": 34,
      "outputs": []
    },
    {
      "cell_type": "markdown",
      "source": [
        "for loop            \n",
        "   works on iterables(str,list,renge,tuple,dict)"
      ],
      "metadata": {
        "id": "gBPLCQ5zP1GA"
      }
    },
    {
      "cell_type": "code",
      "source": [
        "for x in \"mysirg\":\n",
        "  print(x)"
      ],
      "metadata": {
        "colab": {
          "base_uri": "https://localhost:8080/"
        },
        "id": "CLFMi8TjQE_w",
        "outputId": "4c991b15-92ab-4c7e-ee92-cb5504f2de6a"
      },
      "execution_count": 35,
      "outputs": [
        {
          "output_type": "stream",
          "name": "stdout",
          "text": [
            "m\n",
            "y\n",
            "s\n",
            "i\n",
            "r\n",
            "g\n"
          ]
        }
      ]
    },
    {
      "cell_type": "code",
      "source": [
        "for i in range(1, 6):\n",
        "    print(i)"
      ],
      "metadata": {
        "colab": {
          "base_uri": "https://localhost:8080/"
        },
        "id": "7GKDgIh3QPBI",
        "outputId": "d067db56-0e66-4e82-f543-d56d4536782b"
      },
      "execution_count": 36,
      "outputs": [
        {
          "output_type": "stream",
          "name": "stdout",
          "text": [
            "1\n",
            "2\n",
            "3\n",
            "4\n",
            "5\n"
          ]
        }
      ]
    },
    {
      "cell_type": "code",
      "source": [
        "for i in range(3):\n",
        "    print(\"Loop:\", i)\n",
        "else:\n",
        "    print(\"Loop finished!\")\n"
      ],
      "metadata": {
        "colab": {
          "base_uri": "https://localhost:8080/"
        },
        "id": "9-d2k63ZQepM",
        "outputId": "8e342563-82cc-4674-c271-8579c9b4d45d"
      },
      "execution_count": 37,
      "outputs": [
        {
          "output_type": "stream",
          "name": "stdout",
          "text": [
            "Loop: 0\n",
            "Loop: 1\n",
            "Loop: 2\n",
            "Loop finished!\n"
          ]
        }
      ]
    }
  ]
}