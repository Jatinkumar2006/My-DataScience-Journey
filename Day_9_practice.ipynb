{
  "cells": [
    {
      "cell_type": "markdown",
      "metadata": {
        "id": "view-in-github",
        "colab_type": "text"
      },
      "source": [
        "<a href=\"https://colab.research.google.com/github/Jatinkumar2006/My-DataScience-Journey/blob/main/Day_9_practice.ipynb\" target=\"_parent\"><img src=\"https://colab.research.google.com/assets/colab-badge.svg\" alt=\"Open In Colab\"/></a>"
      ]
    },
    {
      "cell_type": "markdown",
      "metadata": {
        "id": "gY90o_oXKaZK"
      },
      "source": [
        "### **Problem 1:** Create Short Form from initial character\n",
        "Given a string create short form ofthe string from Initial character. Short form should be capitalised.\n",
        "\n",
        "Example:\n",
        "\n",
        "`Input:`\n",
        "```\n",
        "Data science mentorship program\n",
        "```\n",
        "\n",
        "`Output:`\n",
        "```\n",
        "DSMP\n",
        "```"
      ]
    },
    {
      "cell_type": "code",
      "execution_count": null,
      "metadata": {
        "id": "5rUZx7bILBzW",
        "outputId": "4ca7db36-979e-4ff6-df50-39614997c371"
      },
      "outputs": [
        {
          "name": "stdout",
          "output_type": "stream",
          "text": [
            "DSMP"
          ]
        }
      ],
      "source": [
        "str = \"Data science mentorship program\"\n",
        "i = 0\n",
        "while i < len(str):\n",
        "    if i == 0:\n",
        "        print(str[i].upper(), end=\"\")\n",
        "    elif str[i] == \" \":\n",
        "        print(str[i + 1].upper(), end=\"\")\n",
        "    i += 1\n"
      ]
    },
    {
      "cell_type": "markdown",
      "metadata": {
        "id": "L8qKJ5xrLDat"
      },
      "source": [
        "###`Problem 2`: Append second string in the middle of first string\n",
        "\n",
        "`Input:`\n",
        "```\n",
        "campusx\n",
        "data\n",
        "```\n",
        "`Output`:\n",
        "\n",
        "```\n",
        "camdatapusx\n",
        "```"
      ]
    },
    {
      "cell_type": "code",
      "execution_count": null,
      "metadata": {
        "id": "PIiCBJiYLINe",
        "outputId": "44dd3950-5612-424d-de07-2db80f4f6c32"
      },
      "outputs": [
        {
          "name": "stdout",
          "output_type": "stream",
          "text": [
            "camdatapusx\n"
          ]
        }
      ],
      "source": [
        "s1 = \"campusx\"\n",
        "s2 = \"data\"\n",
        "lst = list(s1)\n",
        "lst.insert(3, s2)  # Insert the whole string 'data' at index 3\n",
        "print(\"\".join(lst))\n"
      ]
    },
    {
      "cell_type": "markdown",
      "metadata": {
        "id": "2aIi3ctTLJ-H"
      },
      "source": [
        "### ``Problem 3``:Given string contains a combination of the lower and upper case letters. Write a program to arrange the characters of a string so that all lowercase letters should come first.\n",
        "\n",
        "Given:\n",
        "\n",
        "`str1 = PyNaTive`\n",
        "\n",
        "Expected Output:\n",
        "\n",
        "`yaivePNT`"
      ]
    },
    {
      "cell_type": "code",
      "execution_count": null,
      "metadata": {
        "id": "-vV7FQUoLJNe",
        "outputId": "e4c92842-5c03-423c-b95d-9d1b7c708478"
      },
      "outputs": [
        {
          "name": "stdout",
          "output_type": "stream",
          "text": [
            "yaivePNT\n"
          ]
        }
      ],
      "source": [
        "str1 = \"PyNaTive\"\n",
        "\n",
        "lower = \"\"\n",
        "upper = \"\"\n",
        "\n",
        "for ch in str1:\n",
        "    if ch.islower():\n",
        "        lower += ch\n",
        "    elif ch.isupper():\n",
        "        upper += ch\n",
        "\n",
        "print(lower + upper)\n"
      ]
    },
    {
      "cell_type": "markdown",
      "metadata": {
        "id": "c5DhfvOOLQeI"
      },
      "source": [
        "### `Problem 4:`Take a alphanumeric string input and print the sum and average of the digits that appear in the string, ignoring all other characters.\n",
        "\n",
        "Input:\n",
        "\n",
        "`hel123O4every093`\n",
        "\n",
        "Output:\n",
        "\n",
        "```\n",
        "Sum: 22\n",
        "Avg: 2.75\n",
        "```"
      ]
    },
    {
      "cell_type": "code",
      "execution_count": null,
      "metadata": {
        "id": "cz69k9OELVa_",
        "outputId": "dfac8ef7-1b62-4427-89c8-bc739759f364"
      },
      "outputs": [
        {
          "name": "stdout",
          "output_type": "stream",
          "text": [
            "Lowercase letters: helevery\n",
            "Digits: [1, 2, 3, 0, 4, 0, 9, 3]\n",
            "Sum of digits: 22\n",
            "Average of digits: 2.75\n"
          ]
        }
      ],
      "source": [
        "input_str = \"hel12304every093\"\n",
        "letters = \"\"\n",
        "digits = []\n",
        "\n",
        "for i in input_str:\n",
        "    if i.islower():\n",
        "        letters += i\n",
        "    elif i.isdigit():\n",
        "        digits.append(int(i))\n",
        "\n",
        "print(\"Lowercase letters:\", letters)\n",
        "print(\"Digits:\", digits)\n",
        "\n",
        "# Sum and average\n",
        "total = sum(digits)\n",
        "average = total / len(digits) if digits else 0\n",
        "\n",
        "print(\"Sum of digits:\", total)\n",
        "print(\"Average of digits:\", average)\n"
      ]
    },
    {
      "cell_type": "markdown",
      "metadata": {
        "id": "hBnCuMkJLZjk"
      },
      "source": [
        "### `Problem 5:` Removal of all characters from a string except integers\n",
        "`Given:`\n",
        "\n",
        "```\n",
        "str1 = 'I am 25 years and 10 months old'\n",
        "```\n",
        "`Expected Output:`\n",
        "```\n",
        "2510\n",
        "```"
      ]
    },
    {
      "cell_type": "code",
      "execution_count": null,
      "metadata": {
        "id": "-N1Kksv8La7u",
        "outputId": "feec035a-2f1a-4ed2-9996-72a0ebe3e509"
      },
      "outputs": [
        {
          "name": "stdout",
          "output_type": "stream",
          "text": [
            "2510\n"
          ]
        }
      ],
      "source": [
        "str1 = 'I am 25 years and 10 months old'\n",
        "result = \"\"\n",
        "\n",
        "for char in str1:\n",
        "    if char.isdigit():\n",
        "        result += char\n",
        "\n",
        "print(result)\n"
      ]
    },
    {
      "cell_type": "markdown",
      "metadata": {
        "id": "MRzwngmkLhgb"
      },
      "source": [
        "### `Problem 6`: Check whether the string is Symmetrical.\n",
        "\n",
        "**Statement:** Given a string. the task is to check if the string is symmetrical or not. A string is said to be symmetrical if both the halves of the string are the same.\n",
        "\n",
        "**Example 1:**\n",
        "\n",
        "`Input`\n",
        "\n",
        "```bash\n",
        "khokho\n",
        "```\n",
        "\n",
        "`Output`\n",
        "\n",
        "```bash\n",
        "The entered string is symmetrical\n",
        "```"
      ]
    },
    {
      "cell_type": "code",
      "execution_count": null,
      "metadata": {
        "id": "__M2HSNSLsG2",
        "outputId": "b7370b59-fd71-4343-e7a9-a6db120f67dc"
      },
      "outputs": [
        {
          "name": "stdout",
          "output_type": "stream",
          "text": [
            "The entered string is symmetrical\n"
          ]
        }
      ],
      "source": [
        "str1 = input(\"Enter a string: \")\n",
        "\n",
        "mid = len(str1) // 2\n",
        "\n",
        "# If even length, divide exactly in half\n",
        "if len(str1) % 2 == 0:\n",
        "    first_half = str1[:mid]\n",
        "    second_half = str1[mid:]\n",
        "else:\n",
        "    # For odd length, ignore the middle character\n",
        "    first_half = str1[:mid]\n",
        "    second_half = str1[mid+1:]\n",
        "\n",
        "if first_half == second_half:\n",
        "    print(\"The entered string is symmetrical\")\n",
        "else:\n",
        "    print(\"The entered string is not symmetrical\")\n"
      ]
    },
    {
      "cell_type": "markdown",
      "metadata": {
        "id": "OqjigUPXLub0"
      },
      "source": [
        "### `Problem 7`: Reverse words in a given String\n",
        "\n",
        "**Statement:** We are given a string and we need to reverse words of a given string.\n",
        "\n",
        "**Example 1:**\n",
        "\n",
        "`Input:`\n",
        "\n",
        "```bash\n",
        "geeks quiz practice code\n",
        "```\n",
        "\n",
        "`Output:`\n",
        "\n",
        "```bash\n",
        "code practice quiz geeks\n",
        "```\n",
        "\n",
        "**Example 2:**\n",
        "\n",
        "`Input:`\n",
        "\n",
        "```bash\n",
        "my name is laxmi\n",
        "```\n",
        "\n",
        "`Output:`\n",
        "\n",
        "```bash\n",
        "laxmi is name my\n",
        "```"
      ]
    },
    {
      "cell_type": "code",
      "execution_count": null,
      "metadata": {
        "id": "H3zHq-l_L1Vy",
        "outputId": "f27690fd-c58e-4e7e-84bf-bd4053168fd9"
      },
      "outputs": [
        {
          "name": "stdout",
          "output_type": "stream",
          "text": [
            "code practice quiz geeks\n",
            "laxmi is name my\n"
          ]
        }
      ],
      "source": [
        "def reverse_words(sentence):\n",
        "    words = sentence.split()         # Split sentence into list of words\n",
        "    reversed_words = words[::-1]     # Reverse the list of words\n",
        "    result = \" \".join(reversed_words)\n",
        "    return result\n",
        "\n",
        "print(reverse_words(\"geeks quiz practice code\"))\n",
        "print(reverse_words(\"my name is laxmi\"))\n"
      ]
    },
    {
      "cell_type": "markdown",
      "metadata": {
        "id": "-mAIi4TuL7Oq"
      },
      "source": [
        "### `Problem 8`: Find uncommon words from two Strings.\n",
        "\n",
        "**Statement:** Given two sentences as strings **A** and **B**. The task is to return a list of all uncommon words. A word is uncommon if it appears exactly once in any one of the sentences, and does not appear in the other sentence. Note: A sentence is a string of space-separated words. Each word consists only of lowercase letters.\n",
        "\n",
        "**Example 1:**\n",
        "\n",
        "`Input:`\n",
        "\n",
        "```bash\n",
        "A = \"apple banana mango\"\n",
        "B = \"banana fruits mango\"\n",
        "```\n",
        "\n",
        "`Output:`\n",
        "\n",
        "```bash\n",
        "['apple', 'fruits']\n",
        "```"
      ]
    },
    {
      "cell_type": "code",
      "execution_count": null,
      "metadata": {
        "id": "S9k1KiM-MFDC",
        "outputId": "79b27ea3-f1f8-495a-fbef-4796d6176ae0"
      },
      "outputs": [
        {
          "name": "stdout",
          "output_type": "stream",
          "text": [
            "['apple', 'fruits']\n"
          ]
        }
      ],
      "source": [
        "from collections import Counter\n",
        "\n",
        "def find_uncommon_words(A, B):\n",
        "    # Split both strings into words\n",
        "    words_A = A.split()\n",
        "    words_B = B.split()\n",
        "\n",
        "    # Combine both lists and count occurrences\n",
        "    all_words = words_A + words_B\n",
        "    word_count = Counter(all_words)\n",
        "\n",
        "    # Filter words that appear exactly once\n",
        "    uncommon = [word for word in word_count if word_count[word] == 1]\n",
        "\n",
        "    return uncommon\n",
        "\n",
        "A = \"apple banana mango\"\n",
        "B = \"banana fruits mango\"\n",
        "print(find_uncommon_words(A, B))\n"
      ]
    },
    {
      "cell_type": "markdown",
      "metadata": {
        "id": "AkGYE68cMGXh"
      },
      "source": [
        "### `Problem 9`: Word location in String.\n",
        "\n",
        "**Statement:** Find a location of a word in a given sentence.\n",
        "\n",
        "**Example 1:**\n",
        "\n",
        "`Input:`\n",
        "\n",
        "```bash\n",
        "Sentence: We can learn data science through campusx mentorship program.\n",
        "\n",
        "word: campusx\n",
        "```\n",
        "\n",
        "`Output:`\n",
        "\n",
        "```bash\n",
        "Location of the word is 7.\n",
        "```\n",
        "\n",
        "Note- Don't use index/find functions"
      ]
    },
    {
      "cell_type": "code",
      "execution_count": null,
      "metadata": {
        "id": "tpgkz1rIMQP2",
        "outputId": "82c83851-4d37-4a3e-ac44-8b4bf1aed25c"
      },
      "outputs": [
        {
          "name": "stdout",
          "output_type": "stream",
          "text": [
            "Location of the word is 7.\n"
          ]
        }
      ],
      "source": [
        "sentence = \"We can learn data science through campusx mentorship program.\"\n",
        "target_word = \"campusx\"\n",
        "\n",
        "words = sentence.split()  # split sentence into list of words\n",
        "position = -1             # initialize position\n",
        "\n",
        "for i in range(len(words)):\n",
        "    if words[i] == target_word:\n",
        "        position = i + 1  # word positions start from 1\n",
        "        break\n",
        "\n",
        "if position != -1:\n",
        "    print(f\"Location of the word is {position}.\")\n",
        "else:\n",
        "    print(\"Word not found in the sentence.\")\n"
      ]
    },
    {
      "cell_type": "markdown",
      "metadata": {
        "id": "6Cbsnuk5MRuv"
      },
      "source": [
        "### `Problem 10`: Write a program that can remove all the duplicate characters from a string. User will provide the input."
      ]
    },
    {
      "cell_type": "code",
      "execution_count": null,
      "metadata": {
        "id": "KeVq2OJkM6ye",
        "outputId": "eb19c512-e5dc-407e-93a6-e981b057fa7d"
      },
      "outputs": [
        {
          "name": "stdout",
          "output_type": "stream",
          "text": [
            "String after removing duplicates: Progamin\n"
          ]
        }
      ],
      "source": [
        "input_str = input(\"Enter a string: \")\n",
        "result = \"\"\n",
        "seen = set()\n",
        "\n",
        "for char in input_str:\n",
        "    if char not in seen:\n",
        "        result += char\n",
        "        seen.add(char)\n",
        "\n",
        "print(\"String after removing duplicates:\", result)\n"
      ]
    }
  ],
  "metadata": {
    "colab": {
      "provenance": [],
      "include_colab_link": true
    },
    "kernelspec": {
      "display_name": "Python 3",
      "name": "python3"
    },
    "language_info": {
      "codemirror_mode": {
        "name": "ipython",
        "version": 3
      },
      "file_extension": ".py",
      "mimetype": "text/x-python",
      "name": "python",
      "nbconvert_exporter": "python",
      "pygments_lexer": "ipython3",
      "version": "3.12.10"
    }
  },
  "nbformat": 4,
  "nbformat_minor": 0
}