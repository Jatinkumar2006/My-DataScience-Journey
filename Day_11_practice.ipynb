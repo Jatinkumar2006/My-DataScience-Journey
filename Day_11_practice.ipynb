{
  "cells": [
    {
      "cell_type": "markdown",
      "metadata": {
        "id": "view-in-github",
        "colab_type": "text"
      },
      "source": [
        "<a href=\"https://colab.research.google.com/github/Jatinkumar2006/My-DataScience-Journey/blob/main/Day_11_practice.ipynb\" target=\"_parent\"><img src=\"https://colab.research.google.com/assets/colab-badge.svg\" alt=\"Open In Colab\"/></a>"
      ]
    },
    {
      "cell_type": "markdown",
      "metadata": {
        "id": "limD5IAfl-tz"
      },
      "source": [
        "# Tuple\n"
      ]
    },
    {
      "cell_type": "markdown",
      "metadata": {
        "id": "nSTn3CjbmB7q"
      },
      "source": [
        "###`Q1:` Join Tuples if similar initial element\n",
        "While working with Python tuples, we can have a problem in which we need to perform concatenation of records from the similarity of initial element. This problem can have applications in data domains such as Data Science.\n",
        "\n",
        "For eg.\n",
        "```\n",
        "Input  : test_list = [(5, 6), (5, 7), (5, 8), (6, 10), (7, 13)]\n",
        "Output : [(5, 6, 7, 8), (6, 10), (7, 13)]\n",
        "```"
      ]
    },
    {
      "cell_type": "code",
      "execution_count": null,
      "metadata": {
        "id": "hwVeEvH9rJzU",
        "outputId": "d1dbc1a2-4251-478e-9e1d-80cbc95aba71"
      },
      "outputs": [
        {
          "name": "stdout",
          "output_type": "stream",
          "text": [
            "[(5, 6, 7, 8), (6, 10), (7, 13)]\n"
          ]
        }
      ],
      "source": [
        "test_list = [(5, 6), (5, 7), (5, 8), (6, 10), (7, 13)]\n",
        "group_dict = {}\n",
        "\n",
        "for t in test_list:\n",
        "    first = t[0]\n",
        "    rest = t[1:]\n",
        "\n",
        "    if first in group_dict:\n",
        "        group_dict[first] += rest\n",
        "    else:\n",
        "        group_dict[first] = rest\n",
        "\n",
        "result = []\n",
        "for key in group_dict:\n",
        "    new_tuple = (key,) + group_dict[key]\n",
        "    result.append(new_tuple)\n",
        "\n",
        "print(result)\n"
      ]
    },
    {
      "cell_type": "markdown",
      "metadata": {
        "id": "ujQpZOFFmeha"
      },
      "source": [
        "###`Q2:` Multiply Adjacent elements (both side) and take sum of right and lest side multiplication result.\n",
        "\n",
        "\n",
        "For eg.\n",
        "```\n",
        "The original tuple : (1, 5, 7, 8, 10)\n",
        "Resultant tuple after multiplication :\n",
        "\n",
        "(1*5, 1*5+5*7, 7*5 + 7*8, 8*7 + 8*10, 10*8) -> (5, 40, 91, 136, 80)\n",
        "\n",
        "output-(5, 40, 91, 136, 80)\n",
        "```"
      ]
    },
    {
      "cell_type": "code",
      "execution_count": null,
      "metadata": {
        "id": "N9lveEsArNVc",
        "outputId": "aef39a6b-2342-4f33-e3b3-ca93a894287c"
      },
      "outputs": [
        {
          "name": "stdout",
          "output_type": "stream",
          "text": [
            "(5, 40, 91, 136, 80)\n"
          ]
        }
      ],
      "source": [
        "tup = (1, 5, 7, 8, 10)\n",
        "\n",
        "#  Convert it to a list (tuples are immutable)\n",
        "res = []\n",
        "\n",
        "#  Loop through the elements using index\n",
        "for i in range(len(tup)):\n",
        "    if i == 0:\n",
        "        res.append(tup[i] * tup[i + 1])  # First element * next\n",
        "    elif i == len(tup) - 1:\n",
        "        res.append(tup[i] * tup[i - 1])  # Last element * previous\n",
        "    else:\n",
        "        left = tup[i] * tup[i - 1]       # Current * previous\n",
        "        right = tup[i] * tup[i + 1]      # Current * next\n",
        "        res.append(left + right)\n",
        "\n",
        "#  Convert result back to tuple\n",
        "result_tuple = tuple(res)\n",
        "\n",
        "#  Print the result\n",
        "print(result_tuple)\n"
      ]
    },
    {
      "cell_type": "markdown",
      "metadata": {
        "id": "x0psnUiu2ZVp"
      },
      "source": [
        "###`Q3`: Check is tuples are same or not?\n",
        "Two tuples would be same if both tuples have same element at same index\n",
        "```\n",
        "t1 = (1,2,3,0)\n",
        "t2 = (0,1,2,3)\n",
        "\n",
        "t1 and t2 are not same\n",
        "```"
      ]
    },
    {
      "cell_type": "code",
      "execution_count": null,
      "metadata": {
        "id": "JMVw9EhSrPEc",
        "outputId": "be8c9e0d-3056-44ec-b060-a920eac9919b"
      },
      "outputs": [
        {
          "name": "stdout",
          "output_type": "stream",
          "text": [
            "t1 and t2 are not same\n"
          ]
        }
      ],
      "source": [
        "t1 = (1, 2, 3, 0)\n",
        "t2 = (0, 1, 2, 3)\n",
        "\n",
        "if t1 == t2:\n",
        "    print(\"t1 and t2 are same\")\n",
        "else:\n",
        "    print(\"t1 and t2 are not same\")\n"
      ]
    },
    {
      "cell_type": "markdown",
      "metadata": {
        "id": "aZ4rObHK4fCN"
      },
      "source": [
        "###`Q4`: Count no of tuples, list and set from a list\n",
        "```\n",
        "list1 = [{'hi', 'bye'},{'Geeks', 'forGeeks'},('a', 'b'),['hi', 'bye'],['a', 'b']]\n",
        "\n",
        "```\n",
        "`Output:`\n",
        "\n",
        "```\n",
        "List-2\n",
        "Set-2\n",
        "Tuples-1\n",
        "```"
      ]
    },
    {
      "cell_type": "code",
      "execution_count": null,
      "metadata": {
        "id": "g_Bnuczk69tG",
        "outputId": "5a2b06f7-19ef-4b11-ebf5-8b34f84d1b2d"
      },
      "outputs": [
        {
          "name": "stdout",
          "output_type": "stream",
          "text": [
            "List-2\n",
            "Set-2\n",
            "Tuples-1\n"
          ]
        }
      ],
      "source": [
        "list1 = [{'hi', 'bye'}, {'Geeks', 'forGeeks'}, ('a', 'b'), ['hi', 'bye'], ['a', 'b']]\n",
        "\n",
        "# Counters\n",
        "list_count = 0\n",
        "set_count = 0\n",
        "tuple_count = 0\n",
        "\n",
        "# Loop through each element and check its type\n",
        "for item in list1:\n",
        "    if isinstance(item, list):\n",
        "        list_count += 1\n",
        "    elif isinstance(item, set):\n",
        "        set_count += 1\n",
        "    elif isinstance(item, tuple):\n",
        "        tuple_count += 1\n",
        "\n",
        "# Print result\n",
        "print(f\"List-{list_count}\")\n",
        "print(f\"Set-{set_count}\")\n",
        "print(f\"Tuples-{tuple_count}\")\n"
      ]
    },
    {
      "cell_type": "markdown",
      "metadata": {
        "id": "jInFNuit8hf1"
      },
      "source": [
        "###`Q5`: Shortlist Students for a Job role\n",
        "Ask user to input students record and store in tuples for each record. Then Ask user to input three things he wants in the candidate- Primary Skill, Higher Education, Year of Graduation.\n",
        "\n",
        "Show every students record in form of tuples if matches all required criteria.\n",
        "\n",
        "It is assumed that there will be only one primry skill.\n",
        "\n",
        "If no such candidate found, print `No such candidate`\n",
        "\n",
        "`Input:`\n",
        "```\n",
        "Enter No of records- 2\n",
        "Enter Details of student-1\n",
        "Enter Student name- Manohar\n",
        "Enter Higher Education- B.Tech\n",
        "Enter Primary Skill- Python\n",
        "Enter Year of Graduation- 2022\n",
        "Enter Details of student-2\n",
        "Enter Student name- Ponian\n",
        "Enter Higher Education- B.Sc.\n",
        "Enter Primary Skill- C++\n",
        "Enter Year of Graduation- 2020\n",
        "\n",
        "Enter Job Role Requirement\n",
        "Enter Skill- Python\n",
        "Enter Higher Education- B.Tech\n",
        "Enter Year of Graduation- 2022\n",
        "```\n",
        "\n",
        "`Output`\n",
        "```\n",
        "('Manohar', 'B.tech', 'Python', '2022')\n",
        "```\n"
      ]
    },
    {
      "cell_type": "code",
      "execution_count": null,
      "metadata": {
        "id": "erh9QZaerSHk",
        "outputId": "ed8db1e6-ddb8-47b1-a57b-61fbfe95d633"
      },
      "outputs": [
        {
          "name": "stdout",
          "output_type": "stream",
          "text": [
            "\n",
            "Enter Details of student-1\n",
            "\n",
            "Enter Details of student-2\n",
            "\n",
            "Enter Details of student-3\n",
            "\n",
            "Enter Details of student-4\n",
            "\n",
            "Enter Details of student-5\n",
            "\n",
            "Enter Job Role Requirement\n",
            "No such candidate\n"
          ]
        }
      ],
      "source": [
        "# Take number of records\n",
        "n = int(input(\"Enter No of records: \"))\n",
        "\n",
        "# Create list to store student records\n",
        "students = []\n",
        "\n",
        "#  Take input for each student\n",
        "for i in range(n):\n",
        "    print(f\"\\nEnter Details of student-{i+1}\")\n",
        "    name = input(\"Enter Student name: \")\n",
        "    education = input(\"Enter Higher Education: \")\n",
        "    skill = input(\"Enter Primary Skill: \")\n",
        "    year = input(\"Enter Year of Graduation: \")\n",
        "\n",
        "    students.append((name, education, skill, year))  # Store as tuple\n",
        "\n",
        "# Take Job Requirements\n",
        "print(\"\\nEnter Job Role Requirement\")\n",
        "req_skill = input(\"Enter Skill: \")\n",
        "req_education = input(\"Enter Higher Education: \")\n",
        "req_year = input(\"Enter Year of Graduation: \")\n",
        "\n",
        "# Filter and Show Matches\n",
        "found = False\n",
        "\n",
        "for student in students:\n",
        "    if (student[1].lower() == req_education.lower() and\n",
        "        student[2].lower() == req_skill.lower() and\n",
        "        student[3] == req_year):\n",
        "        print(student)\n",
        "        found = True\n",
        "\n",
        "if not found:\n",
        "    print(\"No such candidate\")\n"
      ]
    },
    {
      "cell_type": "markdown",
      "metadata": {
        "id": "l4hLvwD2BeIN"
      },
      "source": [
        "# Set"
      ]
    },
    {
      "cell_type": "markdown",
      "metadata": {
        "id": "zCX0Sk2IBfu8"
      },
      "source": [
        "###`Q1:` Write a program to find set of common elements in three lists using sets.\n",
        "```\n",
        "Input : ar1 = [1, 5, 10, 20, 40, 80]\n",
        "        ar2 = [6, 7, 20, 80, 100]\n",
        "        ar3 = [3, 4, 15, 20, 30, 70, 80, 120]\n",
        "\n",
        "Output : [80, 20]\n",
        "```"
      ]
    },
    {
      "cell_type": "code",
      "execution_count": null,
      "metadata": {
        "id": "rqATYpBUrUQU",
        "outputId": "e09a5289-3675-4f27-e241-96ec8e204858"
      },
      "outputs": [
        {
          "name": "stdout",
          "output_type": "stream",
          "text": [
            "[80, 20]\n"
          ]
        }
      ],
      "source": [
        "ar1 = [1, 5, 10, 20, 40, 80]\n",
        "ar2 = [6, 7, 20, 80, 100]\n",
        "ar3 = [3, 4, 15, 20, 30, 70, 80, 120]\n",
        "\n",
        "# Convert lists to sets\n",
        "set1 = set(ar1)\n",
        "set2 = set(ar2)\n",
        "set3 = set(ar3)\n",
        "\n",
        "# Find intersection (common elements)\n",
        "common_elements = list(set1 & set2 & set3)\n",
        "\n",
        "#  sort in reverse order to match expected output\n",
        "common_elements.sort(reverse=True)\n",
        "\n",
        "print(common_elements)\n"
      ]
    },
    {
      "cell_type": "markdown",
      "metadata": {
        "id": "0gOVS-0yCYrK"
      },
      "source": [
        "###`Q2:` Write a program to count unique number of vowels using sets in a given string. Lowercase and upercase vowels will be taken as different.\n",
        "\n",
        "`Input:`\n",
        "```\n",
        "Str1 = \"hands-on data science mentorship progrAm with live classes at affordable fee only on CampusX\"\n",
        "```\n",
        "`Output:`\n",
        "```\n",
        "No of unique vowels-6\n",
        "```"
      ]
    },
    {
      "cell_type": "code",
      "execution_count": null,
      "metadata": {
        "id": "0vAlEAOzDihm",
        "outputId": "1a1f29be-71c6-439e-d36a-35cd9d2497ea"
      },
      "outputs": [
        {
          "name": "stdout",
          "output_type": "stream",
          "text": [
            "No of unique vowels- 6\n"
          ]
        }
      ],
      "source": [
        "# Define the string\n",
        "Str1 = \"hands-on data science mentorship progrAm with live classes at affordable fee only on CampusX\"\n",
        "\n",
        "# Define all vowels (case-sensitive)\n",
        "vowels = set('aeiouAEIOU')\n",
        "\n",
        "# Use set comprehension to collect unique vowels from the string\n",
        "unique_vowels = {ch for ch in Str1 if ch in vowels}\n",
        "\n",
        "# Print the result\n",
        "print(\"No of unique vowels-\", len(unique_vowels))\n"
      ]
    },
    {
      "cell_type": "markdown",
      "metadata": {
        "id": "fqLZxiarEne5"
      },
      "source": [
        "### `Q3:` Write a program to Check if a given string is binary string of or not.\n",
        "\n",
        "A string is said to be binary if it's consists of only two unique characters.\n",
        "\n",
        "Take string input from user.\n",
        "\n",
        "```\n",
        "Input: str = \"01010101010\"\n",
        "Output: Yes\n",
        "\n",
        "Input: str = \"1222211\"\n",
        "Output: Yes\n",
        "\n",
        "Input: str = \"Campusx\"\n",
        "Output: No\n",
        "```"
      ]
    },
    {
      "cell_type": "code",
      "execution_count": null,
      "metadata": {
        "id": "5M5v8LoYrXkE",
        "outputId": "acc02c18-d24a-413a-8e69-00bfef341860"
      },
      "outputs": [
        {
          "name": "stdout",
          "output_type": "stream",
          "text": [
            "No\n"
          ]
        }
      ],
      "source": [
        "# Take input from user\n",
        "user_input = input(\"Enter a string: \")\n",
        "\n",
        "# Convert string to set to find unique characters\n",
        "unique_chars = set(user_input)\n",
        "\n",
        "# Check if exactly 2 unique characters\n",
        "if len(unique_chars) == 2:\n",
        "    print(\"Yes\")\n",
        "else:\n",
        "    print(\"No\")\n"
      ]
    },
    {
      "cell_type": "markdown",
      "metadata": {
        "id": "xXS8wYH1mDqx"
      },
      "source": [
        "### `Q4`: find union of n arrays.\n",
        "\n",
        "**Example 1:**\n",
        "\n",
        "Input:\n",
        "```bash\n",
        "[[1, 2, 2, 4, 3, 6],\n",
        " [5, 1, 3, 4],\n",
        " [9, 5, 7, 1],\n",
        " [2, 4, 1, 3]]\n",
        "```\n",
        "\n",
        "Output:\n",
        "\n",
        "```bash\n",
        "[1, 2, 3, 4, 5, 6, 7, 9]\n",
        "```"
      ]
    },
    {
      "cell_type": "code",
      "execution_count": null,
      "metadata": {
        "id": "FVNyK6MbncU8",
        "outputId": "ea625d59-6e3d-405c-c30e-c597cbfb0943"
      },
      "outputs": [
        {
          "name": "stdout",
          "output_type": "stream",
          "text": [
            "[1, 2, 3, 4, 5, 6, 7, 9]\n"
          ]
        }
      ],
      "source": [
        "arr = [\n",
        "    [1, 2, 2, 4, 3, 6],\n",
        "    [5, 1, 3, 4],\n",
        "    [9, 5, 7, 1],\n",
        "    [2, 4, 1, 3]\n",
        "]\n",
        "\n",
        "#  Use set to store unique elements\n",
        "union_set = set()\n",
        "\n",
        "#  Loop through each sublist and add elements to the set\n",
        "for sublist in arr:\n",
        "    union_set.update(sublist)  # update() adds multiple elements\n",
        "\n",
        "#  Convert set to sorted list\n",
        "result = sorted(list(union_set))\n",
        "\n",
        "#  Print result\n",
        "print(result)\n"
      ]
    },
    {
      "cell_type": "markdown",
      "metadata": {
        "id": "T_Re21BdndOz"
      },
      "source": [
        "### `Q5`: Intersection of two lists. Intersection of two list means we need to take all those elements which are common to both of the initial lists and store them into another list. Only use using **list-comprehension**.\n",
        "\n",
        "**Example 1:**\n",
        "\n",
        "Input:\n",
        "```bash\n",
        "lst1 = {15, 9, 10, 56, 23, 78, 5, 4, 9}\n",
        "lst2 = {9, 4, 5, 36, 47, 26, 10, 45, 87}\n",
        "```\n",
        "\n",
        "Output:\n",
        "```bash\n",
        "[9, 10, 4, 5]\n",
        "```\n",
        "\n",
        "**Example 2:**\n",
        "\n",
        "Input:\n",
        "```bash\n",
        "lst1 = {4, 9, 1, 17, 11, 26, 28, 54, 69}\n",
        "lst2 = {9, 9, 74, 21, 45, 11, 63, 28, 26}\n",
        "```\n",
        "\n",
        "Output:\n",
        "```bash\n",
        "[9, 11, 26, 28]\n",
        "```"
      ]
    },
    {
      "cell_type": "code",
      "execution_count": null,
      "metadata": {
        "id": "nWnL25ftoLVT",
        "outputId": "fea09794-a67b-4e19-cbb6-d89144092ec8"
      },
      "outputs": [
        {
          "name": "stdout",
          "output_type": "stream",
          "text": [
            "[4, 5, 9, 10]\n"
          ]
        }
      ],
      "source": [
        "lst1 = {15, 9, 10, 56, 23, 78, 5, 4, 9}\n",
        "lst2 = {9, 4, 5, 36, 47, 26, 10, 45, 87}\n",
        "\n",
        "intersection = [x for x in lst1 if x in lst2]\n",
        "\n",
        "print(intersection)\n"
      ]
    },
    {
      "cell_type": "markdown",
      "metadata": {
        "id": "tD2RSYn1a8oA"
      },
      "source": [
        "# Dictionary"
      ]
    },
    {
      "cell_type": "markdown",
      "metadata": {
        "id": "7tUjHhcPbQzQ"
      },
      "source": [
        "### `Q1`: Key with maximum unique values\n",
        "\n",
        "Given a dictionary with values list, extract key whose value has most unique values.\n",
        "\n",
        "**Example 1:**\n",
        "\n",
        "Input:\n",
        "\n",
        "```bash\n",
        "test_dict = {\"CampusX\" : [5, 7, 9, 4, 0], \"is\" : [6, 7, 4, 3, 3], \"Best\" : [9, 9, 6, 5, 5]}\n",
        "```\n",
        "\n",
        "Output:\n",
        "```bash\n",
        "CampusX\n",
        "```\n",
        "\n",
        "**Example 2:**\n",
        "\n",
        "Input:\n",
        "```bash\n",
        "test_dict = {\"CampusX\" : [5, 7, 7, 7, 7], \"is\" : [6, 7, 7, 7], \"Best\" : [9, 9, 6, 5, 5]}\n",
        "```\n",
        "\n",
        "Output:\n",
        "```bash\n",
        "Best\n",
        "```"
      ]
    },
    {
      "cell_type": "code",
      "execution_count": null,
      "metadata": {
        "id": "N8KHX863lNxL",
        "outputId": "2d1b75a4-28ee-419f-c26d-69ae3a0f26f7"
      },
      "outputs": [
        {
          "name": "stdout",
          "output_type": "stream",
          "text": [
            "CampusX\n"
          ]
        }
      ],
      "source": [
        "test_dict = {\"CampusX\" : [5, 7, 9, 4, 0], \"is\" : [6, 7, 4, 3, 3], \"Best\" : [9, 9, 6, 5, 5]}\n",
        "\n",
        "# Use max() with key argument\n",
        "result = max(test_dict, key=lambda k: len(set(test_dict[k])))\n",
        "\n",
        "#  Print the result\n",
        "print(result)\n"
      ]
    },
    {
      "cell_type": "markdown",
      "metadata": {
        "id": "_S5X6C84dWdJ"
      },
      "source": [
        "### `Q2`: Replace words from Dictionary. Given String, replace it’s words from lookup dictionary.\n",
        "\n",
        "**Example 1:**\n",
        "\n",
        "Input:\n",
        "\n",
        "```bash\n",
        "test_str = 'CampusX best for DS students.'\n",
        "repl_dict = {\"best\" : \"is the best channel\", \"DS\" : \"Data-Science\"}\n",
        "```\n",
        "\n",
        "Output:\n",
        "\n",
        "```bash\n",
        "CampusX is the best channel for Data-Science students.\n",
        "```\n",
        "\n",
        "**Example 2:**\n",
        "\n",
        "Input:\n",
        "```bash\n",
        "test_str = 'CampusX best for DS students.'\n",
        "repl_dict = {\"good\" : \"is the best channel\", \"ds\" : \"Data-Science\"}\n",
        "```\n",
        "\n",
        "Output:\n",
        "```bash\n",
        "CampusX best for DS students.\n",
        "```"
      ]
    },
    {
      "cell_type": "code",
      "execution_count": null,
      "metadata": {
        "id": "BTAQ8qnrlOxr",
        "outputId": "a3bad44d-6225-4bd1-aa73-c4e862fba4dd"
      },
      "outputs": [
        {
          "name": "stdout",
          "output_type": "stream",
          "text": [
            "CampusX is the best channel for Data-Science students.\n"
          ]
        }
      ],
      "source": [
        "# Input string and replacement dictionary\n",
        "test_str = 'CampusX best for DS students.'\n",
        "repl_dict = {\"best\": \"is the best channel\", \"DS\": \"Data-Science\"}\n",
        "\n",
        "# Split the sentence into words\n",
        "words = test_str.split()\n",
        "\n",
        "#  Replace words using dictionary\n",
        "replaced = [repl_dict.get(word, word) for word in words]\n",
        "\n",
        "#  Join the words back into a sentence\n",
        "result = ' '.join(replaced)\n",
        "\n",
        "print(result)\n"
      ]
    },
    {
      "cell_type": "markdown",
      "metadata": {
        "id": "55xgap3zfbcR"
      },
      "source": [
        "### `Q3`: Convert List to List of dictionaries. Given list values and keys list, convert these values to key value pairs in form of list of dictionaries.\n",
        "\n",
        "**Example 1:**\n",
        "\n",
        "Input:\n",
        "```bash\n",
        "test_list = [\"DataScience\", 3, \"is\", 8]\n",
        "key_list = [\"name\", \"id\"]\n",
        "```\n",
        "\n",
        "Output:\n",
        "\n",
        "```bash\n",
        "[{'name': 'DataScience', 'id': 3}, {'name': 'is', 'id': 8}]\n",
        "```\n",
        "\n",
        "**Example 2:**\n",
        "\n",
        "Input:\n",
        "```bash\n",
        "test_list = [\"CampusX\", 10]\n",
        "key_list = [\"name\", \"id\"]\n",
        "```\n",
        "\n",
        "Output:\n",
        "\n",
        "```bash\n",
        "[{'name': 'CampusX', 'id': 10}]\n",
        "```"
      ]
    },
    {
      "cell_type": "code",
      "execution_count": null,
      "metadata": {
        "id": "jbCajI87lQFr",
        "outputId": "e3968d01-5ad1-4ac3-80a0-d3e2d22444ff"
      },
      "outputs": [
        {
          "name": "stdout",
          "output_type": "stream",
          "text": [
            "[{'name': 'DataScience', 'id': 3}, {'name': 'is', 'id': 8}]\n"
          ]
        }
      ],
      "source": [
        "test_list = [\"DataScience\", 3, \"is\", 8]\n",
        "key_list = [\"name\", \"id\"]\n",
        "\n",
        "# Length of each group\n",
        "group_size = len(key_list)\n",
        "\n",
        "#  Use list comprehension + zip() + slicing\n",
        "result = [\n",
        "    dict(zip(key_list, test_list[i:i + group_size]))\n",
        "    for i in range(0, len(test_list), group_size)\n",
        "]\n",
        "\n",
        "print(result)\n"
      ]
    },
    {
      "cell_type": "markdown",
      "metadata": {
        "id": "5RxBlLQahLkB"
      },
      "source": [
        "### `Q4`: Convert a list of Tuples into Dictionary.\n",
        "\n",
        "**Example 1:**\n",
        "\n",
        "Input:\n",
        "```bash\n",
        "[(\"akash\", 10), (\"gaurav\", 12), (\"anand\", 14), (\"suraj\", 20), (\"akhil\", 25), (\"ashish\", 30)]\n",
        "```\n",
        "\n",
        "Output:\n",
        "```bash\n",
        "{'akash': [10], 'gaurav': [12], 'anand': [14], 'suraj': [20], 'akhil': [25], 'ashish': [30]}\n",
        "```\n",
        "\n",
        "**Example 2:**\n",
        "\n",
        "Input:\n",
        "```bash\n",
        "[('A', 1), ('B', 2), ('C', 3)]\n",
        "```\n",
        "\n",
        "Output:\n",
        "```bash\n",
        "{'A': [1], 'B': [2], 'C': [3]}\n",
        "```"
      ]
    },
    {
      "cell_type": "code",
      "execution_count": null,
      "metadata": {
        "id": "f1yz7inMlQ5N",
        "outputId": "8f5a727f-fdcf-4bea-e352-d876ccc9f0a3"
      },
      "outputs": [
        {
          "name": "stdout",
          "output_type": "stream",
          "text": [
            "{'akash': [10], 'gaurav': [12], 'anand': [14], 'suraj': [20], 'akhil': [25], 'ashish': [30]}\n"
          ]
        }
      ],
      "source": [
        "data = [(\"akash\", 10), (\"gaurav\", 12), (\"anand\", 14),\n",
        "        (\"suraj\", 20), (\"akhil\", 25), (\"ashish\", 30)]\n",
        "\n",
        "# Use dictionary comprehension\n",
        "result = {key: [value] for key, value in data}\n",
        "\n",
        "print(result)\n"
      ]
    },
    {
      "cell_type": "markdown",
      "metadata": {
        "id": "Fz8EzJD-kBkS"
      },
      "source": [
        "### `Q5`: Sort Dictionary key and values List.\n",
        "\n",
        "**Example 1:**\n",
        "\n",
        "Input:\n",
        "\n",
        "```bash\n",
        "{'c': [3], 'b': [12, 10], 'a': [19, 4]}\n",
        "```\n",
        "\n",
        "Output:\n",
        "\n",
        "```bash\n",
        "{'a': [4, 19], 'b': [10, 12], 'c': [3]}\n",
        "```\n",
        "\n",
        "**Example 2:**\n",
        "\n",
        "Input:\n",
        "\n",
        "```bash\n",
        "{'c': [10, 34, 3]}\n",
        "```\n",
        "\n",
        "Output:\n",
        "\n",
        "```bash\n",
        "{'c': [3, 10, 34]}\n",
        "```"
      ]
    },
    {
      "cell_type": "code",
      "execution_count": null,
      "metadata": {
        "id": "x9UmJ4EQk7Pp",
        "outputId": "06c6fccd-c0da-4fb5-c42c-4fdbc3d9ddfa"
      },
      "outputs": [
        {
          "name": "stdout",
          "output_type": "stream",
          "text": [
            "{'a': [4, 19], 'b': [10, 12], 'c': [3]}\n"
          ]
        }
      ],
      "source": [
        "# Input dictionary\n",
        "data = {'c': [3], 'b': [12, 10], 'a': [19, 4]}\n",
        "\n",
        "# Use dictionary comprehension with sorted keys\n",
        "# Sort the values for each key\n",
        "result = {key: sorted(data[key]) for key in sorted(data)}\n",
        "\n",
        "print(result)\n"
      ]
    }
  ],
  "metadata": {
    "colab": {
      "provenance": [],
      "include_colab_link": true
    },
    "kernelspec": {
      "display_name": "Python 3",
      "name": "python3"
    },
    "language_info": {
      "codemirror_mode": {
        "name": "ipython",
        "version": 3
      },
      "file_extension": ".py",
      "mimetype": "text/x-python",
      "name": "python",
      "nbconvert_exporter": "python",
      "pygments_lexer": "ipython3",
      "version": "3.12.10"
    }
  },
  "nbformat": 4,
  "nbformat_minor": 0
}